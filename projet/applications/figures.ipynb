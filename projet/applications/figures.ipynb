{
 "cells": [
  {
   "cell_type": "code",
   "execution_count": null,
   "id": "9375f485",
   "metadata": {},
   "outputs": [],
   "source": [
    "import numpy as np\n",
    "import graphinglib as gl\n",
    "import glob\n",
    "from string import ascii_lowercase\n",
    "\n",
    "from projet.src.tools.smart_figure import SmartFigure\n",
    "from projet.src.spectrums.spectrum import Spectrum"
   ]
  },
  {
   "cell_type": "markdown",
   "id": "b034eedd",
   "metadata": {},
   "source": [
    "# All spectra figure"
   ]
  },
  {
   "cell_type": "code",
   "execution_count": null,
   "id": "0b04b534",
   "metadata": {},
   "outputs": [],
   "source": [
    "np.random.seed(0)\n",
    "\n",
    "filenames = [\"single_gaussian\", \"distinct_gaussians\", \"distinct_twin_gaussians\", \"merged_twin_gaussians\", \n",
    "             \"pointy_gaussians\", \"contaminated_gaussians\", \"two_gaussian_components\"]\n",
    "\n",
    "spectra_filenames = []\n",
    "for filename in filenames:\n",
    "    for noise_level in [\"smooth\", \"noisy\", \"very_noisy\"]:\n",
    "            spectra_filenames.append(f\"projet/data/spectra/{filename}/{noise_level}.txt\")\n",
    "# spectra_filenames = np.array(glob.glob(\"projet/data/spectra/**/*.txt\", recursive=True), dtype=str).reshape(-1, 3)\n",
    "\n",
    "spectrums = [Spectrum.load(spectrum_file) for spectrum_file in spectra_filenames]\n",
    "\n",
    "# Apply a small correction to the two_gaussians_components spectra to show the last two gaussians better\n",
    "spectrums[-3].models[-2].mean = (69, 75)\n",
    "spectrums[-3].models[-1].mean = (69, 75)\n",
    "spectrums[-2].models[-2].mean = (69, 75)\n",
    "spectrums[-2].models[-1].mean = (69, 75)\n",
    "spectrums[-1].models[-2].mean = (69, 75)\n",
    "spectrums[-1].models[-1].mean = (69, 75)\n",
    "# --------------------------------------\n",
    "\n",
    "figs = []\n",
    "for i, (spectrum_type, filenames) in enumerate(zip(\n",
    "    np.array(spectrums, dtype=object).reshape(-1, 3), np.array(spectra_filenames, dtype=object).reshape(-1, 3)\n",
    ")):\n",
    "    figs.append(SmartFigure(\n",
    "        num_rows=1,\n",
    "        num_cols=3,\n",
    "        title=f\"{ascii_lowercase[i]}) {\" \".join(filenames[0].split('/')[-2].split('_'))}\",\n",
    "        remove_x_ticks=True,\n",
    "        share_y=True,\n",
    "        elements=[spectrum_type[0].plot, spectrum_type[1].plot, spectrum_type[2].plot],\n",
    "        reference_labels=False,\n",
    "        width_padding=0,\n",
    "        size=(12, 4),\n",
    "    ))\n",
    "\n",
    "large_fig = SmartFigure(\n",
    "    num_rows=7,\n",
    "    num_cols=1,\n",
    "    x_label=\"Numéro du canal [-]\",\n",
    "    y_label=\"Intensité [u. arb.]\",\n",
    "    size=(14, 17),\n",
    "    elements=figs,\n",
    "    height_padding=0.02,\n",
    "    reference_labels=True\n",
    ")\n",
    "large_fig.show()\n",
    "large_fig.save(\"projet/figures/all_spectra.pdf\", dpi=600)"
   ]
  },
  {
   "cell_type": "code",
   "execution_count": null,
   "id": "17a528da",
   "metadata": {},
   "outputs": [],
   "source": []
  }
 ],
 "metadata": {
  "kernelspec": {
   "display_name": "Python 3",
   "language": "python",
   "name": "python3"
  },
  "language_info": {
   "codemirror_mode": {
    "name": "ipython",
    "version": 3
   },
   "file_extension": ".py",
   "mimetype": "text/x-python",
   "name": "python",
   "nbconvert_exporter": "python",
   "pygments_lexer": "ipython3",
   "version": "3.12.3"
  }
 },
 "nbformat": 4,
 "nbformat_minor": 5
}
