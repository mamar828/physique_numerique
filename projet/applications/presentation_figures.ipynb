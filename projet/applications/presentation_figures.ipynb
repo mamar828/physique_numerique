{
 "cells": [
  {
   "cell_type": "code",
   "execution_count": 1,
   "id": "cf0e22b3",
   "metadata": {},
   "outputs": [],
   "source": [
    "import numpy as np\n",
    "import graphinglib as gl\n",
    "import pandas as pd\n",
    "import matplotlib.pyplot as plt\n",
    "from matplotlib.transforms import ScaledTranslation\n",
    "from torch.utils.data import DataLoader\n",
    "from string import ascii_lowercase\n",
    "from copy import deepcopy\n",
    "\n",
    "from projet.src.tools.smart_figure import SmartFigure\n",
    "from projet.src.spectrums.spectrum import Spectrum\n",
    "from projet.src.data_structures.spectrum_dataset import SpectrumDataset\n",
    "from projet.src.spectrums.initial_guesses import find_peaks_gaussian_estimates\n",
    "from projet.src.fitters.scipy_fitter import ScipyFitter\n",
    "from projet.src.fitters.cnn_fitter import CNNFitter\n",
    "from projet.src.fitters.res_net_fitter import ResNetFitter\n",
    "from projet.src.fitters.score import *\n",
    "from projet.src.tools.utilities import *\n",
    "\n",
    "np.random.seed(0)"
   ]
  },
  {
   "cell_type": "markdown",
   "id": "86723d25",
   "metadata": {},
   "source": [
    "# Spectra"
   ]
  },
  {
   "cell_type": "code",
   "execution_count": null,
   "id": "a5f2269d",
   "metadata": {},
   "outputs": [],
   "source": [
    "np.random.seed(0)\n",
    "\n",
    "filenames = [\"single_gaussian\", \"distinct_gaussians\", \"distinct_twin_gaussians\", \"merged_twin_gaussians\", \n",
    "             \"pointy_gaussians\", \"contaminated_gaussians\", \"two_gaussian_components\"]\n",
    "\n",
    "spectra_filenames = []\n",
    "for filename in filenames:\n",
    "    for noise_level in [\"smooth\", \"noisy\", \"very_noisy\"]:\n",
    "            spectra_filenames.append(f\"projet/data/spectra/{filename}/{noise_level}.txt\")\n",
    "\n",
    "spectrums = [Spectrum.load(spectrum_file) for spectrum_file in spectra_filenames]\n",
    "\n",
    "# Apply a small correction to the two_gaussians_components spectra to show the last two gaussians better\n",
    "spectrums[-3].models[-2].mean = (69, 75)\n",
    "spectrums[-3].models[-1].mean = (69, 75)\n",
    "spectrums[-2].models[-2].mean = (69, 75)\n",
    "spectrums[-2].models[-1].mean = (69, 75)\n",
    "spectrums[-1].models[-2].mean = (69, 75)\n",
    "spectrums[-1].models[-1].mean = (69, 75)\n",
    "# --------------------------------------\n",
    "\n",
    "figs = []\n",
    "for i, (spectrum_type, spec_filenames) in enumerate(zip(\n",
    "    np.array(spectrums, dtype=object).reshape(-1, 3), np.array(spectra_filenames, dtype=object).reshape(-1, 3)\n",
    ")):\n",
    "    figs.append(SmartFigure(\n",
    "        num_rows=1,\n",
    "        num_cols=3,\n",
    "        title=f\"{ascii_lowercase[i]}) {\" \".join(spec_filenames[0].split('/')[-2].split('_'))}\",\n",
    "        remove_x_ticks=True,\n",
    "        share_y=True,\n",
    "        elements=[spectrum_type[0].plot, spectrum_type[1].plot, spectrum_type[2].plot],\n",
    "        reference_labels=False,\n",
    "        width_padding=-0.1,\n",
    "        size=(12, 4),\n",
    "    ))\n",
    "\n",
    "fig_copies = deepcopy(figs)"
   ]
  },
  {
   "cell_type": "code",
   "execution_count": 29,
   "id": "1aa2d5db",
   "metadata": {},
   "outputs": [],
   "source": [
    "fig_copies[0]._x_label = \"Numéro du canal [-]\"\n",
    "fig_copies[0]._y_label = \"Intensité [u. arb.]\"\n",
    "fig_copies[0]._remove_x_ticks = False\n",
    "fig_copies[0]._title = \"single gaussian\"\n",
    "fig_copies[0]._size = (11, 5)\n",
    "# fig_copies[0].show()\n",
    "fig_copies[0].save(\"projet/figures/presentation/spectra_0.png\", dpi=500)"
   ]
  },
  {
   "cell_type": "code",
   "execution_count": 28,
   "id": "460664f5",
   "metadata": {},
   "outputs": [],
   "source": [
    "fig_copies[1]._title = \"distinct gaussians\"\n",
    "fig_copies[4]._remove_x_ticks = False\n",
    "fig_copies[4]._title = \"pointy gaussians\"\n",
    "fig_copies[4]._y_lim = -4, 12.5\n",
    "fig_copies[4]._yticks = [0,  5, 10]\n",
    "\n",
    "fig_1_4 = SmartFigure(\n",
    "    2, 1, \"Numéro du canal [-]\", \"Intensité [u. arb.]\", size=(11, 5), elements=[fig_copies[1], fig_copies[4]]\n",
    ")\n",
    "# fig_1_4.show()\n",
    "fig_1_4.save(\"projet/figures/presentation/spectra_1_4.png\", dpi=500)"
   ]
  },
  {
   "cell_type": "code",
   "execution_count": null,
   "id": "34293b10",
   "metadata": {},
   "outputs": [],
   "source": [
    "fig_copies[2]._title = \"distinct twin gaussians\"\n",
    "fig_copies[2]._y_lim = -3, 11\n",
    "fig_copies[2]._yticks = [0,  5, 10]\n",
    "fig_copies[3]._title = \"merged twin gaussians\"\n",
    "fig_copies[3]._remove_x_ticks = False\n",
    "\n",
    "fig_2_3 = SmartFigure(\n",
    "    2, 1, \"Numéro du canal [-]\", \"Intensité [u. arb.]\", size=(11, 5), elements=[fig_copies[2], fig_copies[3]]\n",
    ")\n",
    "# fig_2_3.show()\n",
    "fig_2_3.save(\"projet/figures/presentation/spectra_2_3.png\", dpi=500)"
   ]
  },
  {
   "cell_type": "code",
   "execution_count": null,
   "id": "78c6565a",
   "metadata": {},
   "outputs": [],
   "source": [
    "fig_copies[5]._title = \"contaminated gaussians\"\n",
    "# fig_copies[5]._y_lim = -3, 11\n",
    "# fig_copies[5]._yticks = [0,  5, 10]\n",
    "fig_copies[6]._title = \"two gaussian components\"\n",
    "fig_copies[6]._remove_x_ticks = False\n",
    "\n",
    "fig_5_6 = SmartFigure(\n",
    "    2, 1, \"Numéro du canal [-]\", \"Intensité [u. arb.]\", size=(11, 5), elements=[fig_copies[5], fig_copies[6]]\n",
    ")\n",
    "# fig_5_6.show()\n",
    "fig_5_6.save(\"projet/figures/presentation/spectra_5_6.png\", dpi=500)"
   ]
  }
 ],
 "metadata": {
  "kernelspec": {
   "display_name": "Python 3",
   "language": "python",
   "name": "python3"
  },
  "language_info": {
   "codemirror_mode": {
    "name": "ipython",
    "version": 3
   },
   "file_extension": ".py",
   "mimetype": "text/x-python",
   "name": "python",
   "nbconvert_exporter": "python",
   "pygments_lexer": "ipython3",
   "version": "3.12.3"
  }
 },
 "nbformat": 4,
 "nbformat_minor": 5
}
