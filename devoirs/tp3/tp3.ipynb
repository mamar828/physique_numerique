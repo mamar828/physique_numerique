{
 "cells": [
  {
   "cell_type": "markdown",
   "metadata": {},
   "source": [
    "# TP 3"
   ]
  },
  {
   "cell_type": "code",
   "execution_count": 20,
   "metadata": {},
   "outputs": [],
   "source": [
    "import numpy as np\n",
    "import graphinglib as gl\n",
    "import matplotlib.pyplot as tas_de_marde\n",
    "import pandas as pd"
   ]
  },
  {
   "cell_type": "markdown",
   "metadata": {},
   "source": [
    "## 3.1 : Décomposition QR par la méthode de Householder"
   ]
  },
  {
   "cell_type": "markdown",
   "metadata": {},
   "source": [
    "### **a)** À l’aide des équations (3.2) et (3.3), démontrez que les matrices de réflexion $Q_i$ sont orthogonales."
   ]
  },
  {
   "cell_type": "markdown",
   "metadata": {},
   "source": [
    "$$\n",
    "\\begin{align*}\n",
    "    Q_i &= \\begin{bmatrix}\n",
    "        I_i & 0 \\\\\n",
    "        0 & H_{m,i}\n",
    "    \\end{bmatrix} \\\\\n",
    "    H_{m,i} &= I_{m - i} - 2 \\frac{v_{m,i} v_{m,i}^T}{v_{m,i}^T v_{m,i}}\n",
    "\\end{align*}\n",
    "$$\n",
    "\n",
    "$$\n",
    "\\begin{align*}\n",
    "    Q_i^T &= \\begin{bmatrix}\n",
    "        I_i^T & 0 \\\\\n",
    "        0 & H_{m,i}^T\n",
    "    \\end{bmatrix} \\\\\n",
    "    &= \\begin{bmatrix}\n",
    "        I_i & 0 \\\\\n",
    "        0 & I_{m - i}^T - 2 \\left(\\frac{v_{m,i} v_{m,i}^T}{v_{m,i}^T v_{m,i}}\\right)^T \n",
    "    \\end{bmatrix} \\\\\n",
    "    &= \\begin{bmatrix}\n",
    "        I_i & 0 \\\\\n",
    "        0 & I_{m - i} - 2 \\frac{v_{m,i} v_{m,i}^T}{v_{m,i}^T v_{m,i}}\n",
    "    \\end{bmatrix} \\\\ &= Q_i\n",
    "\\end{align*}\n",
    "$$\n",
    "\n",
    "$$\n",
    "\\begin{align*}\n",
    "    Q_i^T Q_i &= \\begin{bmatrix}\n",
    "        I_i & 0 \\\\\n",
    "        0 & I_{m - i} - 2 \\frac{v_{m,i} v_{m,i}^T}{v_{m,i}^T v_{m,i}}\n",
    "    \\end{bmatrix}\n",
    "    \\begin{bmatrix}\n",
    "        I_i & 0 \\\\\n",
    "        0 & I_{m - i} - 2 \\frac{v_{m,i} v_{m,i}^T}{v_{m,i}^T v_{m,i}}\n",
    "    \\end{bmatrix} \\\\\n",
    "    &= \\begin{bmatrix}\n",
    "        I_i^2 & 0 \\\\\n",
    "        0 & I_{m - i}^2 - 4 I_{m - i} \\frac{v_{m,i} v_{m,i}^T}{v_{m,i}^T v_{m,i}} + 4 \\frac{v_{m,i} (v_{m,i}^T v_{m,i}) v_{m,i}^T}{(v_{m,i}^T v_{m,i})^2}\n",
    "    \\end{bmatrix} \\\\\n",
    "    &= \\begin{bmatrix}\n",
    "        I_i & 0 \\\\\n",
    "        0 & I_{m - i} - 4 \\frac{v_{m,i} v_{m,i}^T}{v_{m,i}^T v_{m,i}} + 4 \\frac{v_{m,i} v_{m,i}^T}{v_{m,i}^T v_{m,i}}\n",
    "    \\end{bmatrix} \\\\\n",
    "    &= \\begin{bmatrix}\n",
    "        I_i & 0 \\\\\n",
    "        0 & I_{m - i}\n",
    "    \\end{bmatrix} \\\\\n",
    "    &= I_m\n",
    "\\end{align*}\n",
    "$$"
   ]
  },
  {
   "cell_type": "markdown",
   "metadata": {},
   "source": [
    "### **b)** Démontrez l’équation (3.5) et que la matrice $Q$ est orthogonale."
   ]
  },
  {
   "cell_type": "markdown",
   "metadata": {},
   "source": [
    "On dispose de l'équation:\n",
    "$$\n",
    "Q_{n - 1} Q_{n - 2} \\cdots Q_1 Q_0A = R\n",
    "$$\n",
    "Et on désire obtenir une décomposition $QR$ de la forme:\n",
    "$$ A = QR $$\n",
    "Pour ce faire, on prémultiplie chaque côté de l'équation par $Q_{n - 1}^T$, puis par $Q_{n - 2}^T$, et ainsi de suite jusqu'à $Q_0^T$. Étant donné que $Q_i^TQ_i=I_m$, on obtient:\n",
    "$$\n",
    "\\begin{align*}\n",
    "    Q_{n - 1}^TQ_{n - 1} Q_{n - 2} \\cdots Q_1 Q_0A &= Q_{n - 1}^T R \\\\\n",
    "    I_m Q_{n - 2} \\cdots Q_1 Q_0A &= Q_{n - 1}^T R \\\\\n",
    "    Q_{n - 2}^TQ_{n - 2} \\cdots Q_1 Q_0A &= Q_{n - 2}^T Q_{n - 1}^T R \\\\\n",
    "    &\\: \\cdots \\\\\n",
    "    A &= Q_0^T Q_1^T \\cdots Q_{n - 2}^T Q_{n - 1}^TR \\\\\n",
    "    \\Rightarrow Q &= Q_0^T Q_1^T \\cdots Q_{n - 2}^T Q_{n - 1}^T\n",
    "\\end{align*}\n",
    "$$\n",
    "Ce qui démontre l'équation (3.5). On veut ensuite montrer que la matrice $Q$ est orthogonale:\n",
    "$$\n",
    "\\begin{align*}\n",
    "    Q &= Q_0^T Q_1^T \\cdots Q_{n - 2}^T Q_{n - 1}^T \\\\\n",
    "    \\Rightarrow Q^T &= (Q_0^T Q_1^T \\cdots Q_{n - 2}^T Q_{n - 1}^T)^T \\\\\n",
    "    &= Q_{n - 1} Q_{n - 2} \\cdots Q_1 Q_0\n",
    "\\end{align*}\n",
    "$$\n",
    "\n",
    "$$\n",
    "\\begin{align*}\n",
    "    Q^T Q &= (Q_{n - 1} Q_{n - 2} \\cdots Q_1 Q_0) (Q_0^T Q_1^T \\cdots Q_{n - 2}^T Q_{n - 1}^T) \\\\\n",
    "    &= Q_{n - 1} Q_{n - 2} \\cdots Q_1 Q_0 Q_0^T Q_1^T \\cdots Q_{n - 2}^T Q_{n - 1}^T\n",
    "\\end{align*}\n",
    "$$\n",
    "En **a)**, on a démontré que $Q_i^T = Q_i$ et que $Q_i^T Q_i = I$. $Q_i^T$ est donc la matrice inverse de $Q_i$, ce qui veut dire qu'on a également $Q_iQ_i^T = I$. On peut alors annuler les termes à partir du centre dans l'expression pour $Q^T Q$ :\n",
    "$$\n",
    "\\begin{align*}\n",
    "    Q^T Q &= Q_{n - 1} Q_{n - 2} \\cdots Q_1 (Q_0 Q_0^T) Q_1^T \\cdots Q_{n - 2}^T Q_{n - 1}^T \\\\\n",
    "    &= Q_{n - 1} Q_{n - 2} \\cdots Q_1 I Q_1^T \\cdots Q_{n - 2}^T Q_{n - 1}^T \\\\\n",
    "    &= Q_{n - 1} Q_{n - 2} \\cdots (Q_1 Q_1^T) \\cdots Q_{n - 2}^T Q_{n - 1}^T \\\\\n",
    "    &\\: \\cdots \\\\\n",
    "    &= I\n",
    "\\end{align*}"
   ]
  },
  {
   "cell_type": "markdown",
   "metadata": {},
   "source": [
    "### **c)** Implémentez la fonction `householder_qr` qui prend en argument une matrice $A$ et qui retourne les matrices $Q$ et $R$ obtenues par la méthode de Householder."
   ]
  },
  {
   "cell_type": "code",
   "execution_count": 14,
   "metadata": {},
   "outputs": [],
   "source": [
    "def householder_qr(A: np.ndarray) -> tuple[np.ndarray, np.ndarray]:\n",
    "    \"\"\"\n",
    "    Performe une décomposition QR d'une matrice en utilisant la méthode de Householder\n",
    "\n",
    "    Paramètres:\n",
    "    -----------\n",
    "    A (np.ndarray) : La matrice à décomposer\n",
    "\n",
    "    Retourne:\n",
    "    --------\n",
    "    tuple[np.ndarray, np.ndarray]\n",
    "        Un tuple contenant deux numpy arrays:\n",
    "        - Q: La matrice orthogonale\n",
    "        - R: La matrice triangulaire supérieure résultante\n",
    "    \"\"\"\n",
    "    m, n = A.shape\n",
    "    Q = np.eye(m)\n",
    "    R = np.copy(A)\n",
    "    for i in range(n):\n",
    "        x = R[i:, i]\n",
    "        e_1 = np.zeros(m - i)\n",
    "        e_1[0] = 1\n",
    "        v = np.sign(x[0]) * np.linalg.norm(x) * e_1 + x\n",
    "        H = np.eye(m - i) - 2 * np.outer(v, v.T) / np.dot(v.T, v)\n",
    "        Q_i = np.eye(m)\n",
    "        Q_i[i:, i:] = H\n",
    "        Q = np.dot(Q, Q_i.T)\n",
    "        R = np.dot(Q_i, R)\n",
    "    return Q, R"
   ]
  },
  {
   "cell_type": "markdown",
   "metadata": {},
   "source": [
    "### **d)** À l’aide d’une matrice de dimension $4 \\times 3$ de votre choix, testez votre fonction `householder_qr` et comparez les résultats obtenus avec ceux obtenus à l’aide de la fonction `numpy.linalg.qr`. Les matrices sont-elles exactement les mêmes ? Si non, est-ce un problème ?"
   ]
  },
  {
   "cell_type": "code",
   "execution_count": 15,
   "metadata": {},
   "outputs": [
    {
     "name": "stdout",
     "output_type": "stream",
     "text": [
      "householder_qr :\n",
      "Q = [[-0.07761505 -0.83305216  0.1271286  -0.53276479]\n",
      " [-0.31046021 -0.45123659  0.22759462  0.80510912]\n",
      " [-0.54330537 -0.06942101 -0.83657505 -0.01192387]\n",
      " [-0.77615053  0.31239456  0.48185183 -0.26042046]]\n",
      "R = [[-1.28840987e+01 -1.45916299e+01 -1.62991610e+01]\n",
      " [ 1.39795446e-15 -1.04131520e+00 -2.08263040e+00]\n",
      " [-6.92420769e-16  2.31249164e-17  1.42271586e-15]\n",
      " [ 8.51352996e-16  1.14653053e-16  4.42011077e-32]]\n",
      "np.linalg.qr :\n",
      "Q = [[-0.07761505 -0.83305216  0.5400942   0.09109478]\n",
      " [-0.31046021 -0.45123659 -0.78802363  0.28110274]\n",
      " [-0.54330537 -0.06942101 -0.04423532 -0.83548982]\n",
      " [-0.77615053  0.31239456  0.29216476  0.4632923 ]]\n",
      "R = [[-1.28840987e+01 -1.45916299e+01 -1.62991610e+01]\n",
      " [ 0.00000000e+00 -1.04131520e+00 -2.08263040e+00]\n",
      " [ 0.00000000e+00  0.00000000e+00  1.12739058e-15]\n",
      " [ 0.00000000e+00  0.00000000e+00  0.00000000e+00]]\n"
     ]
    }
   ],
   "source": [
    "A = np.array([[1, 2, 3],\n",
    "              [4, 5, 6],\n",
    "              [7, 8, 9],\n",
    "              [10, 11, 12]])\n",
    "\n",
    "Q, R = householder_qr(A)\n",
    "print(\"householder_qr :\", f'Q = {Q}', f'R = {R}', sep='\\n')\n",
    "\n",
    "Q, R = np.linalg.qr(A, mode='complete')\n",
    "print(\"np.linalg.qr :\", f'Q = {Q}', f'R = {R}', sep='\\n')"
   ]
  },
  {
   "cell_type": "markdown",
   "metadata": {},
   "source": [
    "Explication : En négligeant les termes de l'ordre de $10^{-15}$ ou moins, on constate que les matrices $R$ ainsi que les deux premières colonnes de $Q$ sont identiques. Les deux dernières colonnes de $Q$ sont différentes, mais puisque les deux dernières lignes de $R$ sont nulles, cela ne change rien au résultat $A=QR$. Cela n'est donc pas un problème, d'autant plus que selon les dimensions et le rang de la matrice $A$, la décomposition $QR$ n'est pas toujours unique."
   ]
  },
  {
   "cell_type": "markdown",
   "metadata": {},
   "source": [
    "### **e)** À l’aide de la matrice utilisée en **d**, illustrez comment la multiplication successive des matrices $Q_i$ triangularise progressivement la matrice $A$. Dans l’élan, assurez-vous que les matrices $Q$ et $R$ obtenues sont bien orthogonale et triangulaire supérieure, respectivement."
   ]
  },
  {
   "cell_type": "code",
   "execution_count": 16,
   "metadata": {},
   "outputs": [
    {
     "name": "stdout",
     "output_type": "stream",
     "text": [
      "A = [[ 1  2  3]\n",
      " [ 4  5  6]\n",
      " [ 7  8  9]\n",
      " [10 11 12]]\n",
      "i = 0 : Q^T * A = \n",
      "[[-1.28840987e+01 -1.45916299e+01 -1.62991610e+01]\n",
      " [ 3.88578059e-16  2.19961998e-01  4.39923997e-01]\n",
      " [ 1.33226763e-15 -3.65066503e-01 -7.30133006e-01]\n",
      " [ 1.11022302e-15 -9.50095004e-01 -1.90019001e+00]]\n",
      "i = 1 : Q^T * A = \n",
      "[[-1.28840987e+01 -1.45916299e+01 -1.62991610e+01]\n",
      " [ 1.39795446e-15 -1.04131520e+00 -2.08263040e+00]\n",
      " [ 1.04011178e-15  4.16911681e-17 -1.20275766e-15]\n",
      " [ 3.49879879e-16  1.09279142e-16  7.59930537e-16]]\n",
      "i = 2 : Q^T * A = \n",
      "[[-1.28840987e+01 -1.45916299e+01 -1.62991610e+01]\n",
      " [ 1.39795446e-15 -1.04131520e+00 -2.08263040e+00]\n",
      " [-6.92420769e-16  2.31249164e-17  1.42271586e-15]\n",
      " [ 8.51352996e-16  1.14653053e-16  4.42011077e-32]]\n"
     ]
    }
   ],
   "source": [
    "def householder_qr_successif(A: np.ndarray) -> tuple[np.ndarray, np.ndarray]:\n",
    "    \"\"\"\n",
    "    Performe une décomposition QR d'une matrice en utilisant la méthode de Householder\n",
    "\n",
    "    Paramètres:\n",
    "    -----------\n",
    "    A (np.ndarray) : La matrice à décomposer\n",
    "\n",
    "    Retourne:\n",
    "    --------\n",
    "    tuple[np.ndarray, np.ndarray]\n",
    "        Un tuple contenant deux numpy arrays:\n",
    "        - Q: La matrice orthogonale\n",
    "        - R: La matrice triangulaire supérieure résultante\n",
    "    \"\"\"\n",
    "    print(\"A =\", A)\n",
    "    m, n = A.shape\n",
    "    Q = np.eye(m)\n",
    "    R = np.copy(A)\n",
    "    for i in range(n):\n",
    "        x = R[i:, i]\n",
    "        e_1 = np.zeros(m - i)\n",
    "        e_1[0] = 1\n",
    "        v = np.sign(x[0]) * np.linalg.norm(x) * e_1 + x\n",
    "        H = np.eye(m - i) - 2 * np.outer(v, v.T) / np.dot(v.T, v)\n",
    "        Q_i = np.eye(m)\n",
    "        Q_i[i:, i:] = H\n",
    "        Q = np.dot(Q, Q_i.T)\n",
    "        R = np.dot(Q_i, R)\n",
    "        print(f\"i = {i} : Q^T * A = \\n{R}\")\n",
    "\n",
    "householder_qr_successif(A)"
   ]
  },
  {
   "cell_type": "markdown",
   "metadata": {},
   "source": [
    "On constate que la matrice $R$ obtenue à la dernière itération est bel et bien triangulaire supérieure, car tous les éléments en-dessous de la diagonale principale sont de l'ordre de $10^{-15}$ ou moins, ce qui est négligeable. De plus, on peut vérifier que la matrice $Q$ est bel et bien orthogonale:"
   ]
  },
  {
   "cell_type": "code",
   "execution_count": 17,
   "metadata": {},
   "outputs": [
    {
     "name": "stdout",
     "output_type": "stream",
     "text": [
      "Q^T Q = [[ 1.00000000e+00 -2.09439297e-16  3.55472238e-17 -9.23131987e-17]\n",
      " [-2.09439297e-16  1.00000000e+00 -4.17209745e-17 -1.61063659e-16]\n",
      " [ 3.55472238e-17 -4.17209745e-17  1.00000000e+00  5.40583645e-17]\n",
      " [-9.23131987e-17 -1.61063659e-16  5.40583645e-17  1.00000000e+00]]\n"
     ]
    }
   ],
   "source": [
    "Q, R = householder_qr(A)\n",
    "verif = np.dot(Q.T, Q)\n",
    "print(\"Q^T Q =\", verif)"
   ]
  },
  {
   "cell_type": "markdown",
   "metadata": {},
   "source": [
    "$Q^T Q$ est assez proche de la matrice identité de dimensions $4 \\times 4$, puisque tous les éléments en dehors de la diagonale sont de l'ordre de $10^{-16}$ ou moins, ce qui est négligeable."
   ]
  },
  {
   "cell_type": "markdown",
   "metadata": {},
   "source": [
    "## 3.2 : Mesures imprécises dans un jeu de bataille navale"
   ]
  },
  {
   "cell_type": "markdown",
   "metadata": {},
   "source": [
    "### **a)** Modifiez votre code de décomposition QR pour qu’il retourne la décomposition QR réduite de la matrice d’entrée lorsque l’argument additionnel `reduite=True` lui est passé."
   ]
  },
  {
   "cell_type": "code",
   "execution_count": 19,
   "metadata": {},
   "outputs": [
    {
     "name": "stdout",
     "output_type": "stream",
     "text": [
      "householder_qr :\n",
      "Q = [[-0.07761505 -0.83305216  0.1271286 ]\n",
      " [-0.31046021 -0.45123659  0.22759462]\n",
      " [-0.54330537 -0.06942101 -0.83657505]\n",
      " [-0.77615053  0.31239456  0.48185183]]\n",
      "R = [[-1.28840987e+01 -1.45916299e+01 -1.62991610e+01]\n",
      " [ 1.39795446e-15 -1.04131520e+00 -2.08263040e+00]\n",
      " [-6.92420769e-16  2.31249164e-17  1.42271586e-15]]\n",
      "np.linalg.qr :\n",
      "Q = [[-0.07761505 -0.83305216  0.5400942 ]\n",
      " [-0.31046021 -0.45123659 -0.78802363]\n",
      " [-0.54330537 -0.06942101 -0.04423532]\n",
      " [-0.77615053  0.31239456  0.29216476]]\n",
      "R = [[-1.28840987e+01 -1.45916299e+01 -1.62991610e+01]\n",
      " [ 0.00000000e+00 -1.04131520e+00 -2.08263040e+00]\n",
      " [ 0.00000000e+00  0.00000000e+00  1.12739058e-15]]\n"
     ]
    }
   ],
   "source": [
    "def householder_qr(A: np.ndarray, reduite: bool=False) -> tuple[np.ndarray, np.ndarray]:\n",
    "    \"\"\"\n",
    "    Performe une décomposition QR d'une matrice en utilisant la méthode de Householder\n",
    "\n",
    "    Paramètres:\n",
    "    -----------\n",
    "    A (np.ndarray) : La matrice à décomposer\n",
    "    reduite (bool) : Précise si la décomposition QR réduite est désirée. Par défaut, c'est False.\n",
    "\n",
    "    Retourne:\n",
    "    --------\n",
    "    tuple[np.ndarray, np.ndarray]\n",
    "        Un tuple contenant deux numpy arrays:\n",
    "        - Q: La matrice orthogonale\n",
    "        - R: La matrice triangulaire supérieure résultante\n",
    "    \"\"\"\n",
    "    m, n = A.shape\n",
    "    Q = np.eye(m)\n",
    "    R = np.copy(A)\n",
    "    for i in range(n):\n",
    "        x = R[i:, i]\n",
    "        e_1 = np.zeros(m - i)\n",
    "        e_1[0] = 1\n",
    "        v = np.sign(x[0]) * np.linalg.norm(x) * e_1 + x\n",
    "        H = np.eye(m - i) - 2 * np.outer(v, v.T) / np.dot(v.T, v)\n",
    "        Q_i = np.eye(m)\n",
    "        Q_i[i:, i:] = H\n",
    "        Q = np.dot(Q, Q_i.T)\n",
    "        R = np.dot(Q_i, R)\n",
    "    if reduite:\n",
    "        Q, R = Q[:m, :n], R[:n, :n]\n",
    "    return Q, R\n",
    "\n",
    "Q, R = householder_qr(A, reduite=True)\n",
    "print(\"householder_qr :\", f'Q = {Q}', f'R = {R}', sep='\\n')\n",
    "\n",
    "Q, R = np.linalg.qr(A)\n",
    "print(\"np.linalg.qr :\", f'Q = {Q}', f'R = {R}', sep='\\n')"
   ]
  },
  {
   "cell_type": "markdown",
   "metadata": {},
   "source": [
    "### **b)** Utilisez votre code pour résoudre approximativement l’équation (3.9). Vous utiliserez les données fournies dans le fichier `bataille_navale_equipe0XX.csv` où vous remplacerez 0XX par votre numéro d’équipe dans la boîte de dépôt sur MonPortail."
   ]
  },
  {
   "cell_type": "code",
   "execution_count": null,
   "metadata": {},
   "outputs": [
    {
     "ename": "FileNotFoundError",
     "evalue": "[Errno 2] No such file or directory: 'bataille_navale_donnees_2025/bataille_navale_equipe010.csv'",
     "output_type": "error",
     "traceback": [
      "\u001b[1;31m---------------------------------------------------------------------------\u001b[0m",
      "\u001b[1;31mFileNotFoundError\u001b[0m                         Traceback (most recent call last)",
      "Cell \u001b[1;32mIn[23], line 1\u001b[0m\n\u001b[1;32m----> 1\u001b[0m donnees \u001b[38;5;241m=\u001b[39m pd\u001b[38;5;241m.\u001b[39mread_csv(\u001b[38;5;124m'\u001b[39m\u001b[38;5;124mbataille_navale_donnees_2025/bataille_navale_equipe010.csv\u001b[39m\u001b[38;5;124m'\u001b[39m)\n",
      "File \u001b[1;32mc:\\Users\\fpiuz\\anaconda3\\Lib\\site-packages\\pandas\\io\\parsers\\readers.py:1026\u001b[0m, in \u001b[0;36mread_csv\u001b[1;34m(filepath_or_buffer, sep, delimiter, header, names, index_col, usecols, dtype, engine, converters, true_values, false_values, skipinitialspace, skiprows, skipfooter, nrows, na_values, keep_default_na, na_filter, verbose, skip_blank_lines, parse_dates, infer_datetime_format, keep_date_col, date_parser, date_format, dayfirst, cache_dates, iterator, chunksize, compression, thousands, decimal, lineterminator, quotechar, quoting, doublequote, escapechar, comment, encoding, encoding_errors, dialect, on_bad_lines, delim_whitespace, low_memory, memory_map, float_precision, storage_options, dtype_backend)\u001b[0m\n\u001b[0;32m   1013\u001b[0m kwds_defaults \u001b[38;5;241m=\u001b[39m _refine_defaults_read(\n\u001b[0;32m   1014\u001b[0m     dialect,\n\u001b[0;32m   1015\u001b[0m     delimiter,\n\u001b[1;32m   (...)\u001b[0m\n\u001b[0;32m   1022\u001b[0m     dtype_backend\u001b[38;5;241m=\u001b[39mdtype_backend,\n\u001b[0;32m   1023\u001b[0m )\n\u001b[0;32m   1024\u001b[0m kwds\u001b[38;5;241m.\u001b[39mupdate(kwds_defaults)\n\u001b[1;32m-> 1026\u001b[0m \u001b[38;5;28;01mreturn\u001b[39;00m _read(filepath_or_buffer, kwds)\n",
      "File \u001b[1;32mc:\\Users\\fpiuz\\anaconda3\\Lib\\site-packages\\pandas\\io\\parsers\\readers.py:620\u001b[0m, in \u001b[0;36m_read\u001b[1;34m(filepath_or_buffer, kwds)\u001b[0m\n\u001b[0;32m    617\u001b[0m _validate_names(kwds\u001b[38;5;241m.\u001b[39mget(\u001b[38;5;124m\"\u001b[39m\u001b[38;5;124mnames\u001b[39m\u001b[38;5;124m\"\u001b[39m, \u001b[38;5;28;01mNone\u001b[39;00m))\n\u001b[0;32m    619\u001b[0m \u001b[38;5;66;03m# Create the parser.\u001b[39;00m\n\u001b[1;32m--> 620\u001b[0m parser \u001b[38;5;241m=\u001b[39m TextFileReader(filepath_or_buffer, \u001b[38;5;241m*\u001b[39m\u001b[38;5;241m*\u001b[39mkwds)\n\u001b[0;32m    622\u001b[0m \u001b[38;5;28;01mif\u001b[39;00m chunksize \u001b[38;5;129;01mor\u001b[39;00m iterator:\n\u001b[0;32m    623\u001b[0m     \u001b[38;5;28;01mreturn\u001b[39;00m parser\n",
      "File \u001b[1;32mc:\\Users\\fpiuz\\anaconda3\\Lib\\site-packages\\pandas\\io\\parsers\\readers.py:1620\u001b[0m, in \u001b[0;36mTextFileReader.__init__\u001b[1;34m(self, f, engine, **kwds)\u001b[0m\n\u001b[0;32m   1617\u001b[0m     \u001b[38;5;28mself\u001b[39m\u001b[38;5;241m.\u001b[39moptions[\u001b[38;5;124m\"\u001b[39m\u001b[38;5;124mhas_index_names\u001b[39m\u001b[38;5;124m\"\u001b[39m] \u001b[38;5;241m=\u001b[39m kwds[\u001b[38;5;124m\"\u001b[39m\u001b[38;5;124mhas_index_names\u001b[39m\u001b[38;5;124m\"\u001b[39m]\n\u001b[0;32m   1619\u001b[0m \u001b[38;5;28mself\u001b[39m\u001b[38;5;241m.\u001b[39mhandles: IOHandles \u001b[38;5;241m|\u001b[39m \u001b[38;5;28;01mNone\u001b[39;00m \u001b[38;5;241m=\u001b[39m \u001b[38;5;28;01mNone\u001b[39;00m\n\u001b[1;32m-> 1620\u001b[0m \u001b[38;5;28mself\u001b[39m\u001b[38;5;241m.\u001b[39m_engine \u001b[38;5;241m=\u001b[39m \u001b[38;5;28mself\u001b[39m\u001b[38;5;241m.\u001b[39m_make_engine(f, \u001b[38;5;28mself\u001b[39m\u001b[38;5;241m.\u001b[39mengine)\n",
      "File \u001b[1;32mc:\\Users\\fpiuz\\anaconda3\\Lib\\site-packages\\pandas\\io\\parsers\\readers.py:1880\u001b[0m, in \u001b[0;36mTextFileReader._make_engine\u001b[1;34m(self, f, engine)\u001b[0m\n\u001b[0;32m   1878\u001b[0m     \u001b[38;5;28;01mif\u001b[39;00m \u001b[38;5;124m\"\u001b[39m\u001b[38;5;124mb\u001b[39m\u001b[38;5;124m\"\u001b[39m \u001b[38;5;129;01mnot\u001b[39;00m \u001b[38;5;129;01min\u001b[39;00m mode:\n\u001b[0;32m   1879\u001b[0m         mode \u001b[38;5;241m+\u001b[39m\u001b[38;5;241m=\u001b[39m \u001b[38;5;124m\"\u001b[39m\u001b[38;5;124mb\u001b[39m\u001b[38;5;124m\"\u001b[39m\n\u001b[1;32m-> 1880\u001b[0m \u001b[38;5;28mself\u001b[39m\u001b[38;5;241m.\u001b[39mhandles \u001b[38;5;241m=\u001b[39m get_handle(\n\u001b[0;32m   1881\u001b[0m     f,\n\u001b[0;32m   1882\u001b[0m     mode,\n\u001b[0;32m   1883\u001b[0m     encoding\u001b[38;5;241m=\u001b[39m\u001b[38;5;28mself\u001b[39m\u001b[38;5;241m.\u001b[39moptions\u001b[38;5;241m.\u001b[39mget(\u001b[38;5;124m\"\u001b[39m\u001b[38;5;124mencoding\u001b[39m\u001b[38;5;124m\"\u001b[39m, \u001b[38;5;28;01mNone\u001b[39;00m),\n\u001b[0;32m   1884\u001b[0m     compression\u001b[38;5;241m=\u001b[39m\u001b[38;5;28mself\u001b[39m\u001b[38;5;241m.\u001b[39moptions\u001b[38;5;241m.\u001b[39mget(\u001b[38;5;124m\"\u001b[39m\u001b[38;5;124mcompression\u001b[39m\u001b[38;5;124m\"\u001b[39m, \u001b[38;5;28;01mNone\u001b[39;00m),\n\u001b[0;32m   1885\u001b[0m     memory_map\u001b[38;5;241m=\u001b[39m\u001b[38;5;28mself\u001b[39m\u001b[38;5;241m.\u001b[39moptions\u001b[38;5;241m.\u001b[39mget(\u001b[38;5;124m\"\u001b[39m\u001b[38;5;124mmemory_map\u001b[39m\u001b[38;5;124m\"\u001b[39m, \u001b[38;5;28;01mFalse\u001b[39;00m),\n\u001b[0;32m   1886\u001b[0m     is_text\u001b[38;5;241m=\u001b[39mis_text,\n\u001b[0;32m   1887\u001b[0m     errors\u001b[38;5;241m=\u001b[39m\u001b[38;5;28mself\u001b[39m\u001b[38;5;241m.\u001b[39moptions\u001b[38;5;241m.\u001b[39mget(\u001b[38;5;124m\"\u001b[39m\u001b[38;5;124mencoding_errors\u001b[39m\u001b[38;5;124m\"\u001b[39m, \u001b[38;5;124m\"\u001b[39m\u001b[38;5;124mstrict\u001b[39m\u001b[38;5;124m\"\u001b[39m),\n\u001b[0;32m   1888\u001b[0m     storage_options\u001b[38;5;241m=\u001b[39m\u001b[38;5;28mself\u001b[39m\u001b[38;5;241m.\u001b[39moptions\u001b[38;5;241m.\u001b[39mget(\u001b[38;5;124m\"\u001b[39m\u001b[38;5;124mstorage_options\u001b[39m\u001b[38;5;124m\"\u001b[39m, \u001b[38;5;28;01mNone\u001b[39;00m),\n\u001b[0;32m   1889\u001b[0m )\n\u001b[0;32m   1890\u001b[0m \u001b[38;5;28;01massert\u001b[39;00m \u001b[38;5;28mself\u001b[39m\u001b[38;5;241m.\u001b[39mhandles \u001b[38;5;129;01mis\u001b[39;00m \u001b[38;5;129;01mnot\u001b[39;00m \u001b[38;5;28;01mNone\u001b[39;00m\n\u001b[0;32m   1891\u001b[0m f \u001b[38;5;241m=\u001b[39m \u001b[38;5;28mself\u001b[39m\u001b[38;5;241m.\u001b[39mhandles\u001b[38;5;241m.\u001b[39mhandle\n",
      "File \u001b[1;32mc:\\Users\\fpiuz\\anaconda3\\Lib\\site-packages\\pandas\\io\\common.py:873\u001b[0m, in \u001b[0;36mget_handle\u001b[1;34m(path_or_buf, mode, encoding, compression, memory_map, is_text, errors, storage_options)\u001b[0m\n\u001b[0;32m    868\u001b[0m \u001b[38;5;28;01melif\u001b[39;00m \u001b[38;5;28misinstance\u001b[39m(handle, \u001b[38;5;28mstr\u001b[39m):\n\u001b[0;32m    869\u001b[0m     \u001b[38;5;66;03m# Check whether the filename is to be opened in binary mode.\u001b[39;00m\n\u001b[0;32m    870\u001b[0m     \u001b[38;5;66;03m# Binary mode does not support 'encoding' and 'newline'.\u001b[39;00m\n\u001b[0;32m    871\u001b[0m     \u001b[38;5;28;01mif\u001b[39;00m ioargs\u001b[38;5;241m.\u001b[39mencoding \u001b[38;5;129;01mand\u001b[39;00m \u001b[38;5;124m\"\u001b[39m\u001b[38;5;124mb\u001b[39m\u001b[38;5;124m\"\u001b[39m \u001b[38;5;129;01mnot\u001b[39;00m \u001b[38;5;129;01min\u001b[39;00m ioargs\u001b[38;5;241m.\u001b[39mmode:\n\u001b[0;32m    872\u001b[0m         \u001b[38;5;66;03m# Encoding\u001b[39;00m\n\u001b[1;32m--> 873\u001b[0m         handle \u001b[38;5;241m=\u001b[39m \u001b[38;5;28mopen\u001b[39m(\n\u001b[0;32m    874\u001b[0m             handle,\n\u001b[0;32m    875\u001b[0m             ioargs\u001b[38;5;241m.\u001b[39mmode,\n\u001b[0;32m    876\u001b[0m             encoding\u001b[38;5;241m=\u001b[39mioargs\u001b[38;5;241m.\u001b[39mencoding,\n\u001b[0;32m    877\u001b[0m             errors\u001b[38;5;241m=\u001b[39merrors,\n\u001b[0;32m    878\u001b[0m             newline\u001b[38;5;241m=\u001b[39m\u001b[38;5;124m\"\u001b[39m\u001b[38;5;124m\"\u001b[39m,\n\u001b[0;32m    879\u001b[0m         )\n\u001b[0;32m    880\u001b[0m     \u001b[38;5;28;01melse\u001b[39;00m:\n\u001b[0;32m    881\u001b[0m         \u001b[38;5;66;03m# Binary mode\u001b[39;00m\n\u001b[0;32m    882\u001b[0m         handle \u001b[38;5;241m=\u001b[39m \u001b[38;5;28mopen\u001b[39m(handle, ioargs\u001b[38;5;241m.\u001b[39mmode)\n",
      "\u001b[1;31mFileNotFoundError\u001b[0m: [Errno 2] No such file or directory: 'bataille_navale_donnees_2025/bataille_navale_equipe010.csv'"
     ]
    }
   ],
   "source": [
    "# donnees = pd.read_csv('bataille_navale_donnees_2025/bataille_navale_equipe010.csv')"
   ]
  },
  {
   "cell_type": "markdown",
   "metadata": {},
   "source": [
    "### **c)** Tracez les données (cercles noirs) et la solution estimée de la trajectoire(ligne pleine de la couleur de votre choix) donnée par l’équation (3.8)"
   ]
  },
  {
   "cell_type": "markdown",
   "metadata": {},
   "source": [
    "### **d)** Obtenez la position d’impact du projectile (à $y = 0$) en résolvant l’équation quadratique (3.8) pour $x$ à l’aide d’une implémentation personnelle de la méthode de la bissection. Comparez votre solution avec celle obtenue en résolvant cette même équation analytiquement. Considérant que votre embarcation se situe à la position $(x,y) = (0,0)$, quelle est la distance horizontale vous séparant du point d’impact ?"
   ]
  },
  {
   "cell_type": "markdown",
   "metadata": {},
   "source": [
    "## 3.3 : Modèle épidemiologique SIR sur réseau"
   ]
  },
  {
   "cell_type": "markdown",
   "metadata": {},
   "source": [
    "### **a)** Trouvez analytiquement toutes les solutions de l’équation cubique (3.14)."
   ]
  },
  {
   "cell_type": "markdown",
   "metadata": {},
   "source": [
    "### **b)** Démontrez laquelle des solutions obtenues précédemment (ou une combinaison de celles-ci) correspond à $u$, soit la solution recherchée de l’équation (3.14)."
   ]
  },
  {
   "cell_type": "markdown",
   "metadata": {},
   "source": [
    "### **c)** Tracez $R_\\infty$ en fonction de $T$ et identifiez tout changement qualitatif de $R_\\infty$. Comment interprétez-vous ce changement (ou cette absence de changement) ?"
   ]
  },
  {
   "cell_type": "markdown",
   "metadata": {},
   "source": [
    "### **d)** Résolvez numériquement l’équation (3.14) à l’aide d’implémentations personnelles de la méthode par relaxation et de la méthode de Newton-Raphson pour 20 valeurs de $T$ uniformément distribuées dans l’intervalle $[0,1]$. Illustrez vos résultats à l’aide d’un graphique comparant les solutions analytiques (indiquées avec des lignes de couleurs distinctes) aux solutions numériques obtenues avec différentes valeurs initiales de l’algorithme (symboles ; choisissez bien vos symboles pour que vos solutions soient bien visibles). Arrivez-vous à obtenir les trois solutions identifiées en a ? Pourquoi ? Considérez tracer l’équation (3.14) de même que la dérivée de $f(u)$ en fonction de u et ce, pour quelques valeurs de $T$, pour appuyer vos conclusions. Vous pouvez aussi tracer les itérations successives de chacune des méthodes afin d’illustrer la manière dont elles convergent vers l’une ou l’autre des solutions (ex. : tracer un diagramme en toile d’araignée).\n"
   ]
  }
 ],
 "metadata": {
  "kernelspec": {
   "display_name": "base",
   "language": "python",
   "name": "python3"
  },
  "language_info": {
   "codemirror_mode": {
    "name": "ipython",
    "version": 3
   },
   "file_extension": ".py",
   "mimetype": "text/x-python",
   "name": "python",
   "nbconvert_exporter": "python",
   "pygments_lexer": "ipython3",
   "version": "3.12.7"
  }
 },
 "nbformat": 4,
 "nbformat_minor": 2
}
