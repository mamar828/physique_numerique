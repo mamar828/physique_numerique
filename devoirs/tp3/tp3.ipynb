{
 "cells": [
  {
   "cell_type": "markdown",
   "metadata": {},
   "source": [
    "# TP 3"
   ]
  },
  {
   "cell_type": "code",
   "execution_count": null,
   "metadata": {},
   "outputs": [],
   "source": [
    "import numpy as np\n",
    "import graphinglib as gl"
   ]
  },
  {
   "cell_type": "markdown",
   "metadata": {},
   "source": [
    "## 3.1 : Décomposition QR par la méthode de Householder"
   ]
  },
  {
   "cell_type": "markdown",
   "metadata": {},
   "source": [
    "### **a)** À l’aide des équations (3.2) et (3.3), démontrez que les matrices de réflexion $Q_i$ sont orthogonales."
   ]
  },
  {
   "cell_type": "markdown",
   "metadata": {},
   "source": [
    "$$\n",
    "\\begin{align*}\n",
    "    Q_i &= \\begin{bmatrix}\n",
    "        I_i & 0 \\\\\n",
    "        0 & H_{m,i}\n",
    "    \\end{bmatrix} \\\\\n",
    "    H_{m,i} &= I_{m - i} - 2 \\frac{v_{m,i} v_{m,i}^T}{v_{m,i}^T v_{m,i}}\n",
    "\\end{align*}\n",
    "$$\n",
    "\n",
    "$$\n",
    "\\begin{align*}\n",
    "    Q_i^T &= \\begin{bmatrix}\n",
    "        I_i^T & 0 \\\\\n",
    "        0 & H_{m,i}^T\n",
    "    \\end{bmatrix} \\\\\n",
    "    &= \\begin{bmatrix}\n",
    "        I_i & 0 \\\\\n",
    "        0 & I_{m - i}^T - 2 \\left(\\frac{v_{m,i} v_{m,i}^T}{v_{m,i}^T v_{m,i}}\\right)^T \n",
    "    \\end{bmatrix} \\\\\n",
    "    &= \\begin{bmatrix}\n",
    "        I_i & 0 \\\\\n",
    "        0 & I_{m - i} - 2 \\frac{v_{m,i} v_{m,i}^T}{v_{m,i}^T v_{m,i}}\n",
    "    \\end{bmatrix} \\\\ &= Q_i\n",
    "\\end{align*}\n",
    "$$\n",
    "\n",
    "$$\n",
    "\\begin{align*}\n",
    "    Q_i^T Q_i &= \\begin{bmatrix}\n",
    "        I_i & 0 \\\\\n",
    "        0 & I_{m - i} - 2 \\frac{v_{m,i} v_{m,i}^T}{v_{m,i}^T v_{m,i}}\n",
    "    \\end{bmatrix}\n",
    "    \\begin{bmatrix}\n",
    "        I_i & 0 \\\\\n",
    "        0 & I_{m - i} - 2 \\frac{v_{m,i} v_{m,i}^T}{v_{m,i}^T v_{m,i}}\n",
    "    \\end{bmatrix} \\\\\n",
    "    &= \\begin{bmatrix}\n",
    "        I_i^2 & 0 \\\\\n",
    "        0 & I_{m - i}^2 - 4 I_{m - i} \\frac{v_{m,i} v_{m,i}^T}{v_{m,i}^T v_{m,i}} + 4 \\frac{v_{m,i} (v_{m,i}^T v_{m,i}) v_{m,i}^T}{(v_{m,i}^T v_{m,i})^2}\n",
    "    \\end{bmatrix} \\\\\n",
    "    &= \\begin{bmatrix}\n",
    "        I_i & 0 \\\\\n",
    "        0 & I_{m - i} - 4 \\frac{v_{m,i} v_{m,i}^T}{v_{m,i}^T v_{m,i}} + 4 \\frac{v_{m,i} v_{m,i}^T}{v_{m,i}^T v_{m,i}}\n",
    "    \\end{bmatrix} \\\\\n",
    "    &= \\begin{bmatrix}\n",
    "        I_i & 0 \\\\\n",
    "        0 & I_{m - i}\n",
    "    \\end{bmatrix} \\\\\n",
    "    &= I_m\n",
    "\\end{align*}\n",
    "$$"
   ]
  },
  {
   "cell_type": "markdown",
   "metadata": {},
   "source": [
    "### **b)** Démontrez l’équation (3.5) et que la matrice $Q$ est orthogonale."
   ]
  },
  {
   "cell_type": "markdown",
   "metadata": {},
   "source": [
    "On dispose de l'équation:\n",
    "$$\n",
    "Q_{n - 1} Q_{n - 2} \\cdots Q_1 Q_0A = R\n",
    "$$\n",
    "Et on désire obtenir une décomposition $QR$ de la forme:\n",
    "$$ A = QR $$\n",
    "Pour ce faire, on prémultiplie chaque côté de l'équation par $Q_{n - 1}^T$, puis par $Q_{n - 2}^T$, et ainsi de suite jusqu'à $Q_0^T$. Étant donné que $Q_i^TQ_i=I_m$, on obtient:\n",
    "$$\n",
    "\\begin{align*}\n",
    "    Q_{n - 1}^TQ_{n - 1} Q_{n - 2} \\cdots Q_1 Q_0A &= Q_{n - 1}^T R \\\\\n",
    "    I_m Q_{n - 2} \\cdots Q_1 Q_0A &= Q_{n - 1}^T R \\\\\n",
    "    Q_{n - 2}^TQ_{n - 2} \\cdots Q_1 Q_0A &= Q_{n - 2}^T Q_{n - 1}^T R \\\\\n",
    "    &\\: \\cdots \\\\\n",
    "    A &= Q_0^T Q_1^T \\cdots Q_{n - 2}^T Q_{n - 1}^TR \\\\\n",
    "    \\Rightarrow Q &= Q_0^T Q_1^T \\cdots Q_{n - 2}^T Q_{n - 1}^T\n",
    "\\end{align*}\n",
    "$$\n",
    "Ce qui démontre l'équation (3.5). On veut ensuite montrer que la matrice $Q$ est orthogonale:\n",
    "$$\n",
    "\\begin{align*}\n",
    "    Q &= Q_0^T Q_1^T \\cdots Q_{n - 2}^T Q_{n - 1}^T \\\\\n",
    "    \\Rightarrow Q^T &= (Q_0^T Q_1^T \\cdots Q_{n - 2}^T Q_{n - 1}^T)^T \\\\\n",
    "    &= Q_{n - 1} Q_{n - 2} \\cdots Q_1 Q_0\n",
    "\\end{align*}\n",
    "$$\n",
    "\n",
    "$$\n",
    "\\begin{align*}\n",
    "    Q^T Q &= (Q_{n - 1} Q_{n - 2} \\cdots Q_1 Q_0) (Q_0^T Q_1^T \\cdots Q_{n - 2}^T Q_{n - 1}^T) \\\\\n",
    "    &= Q_{n - 1} Q_{n - 2} \\cdots Q_1 Q_0 Q_0^T Q_1^T \\cdots Q_{n - 2}^T Q_{n - 1}^T\n",
    "\\end{align*}\n",
    "$$\n",
    "En **a)**, on a démontré que $Q_i^T = Q_i$ et que $Q_i^T Q_i = I$. $Q_i^T$ est donc la matrice inverse de $Q_i$, ce qui veut dire qu'on a également $Q_iQ_i^T = I$. On peut alors annuler les termes à partir du centre dans l'expression pour $Q^T Q$ :\n",
    "$$\n",
    "\\begin{align*}\n",
    "    Q^T Q &= Q_{n - 1} Q_{n - 2} \\cdots Q_1 (Q_0 Q_0^T) Q_1^T \\cdots Q_{n - 2}^T Q_{n - 1}^T \\\\\n",
    "    &= Q_{n - 1} Q_{n - 2} \\cdots Q_1 I Q_1^T \\cdots Q_{n - 2}^T Q_{n - 1}^T \\\\\n",
    "    &= Q_{n - 1} Q_{n - 2} \\cdots (Q_1 Q_1^T) \\cdots Q_{n - 2}^T Q_{n - 1}^T \\\\\n",
    "    &\\: \\cdots \\\\\n",
    "    &= I\n",
    "\\end{align*}"
   ]
  },
  {
   "cell_type": "markdown",
   "metadata": {},
   "source": [
    "### **c)** Implémentez la fonction `householder_qr` qui prend en argument une matrice $A$ et qui retourne les matrices $Q$ et $R$ obtenues par la méthode de Householder."
   ]
  },
  {
   "cell_type": "code",
   "execution_count": null,
   "metadata": {},
   "outputs": [],
   "source": [
    "def householder_qr(A: np.ndarray) -> tuple[np.ndarray, np.ndarray]:\n",
    "    \"\"\"\n",
    "    Performe une décomposition QR d'une matrice en utilisant la méthode de Householder\n",
    "\n",
    "    Paramètres:\n",
    "    -----------\n",
    "    A (np.ndarray) : La matrice à décomposer\n",
    "\n",
    "    Retourne:\n",
    "    --------\n",
    "    tuple[np.ndarray, np.ndarray]\n",
    "        Un tuple contenant deux numpy arrays:\n",
    "        - Q: La matrice orthogonale\n",
    "        - R: La matrice triangulaire supérieure résultante\n",
    "    \"\"\"\n",
    "    m, n = A.shape\n",
    "    Q = np.eye(m)\n",
    "    R = np.copy(A)\n",
    "    for i in range(n):\n",
    "        x = R[i:, i]\n",
    "        e_1 = np.zeros(m - i)\n",
    "        e_1[0] = 1\n",
    "        v = np.sign(x[0]) * np.linalg.norm(x) * e_1 + x\n",
    "        H = np.eye(m - i) - 2 * np.outer(v, v.T) / np.dot(v.T, v)\n",
    "        Q_i = np.eye(m)\n",
    "        Q_i[i:, i:] = H\n",
    "        Q = np.dot(Q, Q_i.T)\n",
    "        R = np.dot(Q_i, R)\n",
    "    return Q, R"
   ]
  },
  {
   "cell_type": "markdown",
   "metadata": {},
   "source": [
    "### **d)** À l’aide d’une matrice de dimension $4 \\times 3$ de votre choix, testez votre fonction `householder_qr` et comparez les résultats obtenus avec ceux obtenus à l’aide de la fonction `numpy.linalg.qr`. Les matrices sont-elles exactement les mêmes ? Si non, est-ce un problème ?"
   ]
  },
  {
   "cell_type": "code",
   "execution_count": null,
   "metadata": {},
   "outputs": [],
   "source": [
    "A = np.array([[1, 2, 3],\n",
    "              [4, 5, 6],\n",
    "              [7, 8, 9],\n",
    "              [10, 11, 12]])\n",
    "\n",
    "Q, R = householder_qr(A)\n",
    "print(\"householder_qr :\", f'Q = {Q}', f'R = {R}', sep='\\n')\n",
    "\n",
    "Q, R = np.linalg.qr(A, mode='complete')\n",
    "print(\"np.linalg.qr :\", f'Q = {Q}', f'R = {R}', sep='\\n')"
   ]
  },
  {
   "cell_type": "markdown",
   "metadata": {},
   "source": [
    "Explication : En négligeant les termes de l'ordre de $10^{-15}$ ou moins, on constate que les matrices $R$ ainsi que les deux premières colonnes de $Q$ sont identiques. Les deux dernières colonnes de $Q$ sont différentes, mais puisque les deux dernières lignes de $R$ sont nulles, cela ne change rien au résultat $A=QR$. Cela n'est donc pas un problème, d'autant plus que selon les dimensions et le rang de la matrice $A$, la décomposition $QR$ n'est pas toujours unique."
   ]
  },
  {
   "cell_type": "markdown",
   "metadata": {},
   "source": [
    "### **e)** À l’aide de la matrice utilisée en **d**, illustrez comment la multiplication successive des matrices $Q_i$ triangularise progressivement la matrice $A$. Dans l’élan, assurez-vous que les matrices $Q$ et $R$ obtenues sont bien orthogonale et triangulaire supérieure, respectivement."
   ]
  },
  {
   "cell_type": "code",
   "execution_count": null,
   "metadata": {},
   "outputs": [],
   "source": [
    "def householder_qr_successif(A: np.ndarray) -> tuple[np.ndarray, np.ndarray]:\n",
    "    \"\"\"\n",
    "    Performe une décomposition QR d'une matrice en utilisant la méthode de Householder\n",
    "\n",
    "    Paramètres:\n",
    "    -----------\n",
    "    A (np.ndarray) : La matrice à décomposer\n",
    "\n",
    "    Retourne:\n",
    "    --------\n",
    "    tuple[np.ndarray, np.ndarray]\n",
    "        Un tuple contenant deux numpy arrays:\n",
    "        - Q: La matrice orthogonale\n",
    "        - R: La matrice triangulaire supérieure résultante\n",
    "    \"\"\"\n",
    "    print(\"A =\", A)\n",
    "    m, n = A.shape\n",
    "    Q = np.eye(m)\n",
    "    R = np.copy(A)\n",
    "    for i in range(n):\n",
    "        x = R[i:, i]\n",
    "        e_1 = np.zeros(m - i)\n",
    "        e_1[0] = 1\n",
    "        v = np.sign(x[0]) * np.linalg.norm(x) * e_1 + x\n",
    "        H = np.eye(m - i) - 2 * np.outer(v, v.T) / np.dot(v.T, v)\n",
    "        Q_i = np.eye(m)\n",
    "        Q_i[i:, i:] = H\n",
    "        Q = np.dot(Q, Q_i.T)\n",
    "        R = np.dot(Q_i, R)\n",
    "        print(f\"i = {i} : Q^T * A = \\n{R}\")\n",
    "\n",
    "householder_qr_successif(A)"
   ]
  },
  {
   "cell_type": "markdown",
   "metadata": {},
   "source": [
    "On constate que la matrice $R$ obtenue à la dernière itération est bel et bien triangulaire supérieure, car tous les éléments en-dessous de la diagonale principale sont de l'ordre de $10^{-15}$ ou moins, ce qui est négligeable. De plus, on peut vérifier que la matrice $Q$ est bel et bien orthogonale:"
   ]
  },
  {
   "cell_type": "code",
   "execution_count": null,
   "metadata": {},
   "outputs": [],
   "source": [
    "Q, R = householder_qr(A)\n",
    "verif = np.dot(Q.T, Q)\n",
    "print(\"Q^T Q =\", verif)"
   ]
  },
  {
   "cell_type": "markdown",
   "metadata": {},
   "source": [
    "$Q^T Q$ est assez proche de la matrice identité de dimensions $4 \\times 4$, puisque tous les éléments en dehors de la diagonale sont de l'ordre de $10^{-16}$ ou moins, ce qui est négligeable."
   ]
  },
  {
   "cell_type": "markdown",
   "metadata": {},
   "source": [
    "## 3.2 : Mesures imprécises dans un jeu de bataille navale"
   ]
  },
  {
   "cell_type": "markdown",
   "metadata": {},
   "source": [
    "### **a)** Modifiez votre code de décomposition QR pour qu’il retourne la décomposition QR réduite de la matrice d’entrée lorsque l’argument additionnel `reduite=True` lui est passé."
   ]
  },
  {
   "cell_type": "code",
   "execution_count": null,
   "metadata": {},
   "outputs": [],
   "source": [
    "def householder_qr(A: np.ndarray, reduite: bool=False) -> tuple[np.ndarray, np.ndarray]:\n",
    "    \"\"\"\n",
    "    Performe une décomposition QR d'une matrice en utilisant la méthode de Householder\n",
    "\n",
    "    Paramètres:\n",
    "    -----------\n",
    "    A (np.ndarray) : La matrice à décomposer\n",
    "    reduite (bool) : Précise si la décomposition QR réduite est désirée. Par défaut, c'est False.\n",
    "\n",
    "    Retourne:\n",
    "    --------\n",
    "    tuple[np.ndarray, np.ndarray]\n",
    "        Un tuple contenant deux numpy arrays:\n",
    "        - Q: La matrice orthogonale\n",
    "        - R: La matrice triangulaire supérieure résultante\n",
    "    \"\"\"\n",
    "    m, n = A.shape\n",
    "    Q = np.eye(m)\n",
    "    R = np.copy(A)\n",
    "    for i in range(n):\n",
    "        x = R[i:, i]\n",
    "        e_1 = np.zeros(m - i)\n",
    "        e_1[0] = 1\n",
    "        v = np.sign(x[0]) * np.linalg.norm(x) * e_1 + x\n",
    "        H = np.eye(m - i) - 2 * np.outer(v, v.T) / np.dot(v.T, v)\n",
    "        Q_i = np.eye(m)\n",
    "        Q_i[i:, i:] = H\n",
    "        Q = np.dot(Q, Q_i.T)\n",
    "        R = np.dot(Q_i, R)\n",
    "    if reduite:\n",
    "        Q, R = Q[:m, :n], R[:n, :n]\n",
    "    return Q, R\n",
    "\n",
    "Q, R = householder_qr(A, reduite=True)\n",
    "print(\"householder_qr :\", f'Q = {Q}', f'R = {R}', sep='\\n')\n",
    "\n",
    "Q, R = np.linalg.qr(A)\n",
    "print(\"np.linalg.qr :\", f'Q = {Q}', f'R = {R}', sep='\\n')"
   ]
  },
  {
   "cell_type": "markdown",
   "metadata": {},
   "source": [
    "### **b)** Utilisez votre code pour résoudre approximativement l’équation (3.9). Vous utiliserez les données fournies dans le fichier `bataille_navale_equipe0XX.csv` où vous remplacerez 0XX par votre numéro d’équipe dans la boîte de dépôt sur MonPortail."
   ]
  },
  {
   "cell_type": "code",
   "execution_count": null,
   "metadata": {},
   "outputs": [],
   "source": [
    "x, Y = np.loadtxt('devoirs/tp3/bataille_navale_donnees_2025/bataille_navale_equipe010.csv', unpack=True, delimiter=',', skiprows=1)\n",
    "X = np.array([np.ones_like(x), x, x**2]).T\n",
    "Q, R = householder_qr(X, reduite=True)\n",
    "\n",
    "def retrosubstitution(A: np.ndarray, b: np.ndarray) -> np.ndarray:\n",
    "    m, n = A.shape\n",
    "    x = np.empty(m)\n",
    "    for i in range(m-1, -1, -1):\n",
    "        x[i] = b[i]/A[i,i]\n",
    "        for j in range(i+1, n):\n",
    "            x[i] -= A[i,j]/A[i,i]*x[j]\n",
    "    return x\n",
    "\n",
    "alpha = retrosubstitution(R, np.dot(Q.T, Y))"
   ]
  },
  {
   "cell_type": "markdown",
   "metadata": {},
   "source": [
    "### **c)** Tracez les données (cercles noirs) et la solution estimée de la trajectoire(ligne pleine de la couleur de votre choix) donnée par l’équation (3.8)"
   ]
  },
  {
   "cell_type": "code",
   "execution_count": null,
   "metadata": {},
   "outputs": [],
   "source": [
    "fig = gl.Figure('Distance [-]', 'Altitude [-]')\n",
    "fig.add_elements(\n",
    "    gl.Scatter(x, Y, label='Données', face_color='black'),\n",
    "    gl.Curve(x, np.dot(X, alpha), label='Solution estimée')\n",
    ")\n",
    "fig.show()"
   ]
  },
  {
   "cell_type": "markdown",
   "metadata": {},
   "source": [
    "### **d)** Obtenez la position d’impact du projectile (à $y = 0$) en résolvant l’équation quadratique (3.8) pour $x$ à l’aide d’une implémentation personnelle de la méthode de la bissection. Comparez votre solution avec celle obtenue en résolvant cette même équation analytiquement. Considérant que votre embarcation se situe à la position $(x,y) = (0,0)$, quelle est la distance horizontale vous séparant du point d’impact ?"
   ]
  },
  {
   "cell_type": "markdown",
   "metadata": {},
   "source": [
    "Le code suivant implante la méthode de la bissection pour déterminer la position d'impact du projectile. Les bornes initiales de l'intervalle, soit de 2600 à 2700, ont été choisies en se fiant au graphique de la question 3.2 c)."
   ]
  },
  {
   "cell_type": "code",
   "execution_count": null,
   "metadata": {},
   "outputs": [],
   "source": [
    "def f(x: float) -> float:\n",
    "    return np.dot(alpha, np.array([1, x, x**2]))\n",
    "\n",
    "def bissection(xA: float, xB: float, precision: float=10**(-8)):\n",
    "    valeurs = [0] # Besoin d'une valeur initiale pour calculer l'erreur, mais ce serait intéressant de trouver un autre moyen\n",
    "    erreur = 1\n",
    "    while np.abs(erreur) > precision :\n",
    "        xM = (xA+xB)/2\n",
    "        valeurs.append(xM)\n",
    "        erreur = valeurs[-1]-valeurs[-2]\n",
    "        if f(xA)*f(xM) > 0:\n",
    "            xA = xM\n",
    "        elif f(xB)*f(xM) > 0 :\n",
    "            xB = xM\n",
    "        else:\n",
    "            raise NotImplementedError # Il reste à traiter ce cas\n",
    "    return valeurs[-1]\n",
    "\n",
    "print(f\"Position d'impact du projectile: {bissection(2600, 2700)}\")"
   ]
  },
  {
   "cell_type": "markdown",
   "metadata": {},
   "source": [
    "Le code suivant permet d'obtenir analytiquement le point d'impact du projectile (en $x$), qui correspond également à la distance horizontale séparant l'embarcation du point d'impact, car l'embarcation se situe à l'origine du système de coordonnées."
   ]
  },
  {
   "cell_type": "code",
   "execution_count": null,
   "metadata": {},
   "outputs": [],
   "source": [
    "c, b, a = alpha\n",
    "rad = np.sqrt(b**2-4*a*c)\n",
    "x1, x2 = (-b-rad)/(2*a), (-b+rad)/(2*a)\n",
    "position = max(x1, x2)\n",
    "print(f\"Position d'impact du projectile: {position} \\nDistance horizontale: {position}\")"
   ]
  },
  {
   "cell_type": "markdown",
   "metadata": {},
   "source": [
    "On constate que les deux solutions sont identiques jusqu'à la huitième décimale, ce qui correspond à la précision par défaut choisie pour la fonction `bissection`."
   ]
  },
  {
   "cell_type": "markdown",
   "metadata": {},
   "source": [
    "## 3.3 : Modèle épidemiologique SIR sur réseau"
   ]
  },
  {
   "cell_type": "markdown",
   "metadata": {},
   "source": [
    "### **a)** Trouvez analytiquement toutes les solutions de l’équation cubique (3.14)."
   ]
  },
  {
   "cell_type": "markdown",
   "metadata": {},
   "source": [
    "L'équation cubique à résoudre est:\n",
    "$$ u = \\frac{1}{\\left[1+T(\\kappa-1)(1-u)\\right]^2} $$\n",
    "On peut trouver les solutions de cette équation à l'aide de quelques manipulations algébriques:\n",
    "$$ \\begin{align*}\n",
    "        u\\left[1+T(\\kappa-1)(1-u)\\right]^2 &= 1 \\\\\n",
    "        u\\left[T^2(\\kappa-1)^2(1-u)^2+2T(\\kappa-1)(1-u)+1\\right]-1 &= 0 \\\\\n",
    "        u\\left[T^2(\\kappa-1)^2(1-u)^2+2T(\\kappa-1)(1-u)+1-\\frac{1}{u}\\right] &= 0 \\\\\n",
    "        u\\left[T^2(\\kappa-1)^2(1-u)^2+2T(\\kappa-1)(1-u)-\\frac{1}{u}(1-u)\\right] &= 0 \\\\\n",
    "        u(1-u)\\left[T^2(\\kappa-1)^2(1-u)+2T(\\kappa-1)-\\frac{1}{u}\\right] &= 0 \\\\\n",
    "        (1-u)\\left[T^2(\\kappa-1)^2u(1-u)+2T(\\kappa-1)u-1\\right] &= 0 \\\\\n",
    "        (1-u)\\left[u(1-u)+\\frac{2}{T(\\kappa-1)}u-\\frac{1}{T^2(\\kappa-1)^2}\\right] &= 0 \\\\\n",
    "        (1-u)\\left[u-u^2+\\frac{2}{T(\\kappa-1)}u-\\frac{1}{T^2(\\kappa-1)^2}\\right] &= 0 \\\\\n",
    "        (u-1)\\left[u^2-\\frac{T(\\kappa-1)+2}{T(\\kappa-1)}u+\\frac{1}{T^2(\\kappa-1)^2}\\right] &= 0\n",
    "    \\end{align*} $$\n",
    "Il faut désormais trouver les racines de la portion quadratique de l'équation:\n",
    "$$ \\begin{align*}\n",
    "        u &= \\frac{1}{2}\\left(\\frac{T(\\kappa-1)+2}{T(\\kappa-1)}\\pm\\sqrt{\\left(\\frac{T(\\kappa-1)+2}{T(\\kappa-1)}\\right)^2-\\frac{4}{T^2(\\kappa-1)^2}}\\right) \\\\\n",
    "        &= \\frac{1}{2}\\left(1+\\frac{2}{T(\\kappa-1)}\\pm\\sqrt{\\frac{T^2(\\kappa-1)^2+4T(\\kappa-1)+4-4}{T^2(\\kappa-1)^2}}\\right) \\\\\n",
    "        &= \\frac{1}{2}\\left(1+\\frac{2}{T(\\kappa-1)}\\pm\\sqrt{1+\\frac{4}{T(\\kappa-1)}}\\right)\n",
    "    \\end{align*} $$\n",
    "On a donc:\n",
    "$$ \\begin{align*}\n",
    "        (u-1)\\left(u-\\frac{1}{2}\\left[1+\\frac{2}{T(\\kappa-1)}+\\sqrt{1+\\frac{4}{T(\\kappa-1)}}\\right]\\right)\\left(u-\\frac{1}{2}\\left[1+\\frac{2}{T(\\kappa-1)}-\\sqrt{1+\\frac{4}{T(\\kappa-1)}}\\right]\\right) &= 0\n",
    "    \\end{align*} $$\n",
    "Les trois racines de cette équation sont donc $u_1=1$, $u_2=\\frac{1}{2}\\left[1+\\frac{2}{T(\\kappa-1)}+\\sqrt{1+\\frac{4}{T(\\kappa-1)}}\\right]$ et $u_3=\\frac{1}{2}\\left[1+\\frac{2}{T(\\kappa-1)}-\\sqrt{1+\\frac{4}{T(\\kappa-1)}}\\right]$."
   ]
  },
  {
   "cell_type": "markdown",
   "metadata": {},
   "source": [
    "### **b)** Démontrez laquelle des solutions obtenues précédemment (ou une combinaison de celles-ci) correspond à $u$, soit la solution recherchée de l’équation (3.14)."
   ]
  },
  {
   "cell_type": "markdown",
   "metadata": {},
   "source": [
    "La solution recherchée est la plus petite solution non négative de (3.14). En remplaçant $\\kappa$ par sa valeur $\\kappa=5$, les trois solutions deviennent:\n",
    "$$ \\begin{align*}\n",
    "    u_1 &= 1 \\\\\n",
    "    u_2 &= \\frac{1}{2}\\left[1+\\frac{1}{2T}+\\sqrt{1+\\frac{1}{T}}\\right] \\\\\n",
    "    u_3 &= \\frac{1}{2}\\left[1+\\frac{1}{2T}-\\sqrt{1+\\frac{1}{T}}\\right]\n",
    "\\end{align*} $$\n",
    "Puisque $0\\leq T\\leq1$, $u_2$ est toujours plus grande que $u_3$. On peut vérifier si $u_3$ possède des zéros:\n",
    "$$ \\begin{align*}\n",
    "    \\frac{1}{2}\\left[1+\\frac{1}{2T}-\\sqrt{1+\\frac{1}{T}}\\right] &= 0 \\\\\n",
    "    1+\\frac{1}{2T} &= \\sqrt{1+\\frac{1}{T}} \\\\\n",
    "    1+\\frac{1}{T}+\\frac{1}{4T^2} &= 1+\\frac{1}{T} \\\\\n",
    "    \\frac{1}{4T^2} &= 0\n",
    "\\end{align*} $$\n",
    "Pour $0\\leq T\\leq 1$, cette équation ne peut être satisfaite. $u_3$ est donc toujours du même signe. Pour $T=0.1$ et $T=1$, nous avons:\n",
    "$$ \\begin{align*}\n",
    "        u_3(0.1) &= \\frac{1}{2}\\left[1+\\frac{1}{0.2}-\\sqrt{1+\\frac{1}{0.1}}\\right] = \\frac{1}{2}\\left[6-\\sqrt{11}\\right] \\approx 1.3417 > 0 \\\\\n",
    "        u_3(1) &= \\frac{1}{2}\\left[1+\\frac{1}{2}-\\sqrt{1+\\frac{1}{1}}\\right] = \\frac{1}{2}\\left[\\frac{3}{2}-\\sqrt{2}\\right] \\approx 0.04289 > 0\n",
    "    \\end{align*} $$\n",
    "Ce qui signifie que $u_3$ est toujours positive. Il reste à déterminer si $u_3$ est plus petite ou plus grande que $u_1$. Pour ce faire, il faut d'abord trouver les intersections de $u_1$ et $u_3$:\n",
    "$$ \\begin{align*}\n",
    "    \\frac{1}{2}\\left[1+\\frac{1}{2T}-\\sqrt{1+\\frac{1}{T}}\\right] &= 1 \\\\\n",
    "    1+\\frac{1}{2T} &= 2+\\sqrt{1+\\frac{1}{T}} \\\\\n",
    "    \\frac{1}{2T}-1 &= \\sqrt{1+\\frac{1}{T}} \\\\\n",
    "    \\frac{1}{4T^2}-\\frac{1}{T}+1 &= 1+\\frac{1}{T} \\\\\n",
    "    \\frac{1}{4T^2} &= \\frac{2}{T} \\\\\n",
    "    T &= \\frac{1}{8}\n",
    "\\end{align*} $$\n",
    "$u_1$ et $u_3$ sont donc équivalentes pour $T=0.125$. Pour $0.125 < T \\leq 1$, $u_1>u_3$, car $u_3(1) \\approx 0.04289 < u_1(1) = 1$. Pour $0 \\leq T < 0.125$, $u_1<u_3$, car $u_3(0.1) \\approx 1.3417 > u_1(0.1) = 1$. La solution recherchée de l'équation (3.14) est donc $u_1$ pour $0 \\leq T \\leq 0.125$ et $u_3$ pour $0.125 \\leq T \\leq 1$."
   ]
  },
  {
   "cell_type": "markdown",
   "metadata": {},
   "source": [
    "### **c)** Tracez $R_\\infty$ en fonction de $T$ et identifiez tout changement qualitatif de $R_\\infty$. Comment interprétez-vous ce changement (ou cette absence de changement) ?"
   ]
  },
  {
   "cell_type": "code",
   "execution_count": null,
   "metadata": {},
   "outputs": [],
   "source": [
    "def r_infty(T: float | np.ndarray, k: float = 5) -> float | np.ndarray:\n",
    "    u = np.min(np.stack([np.ones_like(T), 0.5*(1 + 2 / (T*(k - 1)) - np.sqrt(1 + 4 / (T*(k - 1)))), 0.5*(1 + 2 / (T*(k - 1)) + np.sqrt(1 + 4 / (T*(k - 1))))]), axis=0)\n",
    "    return 1 - ((1 - T*(1 - u)) / (1 + T*(k - 1)*(1 - u)))\n",
    "\n",
    "fig = gl.Figure(r\"$T$\", r\"$R_{\\infty}$\")\n",
    "fig.add_elements(\n",
    "    gl.Curve.from_function(r_infty, 0, 1)\n",
    "    )\n",
    "fig.show()"
   ]
  },
  {
   "cell_type": "markdown",
   "metadata": {},
   "source": [
    "Un changement se produit à $T=0.125$. La valeur de $R_\\infty$, auparavant nulle, augmente brusquement. Cette augmentation ralentit ensuite peu à peu. L'interprétation épidémiologique de ce phénomène est qu'avant ce point de bascule, la probabilité $T$ qu'un individu contagieux infecte ses voisins est trop faible. Ainsi, pour un nombre moyen de contacts $\\kappa=5$, le virus ne parvient pas à se répandre dans la population. Lorsque $T$ atteint la valeur clé de $0.125$, la probabilité devient juste assez élevée pour une épidémie, et $R_\\infty$ augmente abruptement. La croissance de $R_\\infty$ se fait toutefois de plus en plus lente à mesure que $T$ augmente, car peu importe la contagiosité de la maladie, il y aura toujours des individus isolés ayant peu de contacts avec les individus infectés, de telle sorte qu'il sera difficile pour la maladie d'atteindre ces individus."
   ]
  },
  {
   "cell_type": "markdown",
   "metadata": {},
   "source": [
    "### **d)** Résolvez numériquement l’équation (3.14) à l’aide d’implémentations personnelles de la méthode par relaxation et de la méthode de Newton-Raphson pour 20 valeurs de $T$ uniformément distribuées dans l’intervalle $[0,1]$. Illustrez vos résultats à l’aide d’un graphique comparant les solutions analytiques (indiquées avec des lignes de couleurs distinctes) aux solutions numériques obtenues avec différentes valeurs initiales de l’algorithme (symboles ; choisissez bien vos symboles pour que vos solutions soient bien visibles). Arrivez-vous à obtenir les trois solutions identifiées en a ? Pourquoi ? Considérez tracer l’équation (3.14) de même que la dérivée de $f(u)$ en fonction de u et ce, pour quelques valeurs de $T$, pour appuyer vos conclusions. Vous pouvez aussi tracer les itérations successives de chacune des méthodes afin d’illustrer la manière dont elles convergent vers l’une ou l’autre des solutions (ex. : tracer un diagramme en toile d’araignée).\n"
   ]
  },
  {
   "cell_type": "code",
   "execution_count": null,
   "metadata": {},
   "outputs": [],
   "source": [
    "# Définition d'objets dont on aura besoin pour la suite\n",
    "\n",
    "def sol_analytiques(T: float | np.ndarray, k: float = 5) -> float | np.ndarray:\n",
    "    \"\"\"\n",
    "    Calcule la solution analytique de l'équation de la chaleur pour un temps donné\n",
    "\n",
    "    Paramètres:\n",
    "    -----------\n",
    "    T (float | np.ndarray) : La probabilité qu’un individu contagieux infectera chacun de ses voisins indépendamment.\n",
    "    k (float) : (défaut: 5)\n",
    "    \"\"\"\n",
    "    return np.array([np.ones_like(T), 0.5*(1 + 2 / (T*(k - 1)) - np.sqrt(1 + 4 / (T*(k - 1)))), 0.5*(1 + 2 / (T*(k - 1)) + np.sqrt(1 + 4 / (T*(k - 1))))])\n",
    "\n",
    "def fu(u: float, T: float, k: float = 5) -> float:\n",
    "    \"\"\"\n",
    "    Calcule la fonction f(u) sous sa forme non-générale pour un T et k donnés.\n",
    "\n",
    "    Paramètres:\n",
    "    -----------\n",
    "    u (float) : La valeur de u pour laquelle on veut calculer f(u)\n",
    "    T (float) : La probabilité qu’un individu contagieux infectera chacun de ses voisins indépendamment.\n",
    "    k (float) : (défaut: 5)\n",
    "    \"\"\"\n",
    "    return 1 / (1 + T*(k - 1)*(1 - u))**2\n",
    "\n",
    "def f(u: float, T: float, k: float = 5) -> float:\n",
    "    \"\"\"\n",
    "    Calcule la fonction f(u) sous sa forme générale pour un T et k donnés.\n",
    "\n",
    "    Paramètres:\n",
    "    -----------\n",
    "    u (float) : La valeur de u pour laquelle on veut calculer f(u)\n",
    "    T (float) : La probabilité qu’un individu contagieux infectera chacun de ses voisins indépendamment.\n",
    "    k (float) : (défaut: 5)\n",
    "    \"\"\"\n",
    "    return u*(1 + T*(k - 1)*(1 - u))**2 - 1\n",
    "\n",
    "def df(u: float, T: float, k: float = 5) -> float:\n",
    "    \"\"\"\n",
    "    Calcule la dérivée de la fonction f(u) sous sa forme générale pour un T et k donnés.\n",
    "\n",
    "    Paramètres:\n",
    "    -----------\n",
    "    u (float) : La valeur de u pour laquelle on veut calculer f(u)\n",
    "    T (float) : La probabilité qu’un individu contagieux infectera\n",
    "    chacun de ses voisins indépendamment.\n",
    "    k (float) : (défaut: 5)\n",
    "    \"\"\"\n",
    "    return 2 / (1 + T*(k - 1)*(1 - u))**3 - 1\n",
    "\n",
    "t = np.linspace(0, 1, 20)"
   ]
  },
  {
   "cell_type": "code",
   "execution_count": null,
   "metadata": {},
   "outputs": [],
   "source": [
    "# Méthode par relaxation\n",
    "def relaxation(T: float | np.ndarray, k: float = 5, u0: float = 0.5, precision: float = 1e-8) -> float | np.ndarray:\n",
    "    u = u0\n",
    "    erreur = 1\n",
    "    while np.abs(erreur) > precision:\n",
    "        u_new = fu(u, T, k)\n",
    "        erreur = np.max(u_new - u)\n",
    "        u = u_new\n",
    "    return u\n",
    "\n",
    "multifig = gl.MultiFigure(5, 4, title=\"Solutions par méthode de relaxation\", size=(3*8.5, 3*11))\n",
    "\n",
    "for i, T in enumerate(t):\n",
    "    valeurs_initiales = np.linspace(0, 1, 5)\n",
    "    marqueurs = ['^', 'd', 'x', '+', '*']\n",
    "\n",
    "    fig = gl.Figure(r\"$u$\", \"Valeur\", title=f\"T = {T:.2f}\", size=(6, 6))\n",
    "    \n",
    "    sol_numérique = [gl.Scatter(relaxation(T, u0=u0), relaxation(T, u0=u0), label=rf\"$u_0 = {u0}$\", marker_style=marqueurs[m]) for m, u0 in enumerate(valeurs_initiales)]\n",
    "\n",
    "    # points_intersection = curve_fu.create_intersection_points(curve_u, colors=\"k\", labels=\"Solutions analytiques\")\n",
    "    points_intersection = gl.Scatter(sol_analytiques(T), sol_analytiques(T), marker_style=\"o\", face_color=\"k\", marker_size=40, label=\"Solutions analytiques\")\n",
    "\n",
    "    u_max = np.max(sol_analytiques(T)[np.isfinite(sol_analytiques(T))]) * 1.1\n",
    "    fig.y_lim = (-0.1, u_max)\n",
    "\n",
    "    fig.add_elements(\n",
    "        gl.Curve.from_function(lambda u: fu(u, T), 0, u_max, label=r\"$f(u)$\", color='#386de3'),\n",
    "        gl.Curve.from_function(lambda u: u, 0, u_max, label=r\"$u$\", line_style='--', color='k'),\n",
    "        points_intersection,\n",
    "        *sol_numérique\n",
    "        )\n",
    "    multifig.add_figure(fig, i//4, i%4, 1, 1)\n",
    "\n",
    "multifig.show()"
   ]
  },
  {
   "cell_type": "markdown",
   "metadata": {},
   "source": [
    "Commentaires :"
   ]
  },
  {
   "cell_type": "code",
   "execution_count": null,
   "metadata": {},
   "outputs": [],
   "source": [
    "# Méthode de Newton-Raphson\n",
    "def newton_raphson(T: float | np.ndarray, k: float = 5, u0: float = 0.5, precision: float = 1e-8) -> float | np.ndarray:\n",
    "    u = u0\n",
    "    erreur = 1\n",
    "    while np.abs(erreur) > precision:\n",
    "        u_new = u - f(u, T, k) / df(u, T, k)\n",
    "        erreur = np.max(u_new - u)\n",
    "        u = u_new\n",
    "    return u\n",
    "\n",
    "multifig = gl.MultiFigure(5, 4, title=\"Solutions par méthode de Newton-Raphson\", size=(3*8.5, 3*11))\n",
    "\n",
    "for i, T in enumerate(t):\n",
    "    valeurs_initiales = np.linspace(0, 1, 5)\n",
    "    marqueurs = ['^', 'd', 'x', '+', '*']\n",
    "\n",
    "    fig = gl.Figure(r\"$u$\", \"Valeur\", title=f\"T = {T:.2f}\", size=(6, 6))\n",
    "    \n",
    "    sol_numérique = [gl.Scatter(newton_raphson(T, u0=u0), np.zeros_like(newton_raphson(T, u0=u0)), label=rf\"$u_0 = {u0}$\", marker_style=marqueurs[m]) for m, u0 in enumerate(valeurs_initiales)]\n",
    "\n",
    "    points_intersection = gl.Scatter(sol_analytiques(T), np.zeros_like(sol_analytiques(T)), marker_style=\"o\", face_color=\"k\", marker_size=40, label=\"Solutions analytiques\")\n",
    "\n",
    "    u_max = np.max(sol_analytiques(T)[np.isfinite(sol_analytiques(T))]) * 1.1\n",
    "\n",
    "    fig.add_elements(\n",
    "        gl.Hlines(0, 0, u_max, colors=\"k\", line_styles=\"--\"),\n",
    "        gl.Curve.from_function(lambda u: f(u, T), 0, u_max, label=r\"$f(u)$\", color=\"#386de3\"),\n",
    "        points_intersection,\n",
    "        *sol_numérique\n",
    "        )\n",
    "    multifig.add_figure(fig, i//4, i%4, 1, 1)\n",
    "\n",
    "multifig.show()"
   ]
  },
  {
   "cell_type": "markdown",
   "metadata": {},
   "source": [
    "Commentaires :"
   ]
  }
 ],
 "metadata": {
  "kernelspec": {
   "display_name": "base",
   "language": "python",
   "name": "python3"
  },
  "language_info": {
   "codemirror_mode": {
    "name": "ipython",
    "version": 3
   },
   "file_extension": ".py",
   "mimetype": "text/x-python",
   "name": "python",
   "nbconvert_exporter": "python",
   "pygments_lexer": "ipython3",
   "version": "3.12.7"
  }
 },
 "nbformat": 4,
 "nbformat_minor": 2
}
