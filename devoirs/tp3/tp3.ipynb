{
 "cells": [
  {
   "cell_type": "markdown",
   "metadata": {},
   "source": [
    "# TP 3"
   ]
  },
  {
   "cell_type": "markdown",
   "metadata": {},
   "source": [
    "### Par Mathieu Marquis, Charles-Antoine Parent et Thomas Piuze"
   ]
  },
  {
   "cell_type": "code",
   "execution_count": null,
   "metadata": {},
   "outputs": [],
   "source": [
    "import numpy as np\n",
    "import graphinglib as gl\n",
    "from sklearn.metrics import r2_score        # if trouble importing, try 'pip install scikit-learn'"
   ]
  },
  {
   "cell_type": "markdown",
   "metadata": {},
   "source": [
    "## 3.1 : Décomposition QR par la méthode de Householder"
   ]
  },
  {
   "cell_type": "markdown",
   "metadata": {},
   "source": [
    "### **a)** À l’aide des équations (3.2) et (3.3), démontrez que les matrices de réflexion $Q_i$ sont orthogonales."
   ]
  },
  {
   "cell_type": "markdown",
   "metadata": {},
   "source": [
    "On note que tous les éléments de matrice sont des matrices également. Ainsi, la notation en gras est omise par simplicité.\n",
    "\\begin{align*}\n",
    "    Q_i &= \\begin{bmatrix}\n",
    "        I_i & 0 \\\\\n",
    "        0 & H_{m,i}\n",
    "    \\end{bmatrix} \\\\\n",
    "    H_{m,i} &= I_{m - i} - 2 \\frac{v_{m,i} v_{m,i}^T}{v_{m,i}^T v_{m,i}}\n",
    "\\end{align*}\n",
    "\n",
    "\\begin{align*}\n",
    "    Q_i^T &= \\begin{bmatrix}\n",
    "        I_i^T & 0 \\\\\n",
    "        0 & H_{m,i}^T\n",
    "    \\end{bmatrix} \\\\\n",
    "    &= \\begin{bmatrix}\n",
    "        I_i & 0 \\\\\n",
    "        0 & I_{m - i}^T - 2 \\left(\\frac{v_{m,i} v_{m,i}^T}{v_{m,i}^T v_{m,i}}\\right)^T \n",
    "    \\end{bmatrix} \\\\\n",
    "    &= \\begin{bmatrix}\n",
    "        I_i & 0 \\\\\n",
    "        0 & I_{m - i} - 2 \\frac{v_{m,i} v_{m,i}^T}{v_{m,i}^T v_{m,i}}\n",
    "    \\end{bmatrix} \\\\ &= Q_i\n",
    "\\end{align*}\n",
    "\n",
    "\\begin{align*}\n",
    "    Q_i^T Q_i &= \\begin{bmatrix}\n",
    "        I_i & 0 \\\\\n",
    "        0 & I_{m - i} - 2 \\frac{v_{m,i} v_{m,i}^T}{v_{m,i}^T v_{m,i}}\n",
    "    \\end{bmatrix}\n",
    "    \\begin{bmatrix}\n",
    "        I_i & 0 \\\\\n",
    "        0 & I_{m - i} - 2 \\frac{v_{m,i} v_{m,i}^T}{v_{m,i}^T v_{m,i}}\n",
    "    \\end{bmatrix} \\\\\n",
    "    &= \\begin{bmatrix}\n",
    "        I_i^2 & 0 \\\\\n",
    "        0 & I_{m - i}^2 - 4 I_{m - i} \\frac{v_{m,i} v_{m,i}^T}{v_{m,i}^T v_{m,i}} + 4 \\frac{v_{m,i} (v_{m,i}^T v_{m,i}) v_{m,i}^T}{(v_{m,i}^T v_{m,i})^2}\n",
    "    \\end{bmatrix} \\\\\n",
    "    &= \\begin{bmatrix}\n",
    "        I_i & 0 \\\\\n",
    "        0 & I_{m - i} - 4 \\frac{v_{m,i} v_{m,i}^T}{v_{m,i}^T v_{m,i}} + 4 \\frac{v_{m,i} v_{m,i}^T}{v_{m,i}^T v_{m,i}}\n",
    "    \\end{bmatrix} \\\\\n",
    "    &= \\begin{bmatrix}\n",
    "        I_i & 0 \\\\\n",
    "        0 & I_{m - i}\n",
    "    \\end{bmatrix} \\\\\n",
    "    &= I_m\n",
    "\\end{align*}\n",
    "Ce qui montre l'orthogonalité des matrices $Q_i$."
   ]
  },
  {
   "cell_type": "markdown",
   "metadata": {},
   "source": [
    "### **b)** Démontrez l’équation (3.5) et que la matrice $Q$ est orthogonale."
   ]
  },
  {
   "cell_type": "markdown",
   "metadata": {},
   "source": [
    "On dispose de l'équation:\n",
    "$$\n",
    "Q_{n - 1} Q_{n - 2} \\cdots Q_1 Q_0A = R\n",
    "$$\n",
    "Et on désire obtenir une décomposition $QR$ de la forme:\n",
    "$$ A = QR $$\n",
    "Pour ce faire, on prémultiplie chaque côté de l'équation initiale par $Q_{n - 1}^T$, puis par $Q_{n - 2}^T$, et ainsi de suite jusqu'à $Q_0^T$. Étant donné que $Q_i^TQ_i=I_m$, on obtient:\n",
    "$$\n",
    "\\begin{align*}\n",
    "    Q_{n - 1}^TQ_{n - 1} Q_{n - 2} \\cdots Q_1 Q_0A &= Q_{n - 1}^T R \\\\\n",
    "    I_m Q_{n - 2} \\cdots Q_1 Q_0A &= Q_{n - 1}^T R \\\\\n",
    "    Q_{n - 2}^TQ_{n - 2} \\cdots Q_1 Q_0A &= Q_{n - 2}^T Q_{n - 1}^T R \\\\\n",
    "    &\\: \\cdots \\\\\n",
    "    A &= Q_0^T Q_1^T \\cdots Q_{n - 2}^T Q_{n - 1}^TR \\\\\n",
    "    \\implies Q &= Q_0^T Q_1^T \\cdots Q_{n - 2}^T Q_{n - 1}^T\n",
    "\\end{align*}\n",
    "$$\n",
    "Ce qui démontre l'équation (3.5). On veut ensuite montrer que la matrice $Q$ est orthogonale:\n",
    "$$\n",
    "\\begin{align*}\n",
    "    Q &= Q_0^T Q_1^T \\cdots Q_{n - 2}^T Q_{n - 1}^T \\\\\n",
    "    \\Rightarrow Q^T &= (Q_0^T Q_1^T \\cdots Q_{n - 2}^T Q_{n - 1}^T)^T \\\\\n",
    "    &= Q_{n - 1} Q_{n - 2} \\cdots Q_1 Q_0\n",
    "\\end{align*}\n",
    "$$\n",
    "\n",
    "$$\n",
    "\\begin{align*}\n",
    "    Q^T Q &= (Q_{n - 1} Q_{n - 2} \\cdots Q_1 Q_0) (Q_0^T Q_1^T \\cdots Q_{n - 2}^T Q_{n - 1}^T) \\\\\n",
    "    &= Q_{n - 1} Q_{n - 2} \\cdots Q_1 Q_0 Q_0^T Q_1^T \\cdots Q_{n - 2}^T Q_{n - 1}^T\n",
    "\\end{align*}\n",
    "$$\n",
    "En **a)**, on a démontré que $Q_i^T = Q_i$ et que $Q_i^T Q_i = I$. $Q_i^T$ est donc la matrice inverse de $Q_i$, ce qui veut dire qu'on a également $Q_iQ_i^T = I$. On peut alors annuler les termes à partir du centre dans l'expression pour $Q^T Q$ :\n",
    "$$\n",
    "\\begin{align*}\n",
    "    Q^T Q &= Q_{n - 1} Q_{n - 2} \\cdots Q_1 (Q_0 Q_0^T) Q_1^T \\cdots Q_{n - 2}^T Q_{n - 1}^T \\\\\n",
    "    &= Q_{n - 1} Q_{n - 2} \\cdots Q_1 I Q_1^T \\cdots Q_{n - 2}^T Q_{n - 1}^T \\\\\n",
    "    &= Q_{n - 1} Q_{n - 2} \\cdots (Q_1 Q_1^T) \\cdots Q_{n - 2}^T Q_{n - 1}^T \\\\\n",
    "    &\\: \\cdots \\\\\n",
    "    &= I\n",
    "\\end{align*}\n",
    "$$\n",
    "Ce qui montre que la matrice $Q$ est orthogonale."
   ]
  },
  {
   "cell_type": "markdown",
   "metadata": {},
   "source": [
    "### **c)** Implémentez la fonction `householder_qr` qui prend en argument une matrice $A$ et qui retourne les matrices $Q$ et $R$ obtenues par la méthode de Householder."
   ]
  },
  {
   "cell_type": "code",
   "execution_count": null,
   "metadata": {},
   "outputs": [],
   "source": [
    "def householder_qr(A: np.ndarray) -> tuple[np.ndarray, np.ndarray]:\n",
    "    \"\"\"\n",
    "    Performe une décomposition QR d'une matrice en utilisant la méthode de Householder\n",
    "\n",
    "    Paramètres:\n",
    "    -----------\n",
    "    A (np.ndarray) : La matrice à décomposer\n",
    "\n",
    "    Retourne:\n",
    "    --------\n",
    "    tuple[np.ndarray, np.ndarray]\n",
    "        Un tuple contenant deux numpy arrays:\n",
    "        - Q: La matrice orthogonale\n",
    "        - R: La matrice triangulaire supérieure résultante\n",
    "    \"\"\"\n",
    "    m, n = A.shape\n",
    "    Q = np.eye(m)\n",
    "    R = np.copy(A)\n",
    "    for i in range(n):\n",
    "        x = R[i:, i]\n",
    "        e_1 = np.zeros(m - i)\n",
    "        e_1[0] = 1\n",
    "        v = np.sign(x[0]) * np.linalg.norm(x) * e_1 + x\n",
    "        H = np.eye(m - i) - 2 * np.outer(v, v.T) / np.dot(v.T, v)\n",
    "        Q_i = np.eye(m)\n",
    "        Q_i[i:, i:] = H\n",
    "        Q = np.dot(Q, Q_i.T)\n",
    "        R = np.dot(Q_i, R)\n",
    "    return Q, R"
   ]
  },
  {
   "cell_type": "markdown",
   "metadata": {},
   "source": [
    "### **d)** À l’aide d’une matrice de dimension $4 \\times 3$ de votre choix, testez votre fonction `householder_qr` et comparez les résultats obtenus avec ceux obtenus à l’aide de la fonction `numpy.linalg.qr`. Les matrices sont-elles exactement les mêmes ? Si non, est-ce un problème ?"
   ]
  },
  {
   "cell_type": "code",
   "execution_count": null,
   "metadata": {},
   "outputs": [],
   "source": [
    "A = np.array([[1, 2, 3],\n",
    "              [4, 5, 6],\n",
    "              [7, 8, 9],\n",
    "              [10, 11, 12]])\n",
    "\n",
    "Q_1, R_1 = householder_qr(A)\n",
    "print(\"householder_qr :\", f'Q = {Q_1}', f'R = {R_1}', sep='\\n')\n",
    "\n",
    "Q_2, R_2 = np.linalg.qr(A, mode='complete')\n",
    "print(\"np.linalg.qr :\", f'Q = {Q_2}', f'R = {R_2}', sep='\\n')\n",
    "\n",
    "print(f\"Différences entre les matrices Q:\\n{np.abs(Q_1 - Q_2)}\")\n",
    "print(f\"Différences entre les matrices R:\\n{np.abs(R_1 - R_2)}\")"
   ]
  },
  {
   "cell_type": "markdown",
   "metadata": {},
   "source": [
    "Nous avons passé l'argument `mode='complete'` à la fonction `numpy.linalg.qr`, car cette dernière retourne par défaut la décomposition réduite, alors que nous voulons comparer notre résultat avec la décomposition standard. En négligeant les différences de l'ordre de $10^{-15}$ ou moins qui peuvent provenir de diverses erreurs d'approximation numériques, on constate que les matrices $R$ ainsi que les deux premières colonnes de $Q$ sont identiques. Les deux dernières colonnes de $Q$ sont différentes, mais puisque les deux dernières lignes de $R$ sont nulles (ou avec de très faibles valeurs, qui peuvent être considérées comme nulles), cela ne change rien au résultat $A=QR$. Cette différence n'est donc pas un problème, d'autant plus que selon les dimensions et le rang de la matrice $A$, la décomposition $QR$ n'est pas toujours unique [1].\n",
    "\n",
    "On remarque aussi que la méthode `numpy.linalg.qr` engendre deux lignes presque uniquement composées de zéros dans la matrice $R$ (le seul élément non-nul est de l'ordre de $10^{-15}$, donc négligeable). Les éléments de ces lignes sont aussi négligeables dans la matrice $R$ donnée par la méthode de `householder`, ce qui provient du fait que les colonnes de la matrice $A$ utilisée ne sont pas linéairement indépendantes. En effet, la deuxième colonne peut être obtenue en faisant la moyenne des colonnes 1 et 3. En utilisant une matrice dont nous savons que le rang est égal à son nombre de colonnes, on obtient une matrice $R$ avec une seule ligne de zéros:"
   ]
  },
  {
   "cell_type": "code",
   "execution_count": null,
   "metadata": {},
   "outputs": [],
   "source": [
    "A = np.array([[1, 1, 2],\n",
    "              [8, 5, 13],\n",
    "              [13, 21, 34],\n",
    "              [55, 144, 89]])\n",
    "\n",
    "print(f'Vérification: rang(A) = {np.linalg.matrix_rank(A)} = nb colonnes = {A.shape[1]}')\n",
    "\n",
    "Q_1, R_1 = householder_qr(A)\n",
    "print(\"householder_qr :\", f'Q = {Q_1}', f'R = {R_1}', sep='\\n')\n",
    "\n",
    "Q_2, R_2 = np.linalg.qr(A, mode='complete')\n",
    "print(\"np.linalg.qr :\", f'Q = {Q_2}', f'R = {R_2}', sep='\\n')\n",
    "\n",
    "print(f\"Différences entre les matrices Q:\\n{np.abs(Q_1 - Q_2)}\")\n",
    "print(f\"Différences entre les matrices R:\\n{np.abs(R_1 - R_2)}\")"
   ]
  },
  {
   "cell_type": "markdown",
   "metadata": {},
   "source": [
    "On trouve toujours une ligne de zéros, car les lignes de la matrice $A$, elles, ne peuvent pas être linéairement indépendantes, puisqu'on a seulement besoin de 3 vecteurs pour former une base d'un espace vectoriel à trois dimensions."
   ]
  },
  {
   "cell_type": "markdown",
   "metadata": {},
   "source": [
    "### **e)** À l’aide de la matrice utilisée en **d**, illustrez comment la multiplication successive des matrices $Q_i$ triangularise progressivement la matrice $A$. Dans l’élan, assurez-vous que les matrices $Q$ et $R$ obtenues sont bien orthogonale et triangulaire supérieure, respectivement."
   ]
  },
  {
   "cell_type": "code",
   "execution_count": null,
   "metadata": {},
   "outputs": [],
   "source": [
    "def householder_qr_successif(A: np.ndarray) -> tuple[np.ndarray, np.ndarray]:\n",
    "    \"\"\"\n",
    "    Performe une décomposition QR d'une matrice en utilisant la méthode de Householder\n",
    "\n",
    "    Paramètres:\n",
    "    -----------\n",
    "    A (np.ndarray) : La matrice à décomposer\n",
    "\n",
    "    Retourne:\n",
    "    --------\n",
    "    tuple[np.ndarray, np.ndarray]\n",
    "        Un tuple contenant deux numpy arrays:\n",
    "        - Q: La matrice orthogonale\n",
    "        - R: La matrice triangulaire supérieure résultante\n",
    "    \"\"\"\n",
    "    print(\"A =\", A)\n",
    "    m, n = A.shape\n",
    "    Q = np.eye(m)\n",
    "    R = np.copy(A)\n",
    "    for i in range(n):\n",
    "        x = R[i:, i]\n",
    "        e_1 = np.zeros(m - i)\n",
    "        e_1[0] = 1\n",
    "        v = np.sign(x[0]) * np.linalg.norm(x) * e_1 + x\n",
    "        H = np.eye(m - i) - 2 * np.outer(v, v.T) / np.dot(v.T, v)\n",
    "        Q_i = np.eye(m)\n",
    "        Q_i[i:, i:] = H\n",
    "        Q = np.dot(Q, Q_i.T)\n",
    "        R = np.dot(Q_i, R)\n",
    "        print(f\"i = {i} : Q^T * A = \\n{R}\")\n",
    "\n",
    "householder_qr_successif(A)"
   ]
  },
  {
   "cell_type": "markdown",
   "metadata": {},
   "source": [
    "On remarque que chaque itération triangularise une colonne de la matrice $A$. On constate par le fait même que la matrice $R$ obtenue à la dernière itération est bel et bien triangulaire supérieure, car tous les éléments en-dessous de la diagonale principale sont de l'ordre de $10^{-15}$ ou moins, ce qui est négligeable. De plus, on peut vérifier que la matrice $Q$ est bel et bien orthogonale:"
   ]
  },
  {
   "cell_type": "code",
   "execution_count": null,
   "metadata": {},
   "outputs": [],
   "source": [
    "Q, R = householder_qr(A)\n",
    "verif = np.dot(Q.T, Q)\n",
    "print(\"Q^T Q =\", verif)"
   ]
  },
  {
   "cell_type": "markdown",
   "metadata": {},
   "source": [
    "$Q^T Q$ est assez proche de la matrice identité de dimensions $4 \\times 4$, puisque tous les éléments en dehors de la diagonale sont de l'ordre de $10^{-16}$ ou moins, ce qui est négligeable."
   ]
  },
  {
   "cell_type": "markdown",
   "metadata": {},
   "source": [
    "## 3.2 : Mesures imprécises dans un jeu de bataille navale"
   ]
  },
  {
   "cell_type": "markdown",
   "metadata": {},
   "source": [
    "### **a)** Modifiez votre code de décomposition QR pour qu’il retourne la décomposition QR réduite de la matrice d’entrée lorsque l’argument additionnel `reduite=True` lui est passé."
   ]
  },
  {
   "cell_type": "code",
   "execution_count": null,
   "metadata": {},
   "outputs": [],
   "source": [
    "def householder_qr(A: np.ndarray, reduite: bool=False) -> tuple[np.ndarray, np.ndarray]:\n",
    "    \"\"\"\n",
    "    Performe une décomposition QR d'une matrice en utilisant la méthode de Householder\n",
    "\n",
    "    Paramètres:\n",
    "    -----------\n",
    "    A (np.ndarray) : La matrice à décomposer\n",
    "    reduite (bool) : Précise si la décomposition QR réduite est désirée. Par défaut, c'est False.\n",
    "\n",
    "    Retourne:\n",
    "    --------\n",
    "    tuple[np.ndarray, np.ndarray]\n",
    "        Un tuple contenant deux numpy arrays:\n",
    "        - Q: La matrice orthogonale\n",
    "        - R: La matrice triangulaire supérieure résultante\n",
    "    \"\"\"\n",
    "    m, n = A.shape\n",
    "    Q = np.eye(m)\n",
    "    R = np.copy(A)\n",
    "    for i in range(n):\n",
    "        x = R[i:, i]\n",
    "        e_1 = np.zeros(m - i)\n",
    "        e_1[0] = 1\n",
    "        v = np.sign(x[0]) * np.linalg.norm(x) * e_1 + x\n",
    "        H = np.eye(m - i) - 2 * np.outer(v, v.T) / np.dot(v.T, v)\n",
    "        Q_i = np.eye(m)\n",
    "        Q_i[i:, i:] = H\n",
    "        Q = np.dot(Q, Q_i.T)\n",
    "        R = np.dot(Q_i, R)\n",
    "    if reduite:\n",
    "        Q, R = Q[:m, :n], R[:n, :n]\n",
    "    return Q, R\n",
    "\n",
    "Q_1, R_1 = householder_qr(A, reduite=True)\n",
    "print(\"householder_qr :\", f'Q = {Q_1}', f'R = {R_1}', sep='\\n')\n",
    "\n",
    "Q_2, R_2 = np.linalg.qr(A)\n",
    "print(\"np.linalg.qr :\", f'Q = {Q_2}', f'R = {R_2}', sep='\\n')\n",
    "\n",
    "print(f\"Différences entre les matrices Q:\\n{np.abs(Q_1 - Q_2)}\")\n",
    "print(f\"Différences entre les matrices R:\\n{np.abs(R_1 - R_2)}\")"
   ]
  },
  {
   "cell_type": "markdown",
   "metadata": {},
   "source": [
    "Cette fois-ci, nous n'avons pas passé l'argument `mode='complete'` à la fonction `numpy.linalg.qr`, car nous voulons comparer notre résultat avec la décomposition réduite (le mode par défaut). Encore une fois, en négligeant les différences de l'ordre de $10^{-15}$ ou moins, on constate que les matrices $R$ ainsi que les deux premières colonnes de $Q$ sont identiques. La dernière colonne de $Q$ est différente, mais puisque la dernière ligne de $R$ est nulle (ou presque), cela n'affecte pas le résultat, tel qu'expliqué précédemment."
   ]
  },
  {
   "cell_type": "markdown",
   "metadata": {},
   "source": [
    "### **b)** Utilisez votre code pour résoudre approximativement l’équation (3.9). Vous utiliserez les données fournies dans le fichier `bataille_navale_equipe0XX.csv` où vous remplacerez 0XX par votre numéro d’équipe dans la boîte de dépôt sur MonPortail."
   ]
  },
  {
   "cell_type": "code",
   "execution_count": null,
   "metadata": {},
   "outputs": [],
   "source": [
    "x, Y = np.loadtxt('devoirs/tp3/bataille_navale_donnees_2025/bataille_navale_equipe010.csv', unpack=True, delimiter=',', skiprows=1)\n",
    "X = np.array([np.ones_like(x), x, x**2]).T\n",
    "Q, R = householder_qr(X, reduite=True)\n",
    "\n",
    "def retrosubstitution(A: np.ndarray, b: np.ndarray) -> np.ndarray:\n",
    "    \"\"\"\n",
    "    Effectue la rétro-substitution pour résoudre un système d'équations linéaires de la forme Ax = b\n",
    "    où A est une matrice triangulaire supérieure.\n",
    "    \n",
    "    Paramètres:\n",
    "    -----------\n",
    "    A (np.ndarray) : La matrice triangulaire supérieure.\n",
    "    b (np.ndarray) : Le vecteur de constantes.\n",
    "    \n",
    "    Retourne:\n",
    "    --------\n",
    "    np.ndarray\n",
    "        Le vecteur solution x.\n",
    "    \"\"\"\n",
    "    m, n = A.shape\n",
    "    x = np.empty(m)\n",
    "    for i in range(m-1, -1, -1):\n",
    "        x[i] = b[i]/A[i,i]\n",
    "        for j in range(i+1, n):\n",
    "            x[i] -= A[i,j]/A[i,i]*x[j]\n",
    "    return x\n",
    "\n",
    "alpha = retrosubstitution(R, np.dot(Q.T, Y))\n",
    "alpha_0, alpha_1, alpha_2 = alpha\n",
    "print(f'y(x) = {alpha_0} + {alpha_1}x + {alpha_2}x^2')"
   ]
  },
  {
   "cell_type": "markdown",
   "metadata": {},
   "source": [
    "Cette équation est la solution approximative recherchée."
   ]
  },
  {
   "cell_type": "markdown",
   "metadata": {},
   "source": [
    "### **c)** Tracez les données (cercles noirs) et la solution estimée de la trajectoire(ligne pleine de la couleur de votre choix) donnée par l’équation (3.8)"
   ]
  },
  {
   "cell_type": "code",
   "execution_count": null,
   "metadata": {},
   "outputs": [],
   "source": [
    "fig = gl.Figure('Distance [u. arb.]', 'Altitude [u. arb.]')\n",
    "fig.add_elements(\n",
    "    gl.Scatter(x, Y, label='Données', face_color='black'),\n",
    "    gl.Curve(x, np.dot(X, alpha), label='Solution estimée')\n",
    ")\n",
    "fig.show()\n",
    "print(f\"Coefficient de détermination : {r2_score(Y, np.dot(X, alpha))}\")"
   ]
  },
  {
   "cell_type": "markdown",
   "metadata": {},
   "source": [
    "On remarque que la solution trouvée s'agence très bien avec les données, avec un coefficient de détermination très près de l'unité, ce qui indique que la tendance est bien représentée."
   ]
  },
  {
   "cell_type": "markdown",
   "metadata": {},
   "source": [
    "### **d)** Obtenez la position d’impact du projectile (à $y = 0$) en résolvant l’équation quadratique (3.8) pour $x$ à l’aide d’une implémentation personnelle de la méthode de la bissection. Comparez votre solution avec celle obtenue en résolvant cette même équation analytiquement. Considérant que votre embarcation se situe à la position $(x,y) = (0,0)$, quelle est la distance horizontale vous séparant du point d’impact ?"
   ]
  },
  {
   "cell_type": "markdown",
   "metadata": {},
   "source": [
    "Le code suivant implante la méthode de la bissection pour déterminer la position d'impact du projectile. Les bornes initiales de l'intervalle, soit de 2600 à 2700, ont été choisies en se fiant au graphique de la question 3.2 c)."
   ]
  },
  {
   "cell_type": "code",
   "execution_count": null,
   "metadata": {},
   "outputs": [],
   "source": [
    "def f(x: float) -> float:\n",
    "    \"\"\"Fonction à minimiser pour trouver la position d'impact du projectile.\"\"\"\n",
    "    return np.dot(alpha, np.array([1, x, x**2]))\n",
    "\n",
    "def bissection(xA: float, xB: float, precision: float=1e-8) -> float:\n",
    "    \"\"\"\n",
    "    Méthode de bissection pour trouver la racine d'une fonction f dans l'intervalle [xA, xB].\n",
    "    \n",
    "    Paramètres:\n",
    "    -----------\n",
    "    xA (float) : Borne inférieure de l'intervalle.\n",
    "    xB (float) : Borne supérieure de l'intervalle.\n",
    "    precision (float) : Précision désirée pour la solution.\n",
    "    \n",
    "    Retourne:\n",
    "    --------\n",
    "    float\n",
    "        La valeur de x pour laquelle f(x) = 0.\n",
    "    \"\"\"\n",
    "    erreur = 1\n",
    "    dernier_x = None\n",
    "    while np.abs(erreur) > precision:\n",
    "        xM = (xA+xB)/2\n",
    "        erreur = xM - dernier_x if dernier_x is not None else 1\n",
    "        dernier_x = xM\n",
    "        if f(xA)*f(xM) >= 0:\n",
    "            xA = xM\n",
    "        elif f(xB)*f(xM) >= 0 :\n",
    "            xB = xM\n",
    "        else:\n",
    "            # f(xA) et f(xB) sont du même signe, alors les valeurs initiales de xA et xB doivent être modifiées\n",
    "            raise ValueError(\"f(xA) et f(xB) sont du même signe.\")\n",
    "    return dernier_x\n",
    "\n",
    "pos_bissection = bissection(2600, 2700)\n",
    "print(f\"Position d'impact du projectile: {pos_bissection}\")"
   ]
  },
  {
   "cell_type": "markdown",
   "metadata": {},
   "source": [
    "Le code suivant permet d'obtenir analytiquement le point d'impact du projectile (en $x$), qui correspond également à la distance horizontale séparant l'embarcation du point d'impact, car l'embarcation se situe à l'origine du système de coordonnées."
   ]
  },
  {
   "cell_type": "code",
   "execution_count": null,
   "metadata": {},
   "outputs": [],
   "source": [
    "c, b, a = alpha\n",
    "rad = np.sqrt(b**2-4*a*c)\n",
    "x1, x2 = (-b-rad)/(2*a), (-b+rad)/(2*a)\n",
    "position_analytique = max(x1, x2)\n",
    "print(f\"Position d'impact du projectile/distance horizontale: {position_analytique}\")\n",
    "print(f\"Erreur de la méthode de bissection: {np.abs(pos_bissection - position_analytique)}\")"
   ]
  },
  {
   "cell_type": "markdown",
   "metadata": {},
   "source": [
    "On constate que les deux solutions ont une différence de l'ordre de $10^{-9}$, ce qui respecte la précision par défaut choisie pour la fonction `bissection`. Cette méthode permet ainsi de faire l'approximation adéquate des zéros d'une fonction."
   ]
  },
  {
   "cell_type": "code",
   "execution_count": null,
   "metadata": {},
   "outputs": [],
   "source": [
    "fig = gl.Figure('Distance [u. arb.]', 'Altitude [u. arb.]', show_grid=True, x_lim=(2100, 2800))\n",
    "fig.add_elements(\n",
    "    gl.Scatter(x, Y, label='Données', face_color='black'),\n",
    "    gl.Curve(x, np.dot(X, alpha), label='Solution estimée'),\n",
    "    gl.Point(position_analytique, 0, label=f\"{position_analytique:.2f}\", color='red')\n",
    ")\n",
    "fig.show()"
   ]
  },
  {
   "cell_type": "markdown",
   "metadata": {},
   "source": [
    "Le graphique ci-dessus illustre le point d'impact du projectile tel que calculé."
   ]
  },
  {
   "cell_type": "markdown",
   "metadata": {},
   "source": [
    "## 3.3 : Modèle épidemiologique SIR sur réseau"
   ]
  },
  {
   "cell_type": "markdown",
   "metadata": {},
   "source": [
    "### **a)** Trouvez analytiquement toutes les solutions de l’équation cubique (3.14)."
   ]
  },
  {
   "cell_type": "markdown",
   "metadata": {},
   "source": [
    "L'équation cubique à résoudre est:\n",
    "$$ u = \\frac{1}{\\left[1+T(\\kappa-1)(1-u)\\right]^2} $$\n",
    "On peut trouver les solutions de cette équation à l'aide de quelques manipulations algébriques:\n",
    "$$ \\begin{align*}\n",
    "        1 &= u\\left[1+T(\\kappa-1)(1-u)\\right]^2 \\\\\n",
    "        0 &= u\\left[T^2(\\kappa-1)^2(1-u)^2+2T(\\kappa-1)(1-u)+1\\right]-1 \\\\\n",
    "        &= u\\left[T^2(\\kappa-1)^2(1-u)^2+2T(\\kappa-1)(1-u)+1-\\frac{1}{u}\\right] \\\\\n",
    "        &= u\\left[T^2(\\kappa-1)^2(1-u)^2+2T(\\kappa-1)(1-u)-\\frac{1}{u}(1-u)\\right] \\\\\n",
    "        &= u(1-u)\\left[T^2(\\kappa-1)^2(1-u)+2T(\\kappa-1)-\\frac{1}{u}\\right] \\\\\n",
    "        &= (1-u)\\left[T^2(\\kappa-1)^2u(1-u)+2T(\\kappa-1)u-1\\right] \\\\\n",
    "        &= (1-u)\\left[u(1-u)+\\frac{2}{T(\\kappa-1)}u-\\frac{1}{T^2(\\kappa-1)^2}\\right] \\\\\n",
    "        &= (1-u)\\left[u-u^2+\\frac{2}{T(\\kappa-1)}u-\\frac{1}{T^2(\\kappa-1)^2}\\right] \\\\\n",
    "        &= (u-1)\\left[u^2-\\frac{T(\\kappa-1)+2}{T(\\kappa-1)}u+\\frac{1}{T^2(\\kappa-1)^2}\\right]\n",
    "    \\end{align*} $$\n",
    "Il faut désormais trouver les racines de la portion quadratique de l'équation:\n",
    "$$ \\begin{align*}\n",
    "        u &= \\frac{1}{2}\\left(\\frac{T(\\kappa-1)+2}{T(\\kappa-1)}\\pm\\sqrt{\\left(\\frac{T(\\kappa-1)+2}{T(\\kappa-1)}\\right)^2-\\frac{4}{T^2(\\kappa-1)^2}}\\right) \\\\\n",
    "        &= \\frac{1}{2}\\left(1+\\frac{2}{T(\\kappa-1)}\\pm\\sqrt{\\frac{T^2(\\kappa-1)^2+4T(\\kappa-1)+4-4}{T^2(\\kappa-1)^2}}\\right) \\\\\n",
    "        &= \\frac{1}{2}\\left(1+\\frac{2}{T(\\kappa-1)}\\pm\\sqrt{1+\\frac{4}{T(\\kappa-1)}}\\right)\n",
    "    \\end{align*} $$\n",
    "On a donc:\n",
    "$$ \\begin{align*}\n",
    "        (u-1)\\left(u-\\frac{1}{2}\\left[1+\\frac{2}{T(\\kappa-1)}+\\sqrt{1+\\frac{4}{T(\\kappa-1)}}\\right]\\right)\\left(u-\\frac{1}{2}\\left[1+\\frac{2}{T(\\kappa-1)}-\\sqrt{1+\\frac{4}{T(\\kappa-1)}}\\right]\\right) &= 0\n",
    "    \\end{align*} $$\n",
    "Les trois racines de cette équation sont alors: \n",
    "$$ u_1=1 \\\\\n",
    "u_2=\\frac{1}{2}\\left[1+\\frac{2}{T(\\kappa-1)}+\\sqrt{1+\\frac{4}{T(\\kappa-1)}}\\right] \\\\\n",
    "u_3=\\frac{1}{2}\\left[1+\\frac{2}{T(\\kappa-1)}-\\sqrt{1+\\frac{4}{T(\\kappa-1)}}\\right] $$"
   ]
  },
  {
   "cell_type": "markdown",
   "metadata": {},
   "source": [
    "### **b)** Démontrez laquelle des solutions obtenues précédemment (ou une combinaison de celles-ci) correspond à $u$, soit la solution recherchée de l’équation (3.14)."
   ]
  },
  {
   "cell_type": "markdown",
   "metadata": {},
   "source": [
    "La solution recherchée est la plus petite solution non négative de (3.14). En remplaçant $\\kappa$ par sa valeur $\\kappa=5$, les trois solutions deviennent:\n",
    "$$ \\begin{align*}\n",
    "    u_1 &= 1 \\\\\n",
    "    u_2 &= \\frac{1}{2}\\left[1+\\frac{1}{2T}+\\sqrt{1+\\frac{1}{T}}\\right] \\\\\n",
    "    u_3 &= \\frac{1}{2}\\left[1+\\frac{1}{2T}-\\sqrt{1+\\frac{1}{T}}\\right]\n",
    "\\end{align*} $$\n",
    "Puisque $0\\leq T\\leq1$, $u_2$ est toujours plus grande que $u_3$. On peut vérifier si $u_3$ possède des zéros:\n",
    "$$ \\begin{align*}\n",
    "    \\frac{1}{2}\\left[1+\\frac{1}{2T}-\\sqrt{1+\\frac{1}{T}}\\right] &= 0 \\\\\n",
    "    1+\\frac{1}{2T} &= \\sqrt{1+\\frac{1}{T}} \\\\\n",
    "    1+\\frac{1}{T}+\\frac{1}{4T^2} &= 1+\\frac{1}{T} \\\\\n",
    "    \\frac{1}{4T^2} &= 0\n",
    "\\end{align*} $$\n",
    "Pour $0\\leq T\\leq 1$, cette équation ne peut être satisfaite. $u_3$ est donc toujours du même signe. Pour $T=0.1$ et $T=1$, nous avons:\n",
    "$$ \\begin{align*}\n",
    "        u_3(0.1) &= \\frac{1}{2}\\left[1+\\frac{1}{0.2}-\\sqrt{1+\\frac{1}{0.1}}\\right] = \\frac{1}{2}\\left[6-\\sqrt{11}\\right] \\approx 1.3417 > 0 \\\\\n",
    "        u_3(1) &= \\frac{1}{2}\\left[1+\\frac{1}{2}-\\sqrt{1+\\frac{1}{1}}\\right] = \\frac{1}{2}\\left[\\frac{3}{2}-\\sqrt{2}\\right] \\approx 0.04289 > 0\n",
    "    \\end{align*} $$\n",
    "Ce qui signifie que $u_3$ est toujours positive. Il reste à déterminer si $u_3$ est plus petite ou plus grande que $u_1$. Pour ce faire, il faut d'abord trouver les intersections de $u_1$ et $u_3$:\n",
    "$$ \\begin{align*}\n",
    "    \\frac{1}{2}\\left[1+\\frac{1}{2T}-\\sqrt{1+\\frac{1}{T}}\\right] &= 1 \\\\\n",
    "    1+\\frac{1}{2T} &= 2+\\sqrt{1+\\frac{1}{T}} \\\\\n",
    "    \\frac{1}{2T}-1 &= \\sqrt{1+\\frac{1}{T}} \\\\\n",
    "    \\frac{1}{4T^2}-\\frac{1}{T}+1 &= 1+\\frac{1}{T} \\\\\n",
    "    \\frac{1}{4T^2} &= \\frac{2}{T} \\\\\n",
    "    T &= \\frac{1}{8}\n",
    "\\end{align*} $$\n",
    "$u_1$ et $u_3$ sont donc équivalentes pour $T=0.125$. Pour $0.125 < T \\leq 1$, $u_1>u_3$, car $u_3(1) \\approx 0.04289 < u_1(1) = 1$. Pour $0 \\leq T < 0.125$, $u_1<u_3$, car $u_3(0.1) \\approx 1.3417 > u_1(0.1) = 1$. La solution recherchée de l'équation (3.14) est donc $u_1$ pour $0 \\leq T \\leq 0.125$ et $u_3$ pour $0.125 < T \\leq 1$."
   ]
  },
  {
   "cell_type": "markdown",
   "metadata": {},
   "source": [
    "Ces résultats peuvent être vérifiés graphiquement : "
   ]
  },
  {
   "cell_type": "code",
   "execution_count": null,
   "metadata": {},
   "outputs": [],
   "source": [
    "k = 5\n",
    "fig = gl.Figure(r\"Probabilité de contagion $T$ [-]\", r\"$u$ [-]\", \n",
    "                title=r\"Solutions analytiques de $u$ en fonction de $T$ avec $\\kappa=5$\", x_lim=(0,1))\n",
    "fig.add_elements(\n",
    "    gl.Curve.from_function(lambda T: np.ones_like(T), 0.01, 1, label=r\"$u_1$\"),\n",
    "    gl.Curve.from_function(lambda T: 0.5 * (1 + 2/(T * (k-1)) + np.sqrt(1 + 4/(T * (k-1)))), 0.01, 1, label=r\"$u_2$\"),\n",
    "    gl.Curve.from_function(lambda T: 0.5 * (1 + 2/(T * (k-1)) - np.sqrt(1 + 4/(T * (k-1)))), 0.01, 1, label=r\"$u_3$\"),\n",
    "    gl.Point(0.125, 1, label=f\"$T={0.125}$\", color=\"black\")\n",
    ")\n",
    "fig.show()"
   ]
  },
  {
   "cell_type": "markdown",
   "metadata": {},
   "source": [
    "### **c)** Tracez $R_\\infty$ en fonction de $T$ et identifiez tout changement qualitatif de $R_\\infty$. Comment interprétez-vous ce changement (ou cette absence de changement) ?"
   ]
  },
  {
   "cell_type": "code",
   "execution_count": null,
   "metadata": {},
   "outputs": [],
   "source": [
    "def r_infty(T: float | np.ndarray, k: float = 5) -> float | np.ndarray:\n",
    "    \"\"\"\n",
    "    Fraction de la population qui sera infecté à un moment ou un autre pendant une épidémie.\n",
    "\n",
    "    Paramètres:\n",
    "    -----------\n",
    "    T (float | np.ndarray) : Probabilité qu'un individu infecté infecte tous ces voisins.\n",
    "    k (float) : Paramètre de la distribution.\n",
    "    \"\"\"\n",
    "    u = np.min(np.stack([\n",
    "        np.ones_like(T), \n",
    "        0.5*(1 + 2 / (T*(k - 1)) - np.sqrt(1 + 4 / (T*(k - 1)))), \n",
    "        0.5*(1 + 2 / (T*(k - 1)) + np.sqrt(1 + 4 / (T*(k - 1))))\n",
    "    ]), axis=0)\n",
    "    return 1 - ((1 - T*(1 - u)) / (1 + T*(k - 1)*(1 - u)))\n",
    "\n",
    "fig = gl.Figure(r\"Probabilité de contagion $T$ [-]\", r\"Indicateur de la contagiosité $R_{\\infty}$ [-]\", \n",
    "                title=r\"Solutions analytiques de $R_{\\infty}$ en fonction de $T$ avec $\\kappa=5$\")\n",
    "fig.add_elements(\n",
    "    gl.Curve.from_function(r_infty, 1e-10, 1),\n",
    "    gl.Vlines([0.125], 0, 1, label=f\"$T={0.125}$\", colors=\"black\", line_widths=1)\n",
    ")\n",
    "fig.show(legend_loc=\"center right\")"
   ]
  },
  {
   "cell_type": "markdown",
   "metadata": {},
   "source": [
    "Un changement se produit à $T=0.125$. La valeur de $R_\\infty$, auparavant nulle, augmente brusquement. Cette augmentation ralentit ensuite peu à peu. L'interprétation épidémiologique de ce phénomène est qu'avant ce point de bascule, la probabilité $T$ qu'un individu contagieux infecte ses voisins est trop faible. Ainsi, pour une distribution de probabilité de contacts de moyenne $\\kappa=5$, le virus ne parvient pas à se répandre dans la population. Lorsque la probabilité de contagion $T$ atteint la valeur clé de $0.125$, la probabilité devient juste assez élevée pour une épidémie, et $R_\\infty$ augmente abruptement. La croissance de $R_\\infty$ se fait toutefois de plus en plus lente à mesure que $T$ augmente, car peu importe la contagiosité de la maladie, il y aura toujours des individus isolés ayant peu de contacts avec les individus infectés, de telle sorte qu'il sera difficile pour la maladie d'atteindre ces individus reclus."
   ]
  },
  {
   "cell_type": "markdown",
   "metadata": {},
   "source": [
    "### **d)** Résolvez numériquement l’équation (3.14) à l’aide d’implémentations personnelles de la méthode par relaxation et de la méthode de Newton-Raphson pour 20 valeurs de $T$ uniformément distribuées dans l’intervalle $[0,1]$. Illustrez vos résultats à l’aide d’un graphique comparant les solutions analytiques (indiquées avec des lignes de couleurs distinctes) aux solutions numériques obtenues avec différentes valeurs initiales de l’algorithme (symboles ; choisissez bien vos symboles pour que vos solutions soient bien visibles). Arrivez-vous à obtenir les trois solutions identifiées en a ? Pourquoi ? Considérez tracer l’équation (3.14) de même que la dérivée de $f(u)$ en fonction de u et ce, pour quelques valeurs de $T$, pour appuyer vos conclusions. Vous pouvez aussi tracer les itérations successives de chacune des méthodes afin d’illustrer la manière dont elles convergent vers l’une ou l’autre des solutions (ex. : tracer un diagramme en toile d’araignée).\n"
   ]
  },
  {
   "cell_type": "markdown",
   "metadata": {},
   "source": [
    "Le code suivant définit les solutions analytiques de l'équation, sa forme non-générale, la dérivée de sa forme non-générale, sa forme générale et la dérivée de sa forme générale. On appelle forme non-générale l'équation lorsqu'elle est exprimée sous la forme $u=f(u)$, et forme générale l'équation lorsqu'elle est exprimée sous la forme $f(u)=0$."
   ]
  },
  {
   "cell_type": "code",
   "execution_count": null,
   "metadata": {},
   "outputs": [],
   "source": [
    "# Définition d'objets dont on aura besoin pour la suite\n",
    "\n",
    "def sol_analytiques(T: float | np.ndarray, k: float = 5) -> float | np.ndarray:\n",
    "    \"\"\"\n",
    "    Calcule la solution analytique de l'équation pour un T donné\n",
    "\n",
    "    Paramètres:\n",
    "    -----------\n",
    "    T (float | np.ndarray) : La probabilité qu’un individu contagieux infectera chacun de ses voisins indépendamment.\n",
    "    k (float) : (défaut: 5)\n",
    "    \"\"\"\n",
    "    return np.array([\n",
    "        np.ones_like(T),\n",
    "        0.5*(1 + 2 / (T*(k - 1)) - np.sqrt(1 + 4 / (T*(k - 1)))),\n",
    "        0.5*(1 + 2 / (T*(k - 1)) + np.sqrt(1 + 4 / (T*(k - 1))))\n",
    "    ])\n",
    "\n",
    "def fu(u: float, T: float, k: float = 5) -> float:\n",
    "    \"\"\"\n",
    "    Calcule la fonction f(u) sous sa forme non-générale (équation 3.14) pour un T et k donnés.\n",
    "\n",
    "    Paramètres:\n",
    "    -----------\n",
    "    u (float) : La valeur de u pour laquelle on veut calculer f(u)\n",
    "    T (float) : La probabilité qu’un individu contagieux infectera chacun de ses voisins indépendamment.\n",
    "    k (float) : (défaut: 5)\n",
    "    \"\"\"\n",
    "    return 1 / (1 + T*(k - 1)*(1 - u))**2\n",
    "\n",
    "def dfu(u: float, T: float, k: float = 5) -> float:\n",
    "    \"\"\"\n",
    "    Calcule la dérivée de la fonction f(u) sous sa forme non-générale (équation 3.14) pour un T et k donnés.\n",
    "\n",
    "    Paramètres:\n",
    "    -----------\n",
    "    u (float) : La valeur de u pour laquelle on veut calculer dfu(u)\n",
    "    T (float) : La probabilité qu’un individu contagieux infectera\n",
    "    chacun de ses voisins indépendamment.\n",
    "    k (float) : (défaut: 5)\n",
    "    \"\"\"\n",
    "    return 2*T*(k-1)/(1+T*(k-1)*(1-u))**3\n",
    "\n",
    "def f(u: float, T: float, k: float = 5) -> float:\n",
    "    \"\"\"\n",
    "    Calcule la fonction f(u) sous sa forme générale pour un T et k donnés.\n",
    "\n",
    "    Paramètres:\n",
    "    -----------\n",
    "    u (float) : La valeur de u pour laquelle on veut calculer f(u)\n",
    "    T (float) : La probabilité qu’un individu contagieux infectera chacun de ses voisins indépendamment.\n",
    "    k (float) : (défaut: 5)\n",
    "    \"\"\"\n",
    "    return u*(1 + T*(k - 1)*(1 - u))**2 - 1\n",
    "\n",
    "def df(u: float, T: float, k: float = 5) -> float:\n",
    "    \"\"\"\n",
    "    Calcule la dérivée de la fonction f(u) sous sa forme générale pour un T et k donnés.\n",
    "\n",
    "    Paramètres:\n",
    "    -----------\n",
    "    u (float) : La valeur de u pour laquelle on veut calculer df(u)\n",
    "    T (float) : La probabilité qu’un individu contagieux infectera\n",
    "    chacun de ses voisins indépendamment.\n",
    "    k (float) : (défaut: 5)\n",
    "    \"\"\"\n",
    "    return 2*T*(k-1)*(T*(k-1)*(1-u)*(1-3*u)+2*(1-2*u))+1\n",
    "\n",
    "t = np.linspace(0, 1, 20)"
   ]
  },
  {
   "cell_type": "markdown",
   "metadata": {},
   "source": [
    "Le code suivant définit la méthode par relaxation, qui se sert de la forme non-générale, et la méthode de Newton-Raphson, qui utilise plutôt la forme générale et sa dérivée."
   ]
  },
  {
   "cell_type": "code",
   "execution_count": null,
   "metadata": {},
   "outputs": [],
   "source": [
    "# Méthode par relaxation\n",
    "def relaxation(T: float | np.ndarray, k: float = 5, u0: float = 0.5, precision: float = 1e-8) -> float | np.ndarray:\n",
    "    \"\"\"\n",
    "    Méthode de relaxation pour résoudre l'équation de contagiosité.\n",
    "\n",
    "    Paramètres:\n",
    "    -----------\n",
    "    T (float | np.ndarray) : La probabilité qu’un individu contagieux infectera chacun de ses voisins.\n",
    "    k (float) : (défaut: 5)\n",
    "    u0 (float) : Valeur initiale pour la méthode de relaxation.\n",
    "    precision (float) : Précision désirée pour la solution. La méthode s'arrête lorsque l'erreur est inférieure à cette valeur.\n",
    "\n",
    "    Retourne:\n",
    "    --------\n",
    "    float | np.ndarray\n",
    "        La valeur de u pour laquelle f(u) = 0.\n",
    "    \"\"\"\n",
    "    u = u0\n",
    "    erreur = 1\n",
    "    while np.abs(erreur) > precision:\n",
    "        u_new = fu(u, T, k)\n",
    "        erreur = np.max(u_new - u)\n",
    "        u = u_new\n",
    "    return u\n",
    "\n",
    "# Méthode de Newton-Raphson\n",
    "def newton_raphson(T: float | np.ndarray, k: float = 5, u0: float = 0.5, precision: float = 1e-8) -> float | np.ndarray:\n",
    "    \"\"\"\n",
    "    Méthode de Newton-Raphson pour résoudre l'équation de contagiosité.\n",
    "    \n",
    "    Paramètres:\n",
    "    -----------\n",
    "    T (float | np.ndarray) : La probabilité qu’un individu contagieux infectera chacun de ses voisins.\n",
    "    k (float) : (défaut: 5)\n",
    "    u0 (float) : Valeur initiale pour la méthode de relaxation.\n",
    "    precision (float) : Précision désirée pour la solution. La méthode s'arrête lorsque l'erreur est inférieure à cette valeur.\n",
    "\n",
    "    Retourne:\n",
    "    --------\n",
    "    float | np.ndarray\n",
    "        La valeur de u pour laquelle f(u) = 0.\n",
    "    \"\"\"\n",
    "    u = u0\n",
    "    erreur = 1\n",
    "    while np.abs(erreur) > precision:\n",
    "        u_new = u - f(u, T, k) / df(u, T, k)\n",
    "        erreur = np.max(u_new - u)\n",
    "        u = u_new\n",
    "    return u"
   ]
  },
  {
   "cell_type": "markdown",
   "metadata": {},
   "source": [
    "Le code suivant permet d'afficher les trois solutions analytiques, de même que les solutions calculées à l'aide des deux méthodes, et ce, pour 20 valeurs de $T$ uniformément réparties entre 0 et 1. Pour chaque méthode et chaque valeur de $T$, le calcul est effectué avec 5 valeurs initiales $u_0$ différentes, soit 0.1, 0.5 1.0, 1.75 et 3.0. Ces valeurs initiales sont distinguées par la forme et la couleur des symboles, tels que présentés dans la légende. Un tel diagramme est appelé un diagramme de bifurcation."
   ]
  },
  {
   "cell_type": "code",
   "execution_count": null,
   "metadata": {},
   "outputs": [],
   "source": [
    "valeurs_initiales = [0.1, 0.5, 1.0, 1.75, 3.0]\n",
    "marqueurs = ['d', '^', 'x', '+', '*']\n",
    "\n",
    "# Affichage des solutions\n",
    "fig1 = gl.Figure(r'$T$', r'$u$', title=\"Méthode de relaxation\")\n",
    "fig1.add_elements(\n",
    "    *[gl.Curve.from_function(lambda T: sol_analytiques(T)[i], 0, 1) for i in range(3)],\n",
    "    *[gl.Scatter(t, relaxation(t, u0=u0), label=rf\"$u_0 = {u0}$\", marker_style=marqueurs[m], marker_size=90) for m, u0 in enumerate(valeurs_initiales)]\n",
    ")\n",
    "u_max = np.max(sol_analytiques(t)[np.isfinite(sol_analytiques(t))]) * 1.1\n",
    "fig1.y_lim = (-0.1, u_max)\n",
    "\n",
    "fig2 = gl.Figure(r'$T$', title=\"Méthode de Newton-Raphson\")\n",
    "fig2.add_elements(\n",
    "    *[gl.Curve.from_function(lambda T: sol_analytiques(T)[i], 0, 1) for i in range(3)],\n",
    "    *[gl.Scatter(t, newton_raphson(t, u0=u0), label=rf\"$u_0 = {u0}$\", marker_style=marqueurs[m], marker_size=90) for m, u0 in enumerate(valeurs_initiales)]\n",
    ")\n",
    "fig2.y_lim = (-0.1, u_max)\n",
    "\n",
    "gl.MultiFigure.from_row([fig1, fig2], size=(12, 6), reference_labels=False).show()"
   ]
  },
  {
   "cell_type": "markdown",
   "metadata": {},
   "source": [
    "On remarque que selon la valeur initiale utilisée et la valeur de $T$, les méthodes convergent vers des solutions différentes. On constate également que la valeur initiale $u_0=1$, qui correspond à une solution analytique de l'équation, redonne effectivement cette solution peu importe la valeur de $T$.\n",
    "\n",
    "La méthode de Newton-Raphson retombe sur les trois solutions analytiques selon les combinaisons de $u_0$ et $T$. Il est intéressant de noter que pour des valeurs de $T$ supérieures à environ 0.2, les valeurs initiales choisies permettent de retomber systématiquement sur les trois solutions, ce qui n'est pas le cas pour les plus petites valeurs de $T$. En effet, pour les très petites valeurs de $T$, les solutions analytiques $u_2$ et $u_3$ deviennent très grandes, de telle sorte qu'il faudrait des valeurs initiales plus élevées pour toutes les obtenir. De plus, à $T=0.125$, les solutions $u_1$ et $u_3$ se croisent. Ainsi, aux alentours de cette intersection, il faudrait plusieurs valeurs initiales rapprochées afin d'obtenir les deux solutions. \n",
    "\n",
    "La méthode par relaxation, quant à elle, ne retombe jamais sur la plus grande solution, c'est-à-dire $u_2$. Pour mieux comprendre pourquoi, traçons les solutions analytiques selon $T$, de même que la dérivée de la forme non-générale $f_{ng}$ de l'équation (3.14) évaluée aux valeurs des solutions analytiques:  "
   ]
  },
  {
   "cell_type": "code",
   "execution_count": null,
   "metadata": {},
   "outputs": [],
   "source": [
    "fig = gl.Figure(r'$T$', r'$u$', title=\"Dérivée de la forme non-générale de l'équation\")\n",
    "labels = [r\"$u_1$\", r\"$u_2$\", r\"$u_3$\", r\"$\\left|f'_{ng}(u_1)\\right|$\", r\"$\\left|f'_{ng}(u_2)\\right|$\", r\"$\\left|f'_{ng}(u_3)\\right|$\"]\n",
    "fig.add_elements(\n",
    "    *[gl.Curve.from_function(lambda T: sol_analytiques(T)[i], 0, 1, label=labels[i]) for i in range(3)],\n",
    "    *[gl.Curve.from_function(lambda T: np.abs(dfu(sol_analytiques(T)[i], T)), 0, 1, label=labels[i+3]) for i in range(3)],\n",
    "    )\n",
    "u_max = np.max(sol_analytiques(t)[np.isfinite(sol_analytiques(t))]) * 2\n",
    "fig.y_lim = (-0.1, u_max)\n",
    "fig.show()"
   ]
  },
  {
   "cell_type": "markdown",
   "metadata": {},
   "source": [
    "La méthode par relaxation converge vers une solution $x^*$ seulement si $|f_{ng}'(x^*)|<1$. Or, $|f_{ng}'(u_2)|$ est toujours plus grand que 1, de telle sorte que cette solution n'est jamais atteinte. De même, $|f_{ng}'(u_3)|$ est plus grand que 1 pour $T<0.125$, alors la méthode converge uniquement vers cette solution lorsque $T>0.125$. Pour finir $|f_{ng}'(u_1)|$ est plus grand que 1 pour $T>0.125$, de telle sorte que la méthode devrait converger vers cette solution seulement si $T<0.125$, à l'exception du cas où la valeur initiale $u_0=1$ est utilisée, car cette dernière est déjà la solution recherchée."
   ]
  },
  {
   "cell_type": "code",
   "execution_count": null,
   "metadata": {},
   "outputs": [],
   "source": [
    "# Méthode par relaxation successive\n",
    "def relaxation_successif(T: float | np.ndarray, k: float = 5, u0: float = 0.5, precision: float = 1e-8) -> np.ndarray:\n",
    "    \"\"\"\n",
    "    Méthode de relaxation successive pour résoudre l'équation de contagiosité.\n",
    "    \n",
    "    Paramètres:\n",
    "    -----------\n",
    "    T (float | np.ndarray) : La probabilité qu’un individu contagieux infectera chacun de ses voisins.\n",
    "    k (float) : (défaut: 5)\n",
    "    u0 (float) : Valeur initiale pour la méthode de relaxation.\n",
    "    precision (float) : Précision désirée pour la solution. La méthode s'arrête lorsque l'erreur est inférieure à cette valeur.\n",
    "\n",
    "    Retourne:\n",
    "    --------\n",
    "    float | np.ndarray\n",
    "        Les valeurs de u pour lesquelles f(u) = 0 trouvées itérativement.\n",
    "    \"\"\"\n",
    "    u = [u0]\n",
    "    erreur = 1\n",
    "    while np.abs(erreur) > precision:\n",
    "        u_new = fu(u[-1], T, k)\n",
    "        erreur = np.max(u_new - u[-1])\n",
    "        u.append(u_new)\n",
    "    return np.array(u)\n",
    "\n",
    "# Méthode de Newton-Raphson sucessive\n",
    "def newton_raphson_successif(T: float | np.ndarray, k: float = 5, u0: float = 0.5, precision: float = 1e-8) -> np.ndarray:\n",
    "    \"\"\"\n",
    "    Méthode de Newton-Raphson successive pour résoudre l'équation de contagiosité.\n",
    "    \n",
    "    Paramètres:\n",
    "    -----------\n",
    "    T (float | np.ndarray) : La probabilité qu’un individu contagieux infectera chacun de ses voisins.\n",
    "    k (float) : (défaut: 5)\n",
    "    u0 (float) : Valeur initiale pour la méthode de relaxation.\n",
    "    precision (float) : Précision désirée pour la solution. La méthode s'arrête lorsque l'erreur est inférieure à cette valeur.\n",
    "\n",
    "    Retourne:\n",
    "    --------\n",
    "    float | np.ndarray\n",
    "        Les valeurs de u pour lesquelles f(u) = 0 trouvées itérativement.\n",
    "    \"\"\"\n",
    "    u = [u0]\n",
    "    erreur = 1\n",
    "    while np.abs(erreur) > precision:\n",
    "        u_new = u[-1] - f(u[-1], T, k) / df(u[-1], T, k)\n",
    "        erreur = np.max(u_new - u[-1])\n",
    "        u.append(u_new)\n",
    "    return np.array(u)\n",
    "\n",
    "# Affichage des solutions sous la forme de diagramme en toile d'araignée\n",
    "T = 0.8\n",
    "u0 = 0.8\n",
    "\n",
    "us = relaxation_successif(T, u0=u0)\n",
    "previous = -0.1\n",
    "lignes = []\n",
    "for i, r in enumerate(us[:-1]):\n",
    "    lignes.append(gl.Vlines([r], previous, us[i+1], colors='k'))\n",
    "    lignes.append(gl.Hlines(us[i+1], r, us[i+1], colors='k'))\n",
    "    previous = us[i+1]\n",
    "\n",
    "\n",
    "fig1 = gl.Figure(r'$u$', title=\"Méthode de relaxation_successif\")\n",
    "u_max = np.max(sol_analytiques(T)[np.isfinite(sol_analytiques(T))]) * 1.1\n",
    "fig1.add_elements(\n",
    "    gl.Curve.from_function(lambda u: fu(u, T), 0, u_max, label=r\"$f(u)$\"),\n",
    "    gl.Curve.from_function(lambda u: u, 0, u_max, label=r\"$u$\"),\n",
    "    gl.Scatter(relaxation_successif(T, u0=u0)[-1], relaxation_successif(T, u0=u0)[-1], face_color='k'),\n",
    "    *lignes\n",
    ")\n",
    "fig1.y_lim = (-0.1, u_max)\n",
    "\n",
    "fig2 = gl.Figure(r'$u$', title=\"Méthode de Newton-Raphson\")\n",
    "\n",
    "fig2.add_elements(\n",
    "    gl.Curve.from_function(lambda u: f(u, T), 0, u_max, label=r\"$f(u)$\"),\n",
    "    gl.Hlines(0, 0, u_max, line_styles='--'),\n",
    "    gl.Scatter(newton_raphson_successif(T, u0=u0), f(newton_raphson_successif(T, u0=u0), T), face_color='k'),\n",
    ")\n",
    "gl.MultiFigure.from_row([fig1, fig2], size=(12, 6), reference_labels=False).show()"
   ]
  },
  {
   "cell_type": "markdown",
   "metadata": {},
   "source": [
    "# Références\n",
    "\n",
    "[1] de Leeuw, Jan. (2023). Differentiating the QR Decomposition. 10.13140/RG.2.2.19201.12640. "
   ]
  }
 ],
 "metadata": {
  "kernelspec": {
   "display_name": "Python 3",
   "language": "python",
   "name": "python3"
  },
  "language_info": {
   "codemirror_mode": {
    "name": "ipython",
    "version": 3
   },
   "file_extension": ".py",
   "mimetype": "text/x-python",
   "name": "python",
   "nbconvert_exporter": "python",
   "pygments_lexer": "ipython3",
   "version": "3.11.5"
  }
 },
 "nbformat": 4,
 "nbformat_minor": 2
}
