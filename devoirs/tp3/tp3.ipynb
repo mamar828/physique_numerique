{
 "cells": [
  {
   "cell_type": "markdown",
   "metadata": {},
   "source": [
    "# TP 3"
   ]
  },
  {
   "cell_type": "code",
   "execution_count": null,
   "metadata": {},
   "outputs": [],
   "source": [
    "import numpy as np\n",
    "import graphinglib as gl\n",
    "import matplotlib.pyplot as tas_de_marde"
   ]
  },
  {
   "cell_type": "markdown",
   "metadata": {},
   "source": [
    "## 3.1 : Décomposition QR par la méthode de Householder"
   ]
  },
  {
   "cell_type": "markdown",
   "metadata": {},
   "source": [
    "### **a)** À l’aide des équations (3.2) et (3.3), démontrez que les matrices de réflexion $Q_i$ sont orthogonales."
   ]
  },
  {
   "cell_type": "markdown",
   "metadata": {},
   "source": [
    "$$\n",
    "\\begin{align*}\n",
    "    Q_i &= \\begin{bmatrix}\n",
    "        I_i & 0 \\\\\n",
    "        0 & H_{m,i}\n",
    "    \\end{bmatrix} \\\\\n",
    "    H_{m,i} &= I_{m - i} - 2 \\frac{v_{m,i} v_{m,i}^T}{v_{m,i}^T v_{m,i}}\n",
    "\\end{align*}\n",
    "$$\n",
    "\n",
    "$$\n",
    "\\begin{align*}\n",
    "    Q_i^T &= \\begin{bmatrix}\n",
    "        I_i^T & 0 \\\\\n",
    "        0 & H_{m,i}^T\n",
    "    \\end{bmatrix} \\\\\n",
    "    &= \\begin{bmatrix}\n",
    "        I_i & 0 \\\\\n",
    "        0 & I_{m - i}^T - 2 \\left(\\frac{v_{m,i} v_{m,i}^T}{v_{m,i}^T v_{m,i}}\\right)^T \n",
    "    \\end{bmatrix} \\\\\n",
    "    &= \\begin{bmatrix}\n",
    "        I_i & 0 \\\\\n",
    "        0 & I_{m - i} - 2 \\frac{v_{m,i} v_{m,i}^T}{v_{m,i}^T v_{m,i}}\n",
    "    \\end{bmatrix} \\\\ &= Q_i\n",
    "\\end{align*}\n",
    "$$\n",
    "\n",
    "$$\n",
    "\\begin{align*}\n",
    "    Q_i^T Q_i &= \\begin{bmatrix}\n",
    "        I_i & 0 \\\\\n",
    "        0 & I_{m - i} - 2 \\frac{v_{m,i} v_{m,i}^T}{v_{m,i}^T v_{m,i}}\n",
    "    \\end{bmatrix}\n",
    "    \\begin{bmatrix}\n",
    "        I_i & 0 \\\\\n",
    "        0 & I_{m - i} - 2 \\frac{v_{m,i} v_{m,i}^T}{v_{m,i}^T v_{m,i}}\n",
    "    \\end{bmatrix} \\\\\n",
    "    &= \\begin{bmatrix}\n",
    "        I_i^2 & 0 \\\\\n",
    "        0 & I_{m - i}^2 - 4 I_{m - i} \\frac{v_{m,i} v_{m,i}^T}{v_{m,i}^T v_{m,i}} + 4 \\frac{v_{m,i} (v_{m,i}^T v_{m,i}) v_{m,i}^T}{(v_{m,i}^T v_{m,i})^2}\n",
    "    \\end{bmatrix} \\\\\n",
    "    &= \\begin{bmatrix}\n",
    "        I_i & 0 \\\\\n",
    "        0 & I_{m - i} - 4 \\frac{v_{m,i} v_{m,i}^T}{v_{m,i}^T v_{m,i}} + 4 \\frac{v_{m,i} v_{m,i}^T}{v_{m,i}^T v_{m,i}}\n",
    "    \\end{bmatrix} \\\\\n",
    "    &= \\begin{bmatrix}\n",
    "        I_i & 0 \\\\\n",
    "        0 & I_{m - i}\n",
    "    \\end{bmatrix} \\\\\n",
    "    &= I_m\n",
    "\\end{align*}\n",
    "$$"
   ]
  },
  {
   "cell_type": "markdown",
   "metadata": {},
   "source": [
    "### **b)** Démontrez l’équation (3.5) et que la matrice $Q$ est orthogonale."
   ]
  },
  {
   "cell_type": "markdown",
   "metadata": {},
   "source": [
    "On dispose de l'équation:\n",
    "$$\n",
    "Q_{n - 1} Q_{n - 2} \\cdots Q_1 Q_0A = R\n",
    "$$\n",
    "Et on désire obtenir une décomposition $QR$ de la forme:\n",
    "$$ A = QR $$\n",
    "Pour ce faire, on prémultiplie chaque côté de l'équation par $Q_{n - 1}^T$, puis par $Q_{n - 2}$^T$, et ainsi de suite jusqu'à $Q_0^T$. Étant donnée que $Q_i^TQ_i=I_m$, on obtient:\n",
    "$$\n",
    "\\begin{align*}\n",
    "    Q_{n - 1}^TQ_{n - 1} Q_{n - 2} \\cdots Q_1 Q_0A &= Q_{n - 1}^T R \\\\\n",
    "    I_m Q_{n - 2} \\cdots Q_1 Q_0A &= Q_{n - 1}^T R \\\\\n",
    "    Q_{n - 2}^TQ_{n - 2} \\cdots Q_1 Q_0A &= Q_{n - 2}^T Q_{n - 1}^T R \\\\\n",
    "    &\\: \\cdots \\\\\n",
    "    A &= Q_0^T Q_1^T \\cdots Q_{n - 2}^T Q_{n - 1}^TR \\\\\n",
    "    \\Rightarrow Q &= Q_0^T Q_1^T \\cdots Q_{n - 2}^T Q_{n - 1}^T\n",
    "\\end{align*}\n",
    "$$\n",
    "Ce qui démontre l'équation (3.5). On veut ensuite montrer que la matrice $Q$ est orthogonale:\n",
    "$$\n",
    "\\begin{align*}\n",
    "    Q &= Q_0^T Q_1^T \\cdots Q_{n - 2}^T Q_{n - 1}^T \\\\\n",
    "    \\Rightarrow Q^T &= (Q_0^T Q_1^T \\cdots Q_{n - 2}^T Q_{n - 1}^T)^T \\\\\n",
    "    &= Q_{n - 1} Q_{n - 2} \\cdots Q_1 Q_0\n",
    "\\end{align*}\n",
    "$$\n",
    "\n",
    "$$\n",
    "\\begin{align*}\n",
    "    Q^T Q &= (Q_{n - 1} Q_{n - 2} \\cdots Q_1 Q_0) (Q_0^T Q_1^T \\cdots Q_{n - 2}^T Q_{n - 1}^T) \\\\\n",
    "    &= Q_{n - 1} Q_{n - 2} \\cdots Q_1 Q_0 Q_0^T Q_1^T \\cdots Q_{n - 2}^T Q_{n - 1}^T\n",
    "\\end{align*}\n",
    "$$\n",
    "En **a)**, on a démontré que $Q_i^T = Q_i$ et que $Q_i^T Q_i = I$. $Q_i^T$ est donc la matrice inverse de $Q_i$, ce qui veut dire qu'on a également $Q_iQ_i^T = I$. On peut alors annuler les termes à partir du centre dans l'expression pour $Q^T Q$ :\n",
    "$$\n",
    "\\begin{align*}\n",
    "    Q^T Q &= Q_{n - 1} Q_{n - 2} \\cdots Q_1 (Q_0 Q_0^T) Q_1^T \\cdots Q_{n - 2}^T Q_{n - 1}^T \\\\\n",
    "    &= Q_{n - 1} Q_{n - 2} \\cdots Q_1 I Q_1^T \\cdots Q_{n - 2}^T Q_{n - 1}^T \\\\\n",
    "    &= Q_{n - 1} Q_{n - 2} \\cdots (Q_1 Q_1^T) \\cdots Q_{n - 2}^T Q_{n - 1}^T \\\\\n",
    "    &\\: \\cdots \\\\\n",
    "    &= I\n",
    "\\end{align*}"
   ]
  },
  {
   "cell_type": "markdown",
   "metadata": {},
   "source": [
    "### **c)** Implémentez la fonction `householder_qr` qui prend en argument une matrice $A$ et qui retourne les matrices $Q$ et $R$ obtenues par la méthode de Householder."
   ]
  },
  {
   "cell_type": "code",
   "execution_count": null,
   "metadata": {},
   "outputs": [],
   "source": [
    "def householder_qr(A: np.ndarray) -> tuple[np.ndarray, np.ndarray]:\n",
    "    \"\"\"\n",
    "    Performe une decomposition  QR d'une matrice en utilisant la méthode de Householder\n",
    "\n",
    "    Paramètres:\n",
    "    -----------\n",
    "    A (np.ndarray) : La matrice à décomposer\n",
    "\n",
    "    Retourne:\n",
    "    --------\n",
    "    tuple[np.ndarray, np.ndarray]\n",
    "        Un tuple contenant deux numpy arrays:\n",
    "        - Q: La matrice orthogonale\n",
    "        - R: La matrice triangulaire supérieure résultante\n",
    "    \"\"\"\n",
    "    m, n = A.shape\n",
    "    Q = np.eye(m)\n",
    "    R = np.copy(A)\n",
    "    for i in range(n):\n",
    "        x = R[i:, i]\n",
    "        e_1 = np.zeros(m - i)\n",
    "        e_1[0] = 1\n",
    "        v = np.sign(x[0]) * np.linalg.norm(x) * e_1 + x\n",
    "        H = np.eye(m - i) - 2 * np.outer(v, v.T) / np.dot(v.T, v)\n",
    "        Q_i = np.eye(m)\n",
    "        Q_i[i:, i:] = H\n",
    "        Q = np.dot(Q, Q_i)\n",
    "        R = np.dot(Q_i, R)\n",
    "    return Q, R"
   ]
  },
  {
   "cell_type": "markdown",
   "metadata": {},
   "source": [
    "### **d)** À l’aide d’une matrice de dimension $4 \\times 3$ de votre choix, testez votre fonction `householder_qr` et comparez les résultats obtenus avec ceux obtenus à l’aide de la fonction `numpy.linalg.qr`. Les matrices sont-elles exactement les mêmes ? Si non, est-ce un problème ?"
   ]
  },
  {
   "cell_type": "code",
   "execution_count": null,
   "metadata": {},
   "outputs": [],
   "source": [
    "A = np.array([[1, 2, 3],\n",
    "              [4, 5, 6],\n",
    "              [7, 8, 9],\n",
    "              [10, 11, 12]])\n",
    "\n",
    "Q, R = householder_qr(A)\n",
    "print(\"householder_qr :\", f'Q = {Q}', f'R = {R}', sep='\\n')\n",
    "\n",
    "Q, R = np.linalg.qr(A)\n",
    "print(\"np.linalg.qr :\", f'Q = {Q}', f'R = {R}', sep='\\n')"
   ]
  },
  {
   "cell_type": "markdown",
   "metadata": {},
   "source": [
    "Explication :"
   ]
  },
  {
   "cell_type": "markdown",
   "metadata": {},
   "source": [
    "### **e)** À l’aide de la matrice utilisée en **d**, illustrez comment la multiplication successive des matrices $Q_i$ triangularise progressivement la matrice $A$. Dans l’élan, assurez-vous que les matrices $Q$ et $R$ obtenues sont bien orthogonale et triangulaire supérieure, respectivement."
   ]
  },
  {
   "cell_type": "code",
   "execution_count": null,
   "metadata": {},
   "outputs": [],
   "source": [
    "def householder_qr_successif(A: np.ndarray) -> tuple[np.ndarray, np.ndarray]:\n",
    "    \"\"\"\n",
    "    Performe une decomposition  QR d'une matrice en utilisant la méthode de Householder\n",
    "\n",
    "    Paramètres:\n",
    "    -----------\n",
    "    A (np.ndarray) : La matrice à décomposer\n",
    "\n",
    "    Retourne:\n",
    "    --------\n",
    "    tuple[np.ndarray, np.ndarray]\n",
    "        Un tuple contenant deux numpy arrays:\n",
    "        - Q: La matrice orthogonale\n",
    "        - R: La matrice triangulaire supérieure résultante\n",
    "    \"\"\"\n",
    "    print(\"A =\", A)\n",
    "    m, n = A.shape\n",
    "    Q = np.eye(m)\n",
    "    R = np.copy(A)\n",
    "    for i in range(n):\n",
    "        x = R[i:, i]\n",
    "        e_1 = np.zeros(m - i)\n",
    "        e_1[0] = 1\n",
    "        v = np.sign(x[0]) * np.linalg.norm(x) * e_1 + x\n",
    "        H = np.eye(m - i) - 2 * np.outer(v, v.T) / np.dot(v.T, v)\n",
    "        Q_i = np.eye(m)\n",
    "        Q_i[i:, i:] = H\n",
    "        Q = np.dot(Q, Q_i)\n",
    "        R = np.dot(Q_i, R)\n",
    "        print(f\"i = {i} : Q * A = \\n{R}\")\n",
    "\n",
    "householder_qr_successif(A)"
   ]
  },
  {
   "cell_type": "code",
   "execution_count": null,
   "metadata": {},
   "outputs": [],
   "source": [
    "Q, R = householder_qr(A)\n",
    "verif = np.matmul(Q.T, Q)\n",
    "print(\"Q^T Q =\", verif)"
   ]
  },
  {
   "cell_type": "markdown",
   "metadata": {},
   "source": [
    "$Q^T Q$ est assez proche de la matrice identité de dimension $4 \\times 4$ puisque tous ces éléments en dhors de la diagonale sont en myenne de l'ordre de $10^{-16}$, ce qui est négligeable."
   ]
  },
  {
   "cell_type": "markdown",
   "metadata": {},
   "source": [
    "## 3.2 : Mesures imprécises dans un jeu de bataille navale"
   ]
  },
  {
   "cell_type": "markdown",
   "metadata": {},
   "source": [
    "### **a)** Modifiez votre code de décomposition QR pour qu’il retourne la décomposition QR réduite de la matrice d’entrée lorsque l’argument additionnel `reduite=True` lui est passé."
   ]
  },
  {
   "cell_type": "markdown",
   "metadata": {},
   "source": [
    "### **b)** Utilisez votre code pour résoudre approximativement l’équation (3.9). Vous utiliserez les données fournies dans le fichier `bataille_navale_equipe0XX.csv` où vous remplacerez 0XX par votre numéro d’équipe dans la boîte de dépôt sur MonPortail."
   ]
  },
  {
   "cell_type": "markdown",
   "metadata": {},
   "source": [
    "### **c)** Tracez les données (cercles noirs) et la solution estimée de la trajectoire(ligne pleine de la couleur de votre choix) donnée par l’équation (3.8)"
   ]
  },
  {
   "cell_type": "markdown",
   "metadata": {},
   "source": [
    "### **d)** Obtenez la position d’impact du projectile (à $y = 0$) en résolvant l’équation quadratique (3.8) pour $x$ à l’aide d’une implémentation personnelle de la méthode de la bissection. Comparez votre solution avec celle obtenue en résolvant cette même équation analytiquement. Considérant que votre embarcation se situe à la position $(x,y) = (0,0)$, quelle est la distance horizontale vous séparant du point d’impact ?"
   ]
  },
  {
   "cell_type": "markdown",
   "metadata": {},
   "source": [
    "## 3.3 : Modèle épidemiologique SIR sur réseau"
   ]
  },
  {
   "cell_type": "markdown",
   "metadata": {},
   "source": [
    "### **a)** Trouvez analytiquement toutes les solutions de l’équation cubique (3.14)."
   ]
  },
  {
   "cell_type": "markdown",
   "metadata": {},
   "source": [
    "### **b)** Démontrez laquelle des solutions obtenues précédemment (ou une combinaison de celles-ci) correspond à $u$, soit la solution recherchée de l’équation (3.14)."
   ]
  },
  {
   "cell_type": "markdown",
   "metadata": {},
   "source": [
    "### **c)** Tracez $R_\\infty$ en fonction de $T$ et identifiez tout changement qualitatif de $R_\\infty$. Comment interprétez-vous ce changement (ou cette absence de changement) ?"
   ]
  },
  {
   "cell_type": "markdown",
   "metadata": {},
   "source": [
    "### **d)** Résolvez numériquement l’équation (3.14) à l’aide d’implémentations personnelles de la méthode par relaxation et de la méthode de Newton-Raphson pour 20 valeurs de $T$ uniformément distribuées dans l’intervalle $[0,1]$. Illustrez vos résultats à l’aide d’un graphique comparant les solutions analytiques (indiquées avec des lignes de couleurs distinctes) aux solutions numériques obtenues avec différentes valeurs initiales de l’algorithme (symboles ; choisissez bien vos symboles pour que vos solutions soient bien visibles). Arrivez-vous à obtenir les trois solutions identifiées en a ? Pourquoi ? Considérez tracer l’équation (3.14) de même que la dérivée de $f(u)$ en fonction de u et ce, pour quelques valeurs de $T$, pour appuyer vos conclusions. Vous pouvez aussi tracer les itérations successives de chacune des méthodes afin d’illustrer la manière dont elles convergent vers l’une ou l’autre des solutions (ex. : tracer un diagramme en toile d’araignée).\n"
   ]
  }
 ],
 "metadata": {
  "kernelspec": {
   "display_name": "base",
   "language": "python",
   "name": "python3"
  },
  "language_info": {
   "codemirror_mode": {
    "name": "ipython",
    "version": 3
   },
   "file_extension": ".py",
   "mimetype": "text/x-python",
   "name": "python",
   "nbconvert_exporter": "python",
   "pygments_lexer": "ipython3",
   "version": "3.12.7"
  }
 },
 "nbformat": 4,
 "nbformat_minor": 2
}
