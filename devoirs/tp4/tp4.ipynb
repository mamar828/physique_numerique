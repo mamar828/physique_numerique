{
 "cells": [
  {
   "cell_type": "markdown",
   "metadata": {},
   "source": [
    "# TP 4"
   ]
  },
  {
   "cell_type": "markdown",
   "metadata": {},
   "source": [
    "### Par Mathieu Marquis, Charles-Antoine Parent et Thomas Piuze"
   ]
  },
  {
   "cell_type": "code",
   "execution_count": null,
   "metadata": {},
   "outputs": [],
   "source": [
    "import numpy as np\n",
    "import graphinglib as gl\n",
    "import networkx as nx"
   ]
  },
  {
   "cell_type": "markdown",
   "metadata": {},
   "source": [
    "## 4.1 : Intégration numérique de la dynamique épidémiologique SIS"
   ]
  },
  {
   "cell_type": "markdown",
   "metadata": {},
   "source": [
    "### **a)** Identifiez les deux états stationnaires $0 \\leq i^*_{1,2} \\leq 1$ pour lesquels $\\frac{di}{d\\tau} = 0$, de même que les conditions sur $R_0$ pour lesquelles ces états stationnaires sont possibles (s’il y a lieu)."
   ]
  },
  {
   "cell_type": "markdown",
   "metadata": {},
   "source": [
    "À partir de l'équation suivante:\n",
    "$$ \\frac{di}{d\\tau} = (R_0-1)i-R_0i^2, $$\n",
    "nous pouvons identifier les deux états stationnaires:\n",
    "$$ \\begin{align*}\n",
    "    0 &= (R_0-1)i-R_0i^2 \\\\\n",
    "    0 &= i(R_0-1-R_0i) \\\\\n",
    "    i &= \\begin{cases}\n",
    "            0 \\\\\n",
    "            \\frac{R_0-1}{R_0}\n",
    "        \\end{cases}\n",
    "    \\end{align*} $$\n",
    "Un premier état stationnaire se produit pour $i^*_1=0$, ce qui est logique, car en l'absence d'individus infectés, la maladie ne peut se propager. Un deuxième cas, moins intuitif, se produit pour $i^*_2=\\frac{R_0-1}{R_0}$. Le premier cas n'implique aucune condition sur $R_0$. En revanche, le deuxième cas restreint les valeurs possibles de $R_0$, car nous devons avoir $0 \\leq i^*_2 \\leq 1$. Puisque $R_0=\\beta/\\alpha$, et que $\\alpha,\\beta>0$, $R_0$ est toujours positif. Nous avons donc:\n",
    "$$ \\begin{align*}\n",
    "        0 &\\leq \\frac{R_0-1}{R_0} \\leq 1 \\\\\n",
    "        0 &\\leq R_0-1 \\leq R_0 \\\\\n",
    "        1 &\\leq R_0 \\leq R_0+1\n",
    "    \\end{align*} $$\n",
    "La condition $R_0 \\leq R_0+1$ est redondante. Cependant, la condition $R_0 \\geq 1$ est plus restrictive, car elle nécessite que $\\beta \\geq \\alpha$."
   ]
  },
  {
   "cell_type": "markdown",
   "metadata": {},
   "source": [
    "### **b)** Obtenez une solution analytique $i(\\tau)$ (valide pour $i \\geq 0$). Vous noterez $i(0) = i_0$. Indice : Il s’agit d’une EDO de Bernouilli."
   ]
  },
  {
   "cell_type": "markdown",
   "metadata": {},
   "source": [
    "L'EDO de Bernouilli à résoudre est:\n",
    "$$ \\frac{di}{d\\tau} = (R_0-1)i-R_0i^2 $$\n",
    "Multiplions cette équation par $-1/i^2$:\n",
    "$$ -\\frac{1}{i^2}\\frac{di}{d\\tau} = \\frac{(1-R_0)}{i}+R_0 $$ \n",
    "Posons ensuite le changement de variable $u=\\frac{1}{i}$, de telle sorte que:\n",
    "$$ u = \\frac{1}{i} \\longrightarrow \\frac{du}{d\\tau} = \\frac{du}{di}\\frac{di}{d\\tau} = -\\frac{1}{i^2}\\frac{di}{d\\tau} $$\n",
    "L'équation à résoudre devient alors:\n",
    "$$ \\frac{du}{d\\tau} = (1-R_0)u+R_0 $$\n",
    "Soit une équation différentielle ordinaire linéaire du premier ordre. La forme générale d'une telle équation est:\n",
    "$$ y'(x)+p(x)y(x) = q(x) $$\n",
    "Dont la solution est donnée par:\n",
    "$$ y(x) = e^{-\\int p(x)dx}\\left(\\int e^{\\int p(x)dx}q(x)dx+C\\right) $$\n",
    "Où $C$ est une constante déterminée par la condition initiale. Dans notre cas, $x=\\tau$, $y(x)=u(\\tau)$, $y'(x)=\\frac{du(\\tau)}{d\\tau}$, $p(x)=(R_0-1)$ et $q(x)=R_0$. La solution est donc:\n",
    "$$ \\begin{align*}\n",
    "        u(\\tau) &= e^{-\\int (R_0-1)d\\tau}\\left(\\int e^{\\int (R_0-1)d\\tau}R_0d\\tau+C\\right) \\\\\n",
    "        &= e^{-(R_0-1)\\tau}\\left(\\int R_0e^{(R_0-1)\\tau}d\\tau+C\\right) \\\\\n",
    "        &= e^{-(R_0-1)\\tau}\\left(\\frac{R_0}{R_0-1}e^{(R_0-1)\\tau}+C\\right) \\\\\n",
    "        &= Ce^{-(R_0-1)\\tau}+\\frac{R_0}{R_0-1}\n",
    "    \\end{align*} $$\n",
    "Puisque $i(0)=i_0$, $u(0)=\\frac{1}{i(0)}=\\frac{1}{i_0}$. Par conséquent:\n",
    "$$ u(0) = C+\\frac{R_0}{R_0-1} = \\frac{1}{i_0} \\longrightarrow C = \\frac{1}{i_0}-\\frac{R_0}{R_0-1} $$\n",
    "Donc:\n",
    "$$ \\begin{align*}\n",
    "        u(\\tau) &= \\left(\\frac{1}{i_0}-\\frac{R_0}{R_0-1}\\right)e^{-(R_0-1)\\tau}+\\frac{R_0}{R_0-1} \\\\\n",
    "        i(\\tau) &= \\frac{1}{u(\\tau)} \\\\\n",
    "        i(\\tau) &= \\frac{1}{\\left(\\frac{1}{i_0}-\\frac{R_0}{R_0-1}\\right)e^{-(R_0-1)\\tau}+\\frac{R_0}{R_0-1}} \\\\\n",
    "        i(\\tau) &= \\frac{i_0(R_0-1)}{\\left(R_0(1-i_0)-1\\right)e^{-(R_0-1)\\tau}+R_0i_0}\n",
    "    \\end{align*} $$\n",
    "Soit la solution recherchée."
   ]
  },
  {
   "cell_type": "markdown",
   "metadata": {},
   "source": [
    "### **c)** Implémentez les intégrateurs d’Euler, de Runge-Kutta d’ordre 2 et de Runge-Kutta d’ordre 4. Vos fonctions devront retourner les trajectoires composées des fractions de la population infectée $\\{i_s\\}_{s=0,...,T}$ et des temps $\\{\\tau_s\\}_{s=0,...,T}$ auxquels ces fractions correspondent. La valeur de $T$ sera fixée ci-dessous."
   ]
  },
  {
   "cell_type": "code",
   "execution_count": null,
   "metadata": {},
   "outputs": [],
   "source": [
    "def sol_analytique(t: float, i_0: float, R_0: float) -> float:\n",
    "    return i_0*(R_0-1)/((R_0*(1-i_0)-1)*np.e**(-(R_0-1)*t)+R_0*i_0)"
   ]
  },
  {
   "cell_type": "code",
   "execution_count": null,
   "metadata": {},
   "outputs": [],
   "source": [
    "def f(i: float, t: float, R_0: float) -> float:\n",
    "    return (R_0 - 1)*i - R_0 * i**2\n",
    "\n",
    "def euler(func: callable, a: float, b:float, h:float, x0: float, *init_params) -> tuple[np.ndarray, np.ndarray]:\n",
    "    \"\"\"\n",
    "    Méthode d'Euler pour résoudre une équation différentielle ordinaire.\n",
    "    \n",
    "    Paramètres\n",
    "    ----------\n",
    "    func (callable) : Fonction représentant l'équation différentielle.\n",
    "    a (float) : Paramètre initial.\n",
    "    b (float) : Paramètre final.\n",
    "    h (float) : Pas de temps.\n",
    "    x0 (float) : Valeur initiale de la solution.\n",
    "    init_params : Paramètres initiaux supplémentaires pour la fonction.\n",
    "\n",
    "    Retourne\n",
    "    -------\n",
    "    tpoints (np.ndarray) : Points de temps.\n",
    "    xpoints (np.ndarray) : Valeurs de la solution à chaque point de temps.\n",
    "    \"\"\"\n",
    "    tpoints = np.arange(a, b, h)\n",
    "    xpoints = np.zeros_like(tpoints)\n",
    "    x = x0\n",
    "    for i, t in enumerate(tpoints):\n",
    "        xpoints[i] = x\n",
    "        x += h * func(x, t, *init_params)\n",
    "    return tpoints, xpoints\n",
    "\n",
    "def rk2(func: callable, a: float, b:float, h:float, x0: float, *init_params) -> tuple[np.ndarray, np.ndarray]:\n",
    "    \"\"\"\n",
    "    Méthode de Runge-Kutta d'ordre 2 pour résoudre une équation différentielle ordinaire.\n",
    "    \n",
    "    Paramètres\n",
    "    ----------\n",
    "    func (callable) : Fonction représentant l'équation différentielle.\n",
    "    a (float) : Paramètre initial.\n",
    "    b (float) : Paramètre final.\n",
    "    h (float) : Pas de temps.\n",
    "    x0 (float) : Valeur initiale de la solution.\n",
    "    init_params : Paramètres initiaux supplémentaires pour la fonction.\n",
    "\n",
    "    Retourne\n",
    "    -------\n",
    "    tpoints (np.ndarray) : Points de temps.\n",
    "    xpoints (np.ndarray) : Valeurs de la solution à chaque point de temps.\n",
    "    \"\"\"\n",
    "    tpoints = np.arange(a, b, h)\n",
    "    xpoints = np.zeros_like(tpoints)\n",
    "    x = x0\n",
    "    for i, t in enumerate(tpoints):\n",
    "        xpoints[i] = x\n",
    "        k1 = func(x, t, *init_params)\n",
    "        k2 = func(x + h * k1 / 2, t + h / 2, *init_params)\n",
    "        x += h * k2\n",
    "    return tpoints, xpoints\n",
    "\n",
    "def rk4(func: callable, a: float, b:float, h:float, x0: float, *init_params) -> tuple[np.ndarray, np.ndarray]:\n",
    "    \"\"\"\n",
    "    Méthode de Runge-Kutta d'ordre 4 pour résoudre une équation différentielle ordinaire.\n",
    "    \n",
    "    Paramètres\n",
    "    ----------\n",
    "    func (callable) : Fonction représentant l'équation différentielle.\n",
    "    a (float) : Paramètre initial.\n",
    "    b (float) : Paramètre final.\n",
    "    h (float) : Pas de temps.\n",
    "    x0 (float) : Valeur initiale de la solution.\n",
    "    R_0 (float) : Nombre de reproduction de base.\n",
    "    init_params : Paramètres initiaux supplémentaires pour la fonction.\n",
    "\n",
    "    Retourne\n",
    "    -------\n",
    "    tpoints (np.ndarray) : Points de temps.\n",
    "    xpoints (np.ndarray) : Valeurs de la solution à chaque point de temps.\n",
    "    \"\"\"\n",
    "    tpoints = np.arange(a, b, h)\n",
    "    xpoints = np.zeros_like(tpoints)\n",
    "    x = x0\n",
    "    for i, t in enumerate(tpoints):\n",
    "        xpoints[i] = x\n",
    "        k1 = func(x, t, *init_params)\n",
    "        k2 = func(x + h * k1 / 2, t + h / 2, *init_params)\n",
    "        k3 = func(x + h * k2 / 2, t + h / 2, *init_params)\n",
    "        k4 = func(x + h * k3, t + h, *init_params)\n",
    "        x += (h / 6) * (k1 + 2*k2 + 2*k3 + k4)\n",
    "    return tpoints, xpoints\n",
    "\n",
    "\n",
    "t, i = euler(f, 0, 10, 0.01, 0.8, 0.1)\n",
    "fig = gl.Figure(r'Temps $\\tau$ [-]', 'Fraction de la population infectée', title='Évolution temporelle de la population infectée')\n",
    "fig.add_elements(\n",
    "    gl.Curve(t, sol_analytique(t, 0.8, 0.1), label='Solution analytique', color='k', line_style='--'),\n",
    "    gl.Curve(t, i, label=\"Solution par méthode d'Euler\"),\n",
    "    gl.Curve(t, rk2(f, 0, 10, 0.01, 0.8, 0.1)[1], label=\"Solution par méthode RK2\"),\n",
    "    gl.Curve(t, rk4(f, 0, 10, 0.01, 0.8, 0.1)[1], label=\"Solution par méthode RK4\"),\n",
    ")\n",
    "fig.show()"
   ]
  },
  {
   "cell_type": "markdown",
   "metadata": {},
   "source": [
    "### **d)** Implémentez la méthode du ratio dorée (ou un autre optimisateur de votre choix) qui vous permettra de trouver la longueur de pas $h$ permettant d’obtenir une erreur sur la trajectoire numérique $\\varepsilon(h)$ bornée par $(1\\pm0.01)\\delta$, où $\\delta$ sera spécifiée ci-dessous. L’erreur sera calculée selon\n",
    "$$ \\varepsilon(h) = \\sqrt{\\frac{1}{T+1}\\sum_{s=0}^T(i_s-i(\\tau_s))^2}, $$\n",
    "### où $i(\\cdot)$ est la solution analytique obtenue en **b**. N’hésitez pas à considérer une méthode euristique pour bien cerner l’intervalle de départ pour $h$ fourni à la méthode du ratio doré. À l’aide de votre algorithme, identifiez une valeur de pas d’intégration $h$ permettant de limiter $\\varepsilon(h)$ à l’intervalle $[0.99\\delta,1.01\\delta]$ pour plusieurs valeurs de $\\delta \\in [10^{-9},10^{-6}]$, pour plusieurs couples $(i_0,R_0)$ et pour chacun des trois intégrateurs implémentés en **c**. Utilisez $T = 3$. Une fois les valeurs de $h$ obtenues, représentez quelques-unes des trajectoires sur un graphique (pour des fins de visualisation seulement)."
   ]
  },
  {
   "cell_type": "code",
   "execution_count": null,
   "metadata": {},
   "outputs": [],
   "source": [
    "def epsilon(sol_func: callable, h: float, i_0: float, R_0: float, T: float=3.0) -> float:\n",
    "    \"\"\"\"\"\"\n",
    "    t_s, i_s = sol_func(f, 0, (T+1)*h, h, i_0, R_0)\n",
    "    i_analytique = sol_analytique(t_s, i_0, R_0)\n",
    "    sum = np.sum((i_s - i_analytique)**2)\n",
    "    return np.sqrt(sum / (T + 1))\n",
    "\n",
    "def ratio_dore(func: callable, xA: float, xB: float, delta: float, i_0: float, R_0: float, T: float=3.0) -> float:\n",
    "    \n",
    "    # Initialisation du nombre d'or et des 4 valeurs initiales\n",
    "    z = (1+5**0.5)/2\n",
    "    x1, x4 = xA, xB\n",
    "    x2 = x4-(x4-x1)/z\n",
    "    x3 = x1+(x4-x1)/z\n",
    "\n",
    "    while np.abs(epsilon(func, (x1+x4)/2, i_0, R_0, T)-delta) > 0.01*delta:\n",
    "        \n",
    "        # La fonction à minimiser est la valeur absolue de la différence entre epsilon et delta, sinon il n'y a pas de minmum\n",
    "        if np.abs(epsilon(func, x2, i_0, R_0, T)-delta) < np.abs(epsilon(func, x3, i_0, R_0, T)-delta):\n",
    "            x4, x3 = x3, x2\n",
    "            x2 = x4-(x4-x1)/z\n",
    "        else:\n",
    "            x2, x1 = x3, x2\n",
    "            x3 = x1+(x4-x1)/z\n",
    "    \n",
    "    return (x1+x4)/2\n",
    "\n",
    "# Méthode heuristique pour cerner l'intervalle de départ pour h\n",
    "def heuri(sol_func: callable, delta: float, i_0: float, R_0: float, h_0: float=1, T: float=3.0):\n",
    "    h = h_0\n",
    "    valeurs_h = [10*h, h]\n",
    "    while epsilon(sol_func, valeurs_h[-1], i_0, R_0, T) > delta:\n",
    "        h /= 10\n",
    "        valeurs_h.append(h)\n",
    "    return valeurs_h[-1], valeurs_h[-2]\n",
    "\n",
    "# Méthode du ratio doré\n",
    "deltas = 10**np.linspace(np.log10(1e-9), np.log10(1e-6), 20)\n",
    "\n",
    "i_0s = [0.1, 0.5, 0.75]\n",
    "R_0s = [0.1, 0.25, 0.9]\n",
    "\n",
    "#hs = []\n",
    "#for d in deltas:\n",
    "#    for i_0, R_0 in zip(i_0s, R_0s):\n",
    "#        # On cherche à cerner l'intervalle de départ pour h\n",
    "#        h_0, h_1 = heuri(euler, d, i_0, R_0, 0.1)\n",
    "#        print(h_0, h_1)\n",
    "#        # On applique la méthode du ratio doré\n",
    "#        hs.append(ratio_dore(euler, h_0, h_1, d, i_0, R_0))\n",
    "#        print(hs[-1])\n",
    "\n",
    "#hs = np.array(hs)\n",
    "#hs = hs.reshape(i_0s.shape)\n",
    "\n",
    "#scatter = [gl.Scatter(deltas, hs[i], label=f\"R_0 = {R_0}\\ni_0 = {i_0}\") for i_0, R_0 in zip(i_0s, R_0s)]\n",
    "\n",
    "hs = []\n",
    "for i in range(len(i_0s)):\n",
    "    i_0, R_0 = i_0s[i], R_0s[i]\n",
    "    h = []\n",
    "    for d in deltas:\n",
    "        h_0, h_1 = heuri(euler, d, i_0, R_0, 0.1)\n",
    "        h.append(ratio_dore(euler, h_0, h_1, d, 0.1, 0.1))\n",
    "    h.append(h)\n",
    "\n",
    "hs = np.array(hs)\n",
    "\n",
    "scatters = [gl.Scatter(deltas, hs[i], label=f\"R_0 = {R_0}\\ni_0 = {i_0}\") for i, i_0, R_0 in enumerate(zip(i_0s, R_0s))]\n",
    "\n",
    "# Visualisation de la convergence\n",
    "fig = gl.Figure(r\"$\\delta$\", r\"$h$\", title=\"Convergence de la méthode d'Euler\", log_scale_x=True)\n",
    "fig.add_elements(\n",
    "    gl.Scatter(deltas, h)\n",
    "    *scatters\n",
    ")\n",
    "fig.set_visual_params(use_latex=True)\n",
    "fig.show()\n",
    "\n",
    "# Vérification\n",
    "print([epsilon(euler, hi, i_0, R_0) for hi in h])\n",
    "print(deltas)"
   ]
  },
  {
   "cell_type": "markdown",
   "metadata": {},
   "source": [
    "Il faudrait accélérer l'algorithme, car juste pour un delta de $10^{-2}$, avec de bonnes valeurs initiales de $x_A$ et $x_B$, cela prend 2.8 s."
   ]
  },
  {
   "cell_type": "markdown",
   "metadata": {},
   "source": [
    "### **e)** À l’aide des résultats obtenus en **d**, obtenez numériquement l’ordre $d$ de l’erreur globale $\\varepsilon(h) \\propto h^d$ effectuée par chacun des trois intégrateurs implémentés en **c**. Il est possible d’obtenir $d$ via une régression (linéaire) en observant que $\\log \\varepsilon(h) \\propto d \\log h$."
   ]
  },
  {
   "cell_type": "markdown",
   "metadata": {},
   "source": [
    "## 4.2 : Simulation Monte-Carlo de la dynamique SIS"
   ]
  },
  {
   "cell_type": "markdown",
   "metadata": {},
   "source": [
    "### **a)** Déterminez l’expression qui gouverne la probabilité de générer un graphe de l’ensemble $G(n,p)$ qui contiendra $m$ liens. Détaillez votre raisonnement pour obtenir cette expression."
   ]
  },
  {
   "cell_type": "markdown",
   "metadata": {},
   "source": [
    "La probabilité qu'un lien se crée est $p$, ce qui signifie que la probabilité qu'un lien soit refusé est $(1-p)$. Pour un ensemble de $n$ noeuds, le nombre possible de liens entre deux noeuds différents est le coefficient binomial ${n}\\choose{2}$, c'est-à-dire:\n",
    "$$ \\begin{align*}\n",
    "        {n}\\choose{2}  &=  \\frac{n!}{2!(n-2)!} = \\frac{n(n-1)(n-2)!}{2(n-2)!} = \\frac{n(n-1)}{2} \n",
    "    \\end{align*} $$\n",
    "Ce résultat peut aussi être obtenu par la logique suivante. Choisissons un premier noeud parmi les $n$ noeuds. Ce noeud peut créer jusqu'à $n-1$ liens avec tous les autres noeuds du graphe. Prenons ensuite un second noeud. Ce deuxième noeud peut également créer $n-1$ liens avec ses voisins. Or, un de ces $n-1$ liens est avec le premier noeud, et a donc déjà été compté. Il y a donc $n-2$ nouveaux liens possibles. Pour le troisième noeud, il y aura $n-3$ nouveaux liens possibles, et ainsi de suite. Pour l'avant-dernier noeud, il ne restera plus qu'un nouveau lien possible à créer, et pour le dernier noeud, il n'y en aura aucun. Le nombre possible de liens est donc:\n",
    "$$ n-1+n-2+n-3+...+1+0 = \\sum_{i=1}^{n-1}i $$\n",
    "Il existe une manière ingénieuse d'effectuer cette sommation. Exprimons-la deux fois en inversant l'ordre des termes:\n",
    "$$ \\begin{align*}\n",
    "        \\sum_{i=1}^{n-1}i &= 1 + 2 + ... + n-2 + n-1 \\\\\n",
    "        \\sum_{i=1}^{n-1}i &= n-1 + n-2 + ... + 2 + 1\n",
    "    \\end{align*} $$\n",
    "On remarque qu'en additionnant les termes occupant la même position dans la sommation, on obtient $n-1$ fois $n$. Ainsi:\n",
    "$$ 2\\sum_{i=1}^{n-1}i = n(n-1) \\longrightarrow \\sum_{i=1}^{n-1}i = \\frac{n(n-1)}{2} $$\n",
    "Ce qui montre que le nombre de liens possibles est $\\frac{n(n-1)}{2}$, que nous appellerons pour la suite ${n}\\choose{2}$, car ces deux expressions sont équivalentes. Pour revenir à la question, la probabilité $P(m)$ que $m$ liens soient créés et que les ${{n}\\choose{2}} - m$ autres liens soient refusés est simplement:\n",
    "$$ P(m) = p^m(1-p)^{{{n}\\choose{2}}-m} $$\n",
    "Or, il y a plus d'un seul graphe comportant $m$ liens, car il y a ${{n}\\choose{2}}\\choose{m}$ combinaisons possibles de $m$ liens. La probabilité totale de générer un graphe de l'ensemble $G(n,p)$ comportant $m$ liens, peu importe ces liens, est donc:\n",
    "$$ P_{tot}(m) = {{{n}\\choose{2}}\\choose{m}}p^m(1-p)^{{{n}\\choose{2}}-m} $$\n",
    "Ce qui correspond à une distribution binomiale."
   ]
  },
  {
   "cell_type": "markdown",
   "metadata": {},
   "source": [
    "### **b)** Déterminez également le nombre de liens moyens que possède un graphe issu du modèle $G(n,p)$ ainsi que l’écart-type sur le nombre de liens. Détaillez votre raisonnement pour obtenir ces expressions. Si des propriétés sont utilisées, elles doivent être dûment citées et/ou démontrées également."
   ]
  },
  {
   "cell_type": "markdown",
   "metadata": {},
   "source": [
    "Nous avons déterminé en **a)** que le nombre total de liens possibles pour un tel graphe est ${n}\\choose{2}$. Chacun de ces liens a une probabilité $p$ d'être créé. Logiquement, le nombre de liens moyen devrait donc être $p{{n}\\choose{2}}$.\n",
    "\n",
    "Reprenons également le résultat obtenu en **a)** pour la probabilité de générer un graphe de l'ensemble $G(n,p)$ comportant $m$ liens:\n",
    "$$ P(m) = {{{n}\\choose{2}}\\choose{m}}p^m(1-p)^{{{n}\\choose{2}}-m} $$\n",
    "Nous avons conclus que cette probabilité est de la forme d'une distribution binomiale. Selon le PowerPoint *Processus aléatoires et méthodes Monte Carlo* [1], une telle distribution est de la forme:\n",
    "$$ P(k) = {{N}\\choose{k}}p^k(1-p)^{N-k} $$\n",
    "Et la variance de cette distribution est:\n",
    "$$ \\text{var } k = Np(1-p) $$\n",
    "Ce qui correspond à un écart-type de:\n",
    "$$ \\sigma = \\sqrt{\\text{var } k} = \\sqrt{Np(1-p)} $$\n",
    "En posant $k=m$ et $N={{n}\\choose{2}}$, on retrouve la distribution binomiale obtenue. Son écart-type est donc:\n",
    "$$ \\sigma = \\sqrt{{{n}\\choose{2}}p(1-p)} $$\n",
    "\n"
   ]
  },
  {
   "cell_type": "markdown",
   "metadata": {},
   "source": [
    "### **c)** Implémentez un algorithme qui génère des graphes en utilisant le modèle d’Erdős–Rényi avec les paramètres $n = 100$ et $p = 0.05$. Une fois programmé, obtenez empiriquement la moyenne, l’écart-type et la distribution du nombre de liens dans les réseaux issus de votre algorithme. Comparez ces résultats aux valeurs obtenues en **a** et **b**. (Indice : un graphe est parfois simplement représenté par sa matrice d’adjacence. Vous pouvez utiliser cette représentation ou une autre structure de votre choix qui permet d’encoder l’information pertinente.)"
   ]
  },
  {
   "cell_type": "code",
   "execution_count": null,
   "metadata": {},
   "outputs": [],
   "source": [
    "def graph_generator(n: int=100, p: float=0.05) -> np.ndarray:\n",
    "    prob = np.random.rand(n,n)\n",
    "    adjacence1 = prob <= p\n",
    "    np.fill_diagonal(adjacence1, False) #Zéros sur la diagonale\n",
    "    adjacence2 = np.triu(adjacence1)+np.tril(adjacence1.T) #Pour symétriser la matrice d'adjacence\n",
    "    return adjacence2 #Retourne un array où les True correspondent aux liens\n",
    "\n",
    "def distribution_generator(size: int=10000, n: int=100, p: float=0.05):\n",
    "    distribution = np.zeros(size)\n",
    "    #np.random.seed(30)\n",
    "    for i in range(size):\n",
    "        distribution[i] = np.count_nonzero(graph_generator(n, p))/2 #Car chaque lien est compté deux fois dans la matrice d'adjacence\n",
    "    moyenne = (np.mean(distribution), p*n*(n-1)/2)\n",
    "    ecart_type = (np.std(distribution), (p*(1-p)*n*(n-1)/2)**0.5)\n",
    "    return moyenne, ecart_type, distribution\n",
    "\n",
    "mean, std, values = distribution_generator()\n",
    "histogram = gl.Histogram(values, number_of_bins=30, normalize=False)\n",
    "histogram.add_pdf()\n",
    "fig = gl.Figure('Nombre de liens [-]', 'Comptes [-]', title=\"Distribution du nombre de liens des graphes générés\")\n",
    "fig.add_elements(histogram)\n",
    "fig.show()\n",
    "\n",
    "print(f'Moyenne théorique: {mean[1]}', f'Moyenne empirique: {mean[0]}', sep='\\n')\n",
    "print(f'Écart-type théorique: {std[1]}', f'Écart-type empirique: {std[0]}', sep='\\n')\n"
   ]
  },
  {
   "cell_type": "code",
   "execution_count": null,
   "metadata": {},
   "outputs": [],
   "source": [
    "# Vérification avec networkx\n",
    "\n",
    "def distribution_generator_networkx(size: int=10000, n: int=100, p: float=0.05):\n",
    "    distribution = np.zeros(size)\n",
    "    #np.random.seed(30)\n",
    "    for i in range(size):\n",
    "        distribution[i] = nx.erdos_renyi_graph(n, p).number_of_edges()\n",
    "    moyenne = (np.mean(distribution), p*n*(n-1)/2)\n",
    "    ecart_type = (np.std(distribution), (p*(1-p)*n*(n-1)/2)**0.5)\n",
    "    return moyenne, ecart_type, distribution\n",
    "\n",
    "mean, std, values = distribution_generator_networkx()\n",
    "histogram = gl.Histogram(values, number_of_bins=30, normalize=False)\n",
    "histogram.add_pdf()\n",
    "fig = gl.Figure('Nombre de liens [-]', 'Comptes [-]', title=\"Distribution du nombre de liens des graphes générés par NetworkX\")\n",
    "fig.add_elements(histogram)\n",
    "fig.show()\n",
    "\n",
    "print(f'Moyenne théorique: {mean[1]}', f'Moyenne empirique: {mean[0]}', sep='\\n')\n",
    "print(f'Écart-type théorique: {std[1]}', f'Écart-type empirique: {std[0]}', sep='\\n')"
   ]
  },
  {
   "cell_type": "markdown",
   "metadata": {},
   "source": [
    "J'ai essayé différentes façons de mettre un seed pour pouvoir comparer les deux méthodes, sans succès."
   ]
  },
  {
   "cell_type": "markdown",
   "metadata": {},
   "source": [
    "### **d)** Implémentez la simulation de la dynamique SIS sur réseau en utilisant le module `NetworkX`. Une fois votre algorithme fonctionnel, générez les courbes moyennes du nombre de nœuds infectés et susceptibles en fonction du temps pour le réseau fourni (*reseau.adj*). Pour ouvrir ce réseau, utilisez la fonction `read_adjlist()` de `NetworkX`. Pour vos simulations, utilisez $\\alpha = 0.05$, $\\beta = 0.1$, une proportion initiale de nœuds infectés de 10% et 100 pas de temps. Comparez les résultats de la simulation avec le modèle étudié dans la première partie du travail et discutez."
   ]
  },
  {
   "cell_type": "markdown",
   "metadata": {},
   "source": [
    "Le code suivant implante d'abord la simulation du modèle SIS. Il implante ensuite une fonction permettant de calculer le nombre moyen de noeuds infectés et susceptibles à chaque pas de temps pour un certain nombre de simulations. Les courbes obtenues lorsque ce code est appliqué au réseau fourni sont finalement présentées. Pour obtenir ces courbes, 100 simulations ont été moyennées."
   ]
  },
  {
   "cell_type": "code",
   "execution_count": null,
   "metadata": {},
   "outputs": [],
   "source": [
    "graph = nx.read_adjlist('devoirs/tp4/reseau.adj')\n",
    "\n",
    "def sis_model(G: nx.classes.graph.Graph, alpha: float=0.05, beta: float=0.1, init: float=0.1, n: int=100):\n",
    "\n",
    "     # Initialisation des arrays contenant le nombre de noeuds infectés et susceptibles en fonction du temps\n",
    "    infectes = np.zeros(n)\n",
    "    susceptibles = np.zeros(n)\n",
    "\n",
    "    # Initialisation des noeuds infectés\n",
    "    labels = {}\n",
    "    for x in range(len(G.nodes())):\n",
    "        if np.random.rand() <= init:\n",
    "            labels[f'{x}'] = 1 # Noeuds infectés\n",
    "        else:\n",
    "            labels[f'{x}'] = 0 # Noeuds susceptibles\n",
    "    nx.set_node_attributes(G, labels, name='init')\n",
    "    nx.set_node_attributes(G, labels, name='final')\n",
    "\n",
    "    # Évolution du graphe\n",
    "    for t in range(n): # Boucle temporelle\n",
    "        i, s = 0, 0\n",
    "        for x in range(len(G.nodes())):\n",
    "            if G.nodes[f'{x}']['init'] == 1:\n",
    "                i += 1 # Incrémentation du nombre de noeuds infectés\n",
    "                if np.random.rand() <= alpha:\n",
    "                    G.nodes[f'{x}']['final'] = 0 # Guérison des noeuds infectés\n",
    "                else:\n",
    "                    for k in G.neighbors(f'{x}'):\n",
    "                        if G.nodes[f'{k}']['init'] != 1:\n",
    "                            if np.random.rand() <= beta:\n",
    "                                G.nodes[f'{k}']['final'] = 1 # Contamination des noeuds susceptibles voisins\n",
    "            else:\n",
    "                s += 1 # Incrémentation du nombre de noeuds suceptibles\n",
    "        infectes[t], susceptibles[t] = i, s\n",
    "        for x in range(len(G.nodes())):\n",
    "            G.nodes[f'{x}']['init'] = G.nodes[f'{x}']['final'] # Application de la guérison/contamination\n",
    "\n",
    "    return infectes, susceptibles\n",
    "\n",
    "def moyennes(G: nx.classes.graph.Graph, taille: int=100, intervalles: int=100):\n",
    "    infectes, susceptibles = np.zeros(intervalles), np.zeros(intervalles)\n",
    "    for k in range(taille):\n",
    "        i, s = sis_model(G, n=intervalles)\n",
    "        infectes += i\n",
    "        susceptibles += s\n",
    "    return infectes/taille, susceptibles/taille\n",
    "\n",
    "i, s = moyennes(graph)\n",
    "t = np.arange(len(i))\n",
    "\n",
    "fig = gl.Figure('Pas de temps [-]', 'Nombre de noeuds [-]', title='Évolution temporelle du nombre moyen de noeuds susceptibles et infectés')\n",
    "fig.add_elements(\n",
    "    gl.Curve(t, i, label='Noeuds infectés'),\n",
    "    gl.Curve(t, s, label='Noeuds susceptibles'),\n",
    ")\n",
    "fig.show()"
   ]
  },
  {
   "cell_type": "markdown",
   "metadata": {},
   "source": [
    "En utilisant le modèle étudié dans la première partie du travail avec les paramètres $i_0=0.1$, $R_0=\\beta/\\alpha=0.1/0.05=2$ et $\\tau\\in[0,50]$, nous obtenons:"
   ]
  },
  {
   "cell_type": "code",
   "execution_count": null,
   "metadata": {},
   "outputs": [],
   "source": [
    "t = np.linspace(0, 50, 100)\n",
    "i = sol_analytique(t, 0.1, 2)\n",
    "s = np.ones_like(t)-i\n",
    "\n",
    "fig = gl.Figure(r'Temps $\\tau$ [-]', \"Nombre d'individus [-]\", title=\"Évolution temporelle du nombre d'individus susceptibles et infectés\")\n",
    "fig.add_elements(\n",
    "    gl.Curve(t, i, label='Individus infectés'),\n",
    "    gl.Curve(t, s, label='Individus susceptibles'),\n",
    ")\n",
    "fig.show()\n"
   ]
  },
  {
   "cell_type": "markdown",
   "metadata": {},
   "source": [
    "Ce modèle converge vers une solution stationnaire pour laquelle $i=s=0.5$. Il s'agit de la solution $i=\\frac{R_0-1}{R_0}=\\frac{2-1}{2}=0.5$ trouvée dans la première partie du travail.\n",
    "\n",
    "Dans les deux modèles, le nombres d'individus infectés augmente rapidement avant de se stabiliser. La simulation sur réseau prédit cependant un nombre plus grand d'individus infectés une fois l'équilibre atteint. Cette différence peut s'expliquer par la nature distincte des deux modèles. Le premier modèle utilisé dépend du nombre de reproduction de base $R_0=\\beta/\\alpha$. Ce nombre correspond approximativement au nombre moyen de cas généré par un individu infecté. Le deuxième modèle, quant à lui, dépend des paramètres de guérison et d'infection $\\alpha$ et $\\beta$, de même que de la structure du graphe utilisé. La première différence relève donc de la définition de $\\alpha$\n",
    "et $\\beta$, qui ne sont pas nécessairement équivalents dans les deux modèles. La deuxième différence relève du fait que le deuxième modèle tient compte de la structure exacte des contacts entre les individus, ce que le premier modèle ne peut qu'approximer à l'aide des paramètres de contrôle.\n",
    "\n",
    "De plus, il est difficile de comparer la vitesse d'augmentation du nombre d'individus infectés, car la première méthode fait intervenir un temps adimensionnel $\\tau$ indéfini, tandis que la deuxième méthode fait plutôt intervenir des pas de temps, eux aussi indéfinis.\n",
    "\n"
   ]
  },
  {
   "cell_type": "markdown",
   "metadata": {},
   "source": [
    "# Références\n",
    "\n",
    "[1] ROY-POMERLEAU, Xavier. ..."
   ]
  }
 ],
 "metadata": {
  "kernelspec": {
   "display_name": "base",
   "language": "python",
   "name": "python3"
  },
  "language_info": {
   "codemirror_mode": {
    "name": "ipython",
    "version": 3
   },
   "file_extension": ".py",
   "mimetype": "text/x-python",
   "name": "python",
   "nbconvert_exporter": "python",
   "pygments_lexer": "ipython3",
   "version": "3.12.7"
  }
 },
 "nbformat": 4,
 "nbformat_minor": 2
}
