{
 "cells": [
  {
   "cell_type": "markdown",
   "metadata": {},
   "source": [
    "# TP 1: Parcours des protons dans la matière"
   ]
  },
  {
   "cell_type": "markdown",
   "metadata": {},
   "source": [
    "### Par Mathieu Marquis, Charles-Antoine Parent et Thomas Piuze"
   ]
  },
  {
   "cell_type": "code",
   "execution_count": null,
   "metadata": {},
   "outputs": [],
   "source": [
    "import timeit\n",
    "import numpy as np\n",
    "import scipy as sp\n",
    "import graphinglib as gl\n",
    "import matplotlib.pyplot as plt\n",
    "import pandas as pd\n",
    "from typing import Callable\n",
    "\n",
    "from scipy.constants import N_A, c, m_e, m_p, e\n",
    "from scipy.stats import moyal"
   ]
  },
  {
   "cell_type": "code",
   "execution_count": null,
   "metadata": {},
   "outputs": [],
   "source": [
    "# Définition de fonctions et classes utiles\n",
    "\n",
    "def f(T, milieu='os'):\n",
    "    return 1/pouvoir_collisionnel(T, milieu)\n",
    "\n",
    "def trapezes(a, b, N, milieu):\n",
    "    h = (b - a) / N\n",
    "    R = 0.5 * (f(a, milieu) + f(b, milieu))\n",
    "    for k in range(1, N):\n",
    "        R += f(a + k*h, milieu)\n",
    "    return h*R\n"
   ]
  },
  {
   "cell_type": "markdown",
   "metadata": {},
   "source": [
    "## Questions:"
   ]
  },
  {
   "cell_type": "markdown",
   "metadata": {},
   "source": [
    "### 1- Exprimez la densité électronique $n_e$ d’un milieu en fonction de sa composition atomique et de sa masse volumique $\\rho$, et calculer $n_e$ pour l’eau (liquide) et l’os compact (définition de l’ICRU). On s’appuiera sur les données du NIST pour les compositions atomiques de ces matériaux."
   ]
  },
  {
   "cell_type": "markdown",
   "metadata": {},
   "source": [
    "La contribution à la densité électronique d'une molécule pour chaque élément $i$ est donnée par\n",
    "$$n_e^{(i)}=\\rho A^{(i)}\\frac{N_e^{(i)}N_A}{M^{(i)}}$$\n",
    "où\n",
    "$\\rho$ : masse volumique de la molécule,\n",
    "$A^{(i)}$ : abondance massique de l'élément $i$,\n",
    "$N_e^{(i)}$ : nombre d'électrons par atome de l'élément $i$,\n",
    "$N_A$ : nombre d'Avogadro,\n",
    "$M^{(i)}$ : masse molaire de l'élément $i$.\n",
    "\n",
    "Ainsi, la densité électronique d'une molécule avec $N$ éléments distincts correspond à\n",
    "$$n_e=\\rho N_A\\sum_{i=1}^N\\frac{A^{(i)}N_e^{(i)}}{M^{(i)}}$$\n"
   ]
  },
  {
   "cell_type": "markdown",
   "metadata": {},
   "source": [
    "La cellule suivante donne les numéros atomiques, la fraction massique et la masse molaire des éléments composant l'eau et l'os compact, de même que la masse volumique de ces deux substances. Elle fait ensuite appel à la fonction `densite_electronique` pour obtenir la densité électronique de l'eau et de l'os compact. La fonction `densite_electronique` reçoit en argument la composition chimique d'une matière et sa masse volumique en g/cm $^3$ et retourne sa densité électronique en électrons par cm $^3$."
   ]
  },
  {
   "cell_type": "code",
   "execution_count": null,
   "metadata": {},
   "outputs": [],
   "source": [
    "def densite_electronique(composition: np.ndarray, rho: float) -> float:\n",
    "    \"\"\"\n",
    "    Retourne la densité électronique en électrons par centimètre cube.\n",
    "\n",
    "    Paramètres\n",
    "    ----------\n",
    "    composition : np.array\n",
    "        Array où chaque ligne représente le numéro atomique, la composition atomique du milieu\n",
    "        (en fraction de 1) et la masse molaire de chaque élément composant le milieu.\n",
    "    rho : float\n",
    "        Densité du milieu en grammes par mole.\n",
    "    \"\"\"\n",
    "    assert composition[:,1].sum() == 1, \"l'abondance chimique de tous les éléments devrait être sommée à 1.\"\n",
    "    return rho * N_A * np.sum(composition[:,1] * composition[:,0] / composition[:,2], axis=0)\n",
    "\n",
    "# Numéros atomiques, composition atomique et masse molaire\n",
    "composition_eau = np.array([\n",
    "    [1, 0.111894, 1.008],\n",
    "    [8, 0.888106, 15.999]\n",
    "])\n",
    "composition_os = np.array([\n",
    "    [1, 0.063984, 1.008], \n",
    "    [6, 0.278000, 12.011], \n",
    "    [7, 0.027000, 14.007], \n",
    "    [8, 0.410016, 15.999],\n",
    "    [12, 0.002000, 24.305], \n",
    "    [15, 0.070000, 30.974], \n",
    "    [16, 0.002000, 32.06], \n",
    "    [20, 0.147000, 40.078]\n",
    "])\n",
    "\n",
    "# Masses volumiques en g/cm^3\n",
    "rho_eau = 1.00000\n",
    "rho_os = 1.85000\n",
    "\n",
    "# Densités électroniques en électrons/cm^3\n",
    "n_eau = densite_electronique(composition_eau, rho_eau)\n",
    "n_os = densite_electronique(composition_os, rho_os)\n",
    "print(\"Densité électronique de l'eau :\", n_eau)\n",
    "print(\"Densité électronique le l'os compact :\", n_os)"
   ]
  },
  {
   "cell_type": "markdown",
   "metadata": {},
   "source": [
    "### 2- Tracez les courbes du pouvoir d’arrêt collisionnel massique pour ces milieux en fonction de l’énergie cinétique ($T$). Pour expliciter la dépendance en $T$ de $S_{col}$, utilisez les relations 9 et 10 ci-bas. Pour le graphique, utilisez une échelle logarithmique en abscisse. Vous trouverez les énergies moyennes d’excitation $I$ de ces matériaux sur le site du NIST également."
   ]
  },
  {
   "cell_type": "markdown",
   "metadata": {},
   "source": [
    "La cellule suivante définit d'abord quelques constantes importantes, de même que les énergies moyennes d'excitation de l'eau liquide et de l'os compact. Elle fait ensuite appel à la fonction `pouvoir_collisionnel` pour tracer les courbes du pouvoir d'arrêt collisionnel massique. La fonction `pouvoir_collisionnel` reçoit en argument l'énergie cinétique du proton (MeV), la densité électronique du milieu (électrons/cm $^3$), l'énergie moyenne d'excitation du milieu (MeV) et la masse volumique du milieu (g/cm $^3$). Elle retourne le pouvoir d'arrêt collisionnel massique si `massique is True`, et le pouvoir d'arrêt collisionnel standard sinon."
   ]
  },
  {
   "cell_type": "code",
   "execution_count": null,
   "metadata": {},
   "outputs": [],
   "source": [
    "# Constantes importantes\n",
    "mp = m_p/(10**6*e) # En MeV/c^2\n",
    "me = m_e/(10**6*e) # En MeV/c^2\n",
    "r_e = 10**2*sp.constants.value('classical electron radius') # En cm\n",
    "\n",
    "# Énergies d'excitation en MeV\n",
    "I_eau = 75.000000e-6\n",
    "I_os = 91.900000e-6\n",
    "\n",
    "def pouvoir_collisionnel(T: np.ndarray, milieu: str, massique: bool=False) -> np.ndarray:\n",
    "    \"\"\"\n",
    "    Retourne le pouvoir d'arrêt collisionnel en fonction de l'énergie cinétique pour un milieu.\n",
    "\n",
    "    Paramètres\n",
    "    ----------\n",
    "    T : np.array\n",
    "        Énergie cinétique en MeV.\n",
    "    milieu : str, = 'eau' | 'os'\n",
    "        Milieu dans lequel faire le calcul.\n",
    "    massique : bool, default=False\n",
    "        Retourne le pouvoir d'arrêt collisionnel massique si True.\n",
    "    \"\"\"\n",
    "    if milieu == 'eau':\n",
    "        n_e, I, rho = n_eau, I_eau, rho_eau\n",
    "    elif milieu == 'os':\n",
    "        n_e, I, rho = n_os, I_os, rho_os\n",
    "    else:\n",
    "        raise ValueError(\"milieu doit être 'eau' or 'os'\")\n",
    "    gamma = T / (mp * c**2) + 1\n",
    "    beta = ((gamma**2 - 1) / gamma**2)**0.5\n",
    "    a = 2 * me * c**2\n",
    "    b = 1 + (me/mp)**2\n",
    "    delta = 2*me/mp\n",
    "    Tmax = a * (gamma**2 - 1) / (b + delta*gamma)\n",
    "    U = np.pi * r_e**2 * a * n_e\n",
    "    k = a**2/I**2\n",
    "    S = (U / beta**2) * (np.log(k * beta**2 * gamma**2 * Tmax/a) - 2 * beta**2)\n",
    "    if massique:\n",
    "        S /= rho\n",
    "    return S\n",
    "\n",
    "# Graphique\n",
    "Tgraph = np.linspace(3, 250, 1000) # En MeV\n",
    "plt.plot(Tgraph, pouvoir_collisionnel(Tgraph, 'eau', massique=True), label='Eau liquide')\n",
    "plt.plot(Tgraph, pouvoir_collisionnel(Tgraph, 'os', massique=True), label='Os compact')\n",
    "plt.xlabel('$T$ [MeV]')\n",
    "plt.ylabel(r'$S_{col}/\\rho$ [MeV$\\cdot$cm$^2$/g]', rotation=90, labelpad=10)\n",
    "plt.xscale('log')\n",
    "plt.legend()\n",
    "plt.show()"
   ]
  },
  {
   "cell_type": "code",
   "execution_count": null,
   "metadata": {},
   "outputs": [],
   "source": [
    "# GraphingLib version !\n",
    "\n",
    "r_e = 10**2*sp.constants.value(\"classical electron radius\") # En cm\n",
    "_m_e = sp.constants.value(\"electron mass energy equivalent in MeV\") / c**2\n",
    "_m_p = sp.constants.value(\"proton mass energy equivalent in MeV\") / c**2\n",
    "I_eau = 75.000000e-6\n",
    "I_os = 91.900000e-6\n",
    "\n",
    "def calcul_S_col(T: float | np.ndarray, n_e: float, I: float, rho: float) -> float | np.ndarray:\n",
    "    \"\"\"\n",
    "    Retourne le pouvoir d'arrêt collisionnel des protons.\n",
    "\n",
    "    Paramètres\n",
    "    ----------\n",
    "    T : float | np.ndarray\n",
    "        Énergie cinétique en MeV.\n",
    "    n_e : float\n",
    "        Densité électronique du matériau en électrons/cm^3.\n",
    "    I : float\n",
    "        Énergie moyenne d'excitation du matériau en MeV.\n",
    "    rho : float\n",
    "        Masse volumique en g/cm^3.\n",
    "    \"\"\"\n",
    "    gamma = T / (_m_p*c**2) + 1\n",
    "    beta = np.sqrt((gamma**2 - 1) / gamma**2)\n",
    "    T_e_max = (2*_m_e*c**2 * (gamma**2 - 1)) / (1+(_m_e/_m_p)**2 + 2*_m_e/_m_p * gamma)\n",
    "    S_col = 2*np.pi*r_e**2*_m_e*c**2*n_e / beta**2 * (np.log(2*_m_e*(c*beta*gamma)**2*T_e_max / I**2) - 2*beta**2)\n",
    "    return S_col / rho\n",
    "\n",
    "fig = gl.Figure(\n",
    "    log_scale_x=True,\n",
    "    x_label=\"$T$ [MeV]\",\n",
    "    y_label=r\"Arrêt collisionnel massique $\\frac{S_{col}}{\\rho}$ [MeV cm$^2$ g$^{-1}$]\"\n",
    ")\n",
    "fig.add_elements(gl.Curve.from_function(lambda T: calcul_S_col(T, n_eau, I_eau, rho_eau), 3, 250, label=\"Eau liquide\"))\n",
    "fig.add_elements(gl.Curve.from_function(lambda T: calcul_S_col(T, n_os, I_os, rho_os), 3, 250, label=\"Os compact\"))\n",
    "fig.show()\n"
   ]
  },
  {
   "cell_type": "markdown",
   "metadata": {},
   "source": [
    "## Portée des protons dans la matière\n",
    "\n",
    "### L’approximation d’une décélération continue (*Continuous Slowing Down Approximation*, CSDA) des protons dans la matière, en ligne droite, permet d’estimer leur portée dans le milieu considéré (la distance qu’ils peuvent parcourir avant d’avoir transféré au milieu la totalité de leur énergie cinétique initiale). Ici, seuls les transferts d’énergie vers les électrons du milieu sont considérés."
   ]
  },
  {
   "cell_type": "markdown",
   "metadata": {},
   "source": [
    "### 3- En quoi la seule considération des interactions des protons avec les électrons du milieu est-elle justifiée ? Appuyez votre réponse en comparant les contributions des interactions nucléaires (protons avec noyaux atomiques du milieu) et radiatives (pertes d’énergie par *Bremsstrahlung*) au pouvoir d’arrêt total sur la plage 3-250 MeV. Les données PSTAR et un graphique pourraient être utiles."
   ]
  },
  {
   "cell_type": "markdown",
   "metadata": {},
   "source": [
    "Les graphiques suivants, construits à partir des données PSTAR, montrent qu'entre 3 et 250 MeV, la contribution des interactions nucléaires au pouvoir d'arrêt collisionnel est plusieurs ordres de grandeur en dessous de celle du Bremsstrahlung. De fait, la contribution du Bremsstrahlung épouse presque parfaitement le pouvoir d'arrêt total. Il est donc possible de négliger les interactions nucléaires pour des protons se situant dans cet intervalle d'énergie et de ne considérer que les interactions radiatives."
   ]
  },
  {
   "cell_type": "code",
   "execution_count": null,
   "metadata": {},
   "outputs": [],
   "source": [
    "eau, os = 'devoirs/tp1/pstar_eau.csv', 'devoirs/tp1/pstar_os.csv'\n",
    "\n",
    "def portee(file):\n",
    "    donnees = pd.read_csv(file, sep=' ', index_col=False)\n",
    "    energy, bremss, nuclear, total = np.array(donnees['Kinetic']), np.array(donnees['Electron']), np.array(donnees['Nuclear']), np.array(donnees['Total'])\n",
    "    plt.plot(energy, bremss, 'g.', label = 'Bremsstrahlung')\n",
    "    plt.plot(energy, nuclear, 'b-.', label = 'Interactions nucléaires')\n",
    "    plt.plot(energy, total, 'r:', label = \"Pouvoir d'arrêt total\")\n",
    "    plt.xlabel('$T$ [MeV]')\n",
    "    plt.ylabel(r'$S_{col}/\\rho$ [MeV$\\cdot$cm$^2$/g]', rotation=90, labelpad=10)\n",
    "    plt.xscale('log')\n",
    "    plt.legend()\n",
    "\n",
    "    plt.show()\n",
    "    \n",
    "portee(eau)\n",
    "portee(os)"
   ]
  },
  {
   "cell_type": "code",
   "execution_count": null,
   "metadata": {},
   "outputs": [],
   "source": [
    "# Graphinglib version\n",
    "fichier_eau, fichier_os = 'devoirs/tp1/pstar_eau.csv', 'devoirs/tp1/pstar_os.csv'\n",
    "\n",
    "def portee(file):\n",
    "    donnees = pd.read_csv(file, sep=' ', index_col=False)\n",
    "    energy = np.array(donnees['Kinetic'])\n",
    "    bremss = np.array(donnees['Electron'])\n",
    "    nuclear = np.array(donnees['Nuclear'])\n",
    "    total = np.array(donnees['Total'])\n",
    "    \n",
    "    fig = gl.Figure(\n",
    "        log_scale_x=True,\n",
    "        x_label=\"$T$ [MeV]\",\n",
    "        y_label=r\"Arrêt collisionnel massique $\\frac{S_{col}}{\\rho}$ [MeV cm$^2$ g$^{-1}$]\"\n",
    "    )\n",
    "    fig.add_elements(\n",
    "        gl.Scatter(energy, bremss, face_color='g', label='Bremsstrahlung'),\n",
    "        gl.Curve(energy, nuclear, color='b', line_style='-.', label='Interactions nucléaires'),\n",
    "        gl.Curve(energy, total, color='tab:orange', line_style=':', label=\"Pouvoir d'arrêt total\")\n",
    "    )\n",
    "    fig.show()\n",
    "    \n",
    "portee(fichier_eau)\n",
    "portee(fichier_os)"
   ]
  },
  {
   "cell_type": "markdown",
   "metadata": {},
   "source": [
    "La portée par CSDA ($R_{CSDA}$) est obtenue en intégrant l’inverse du pouvoir d’arrêt total par\n",
    "rapport à l’énergie :\n",
    "\n",
    "$$R_{CSDA} = \\int_0^{T_i}\\frac{dT'}{S_{col}},$$"
   ]
  },
  {
   "cell_type": "markdown",
   "metadata": {},
   "source": [
    "### 4-  Pourquoi intègre-t-on l’inverse du pouvoir d’arrêt pour déterminer la portée ?"
   ]
  },
  {
   "cell_type": "markdown",
   "metadata": {},
   "source": [
    "Le pouvoir d'arrêt collisionnel est défini comme:\n",
    "\n",
    "$$ S_{col} = -\\left(\\frac{dT}{dx}\\right)_{col} $$\n",
    "\n",
    "Soit l'opposé de la variation d'énergie cinétique par unité de longueur. Ainsi, la portée peut être déterminée en intégrant l'élément de longueur $dx$ le long du parcours d'un proton :\n",
    "\n",
    "$$\\int_{x(T_i)}^{x(0)}dx = -\\int_{x(0)}^{x(T_i)} = \\int_0^{T_i}\\frac{dT'}{-(dT'/dx)_{col}}dx = \\int_0^{T_i}\\frac{dT'}{S_{col}} =  R_{CSDA}$$\n",
    "\n",
    "Ce qui correspond effectivement à la portée de la particule. L'intégration de l'inverse du pouvoir d'arrêt est donc due à la définition de $S_{col}$."
   ]
  },
  {
   "cell_type": "markdown",
   "metadata": {},
   "source": [
    "### 5- Justifiez la nécessité d’employer une méthode numérique pour calculer la portée des protons."
   ]
  },
  {
   "cell_type": "markdown",
   "metadata": {},
   "source": [
    "La portée des protons est obtenue en intégrant la fonction l'inverse du pouvoir d'arrêt collisionnel, soit\n",
    "\\begin{align*}\n",
    "\\frac1{S_{col}}&=\\left[\\frac{2\\pi r_e^2m_ec^2n_e}{\\beta^2}\\left(\\ln\\left(\\frac{2m_ec^2\\beta^2\\gamma^2T_e^{max}}{I^2}\\right)-2\\beta^2\\right)\\right]^{-1}\\\\\n",
    "&=\\left[U\\left(\\frac1{\\beta^2}\\ln\\left(\\frac{a\\beta^2\\gamma^2T_e^{max}}{I^2}\\right)-2\\right)\\right]^{-1}\n",
    "\\end{align*}\n",
    "Avec les équivalences connues, la dépendance en $T$ de cette expression peut être explicitée telle que\n",
    "\\begin{align*}\n",
    "\\frac1{S_{col}}&=\\left[U\\left(\\frac{1}{1-\\gamma^{-2}}\\ln\\left(\\frac{a(\\gamma^2-1)\\frac{a(\\gamma^2-1)}{b+\\delta\\gamma}}{I^2}\\right)-2\\right)\\right]^{-1}\\\\\n",
    "&=\\left[U\\left(\\frac{1}{1-\\gamma^{-2}}\\ln\\left(k\\frac{(\\gamma^2-1)^2}{b+\\delta\\gamma}\\right)-2\\right)\\right]^{-1}\\\\\n",
    "&=\\left[U\\left(\\frac{1}{1-\\left(\\frac T{m_pc^2}+1\\right)^{-2}}\\ln\\left(k\\frac{\\left(\\left(\\frac T{m_pc^2}+1\\right)^2-1\\right)^2}{b+\\delta\\left(\\frac T{m_pc^2}+1\\right)}\\right)-2\\right)\\right]^{-1}\\\\\n",
    "\\end{align*}\n",
    "Pour calculer la portée, il faut intégrer sur $T$ cette expression. Selon le principe « Dérive qui veut, intègre qui peut. », nous pouvons constater que l'intégration de cette expression analytiquement serait un défi... intéressant. L'intégration numérique est donc essentielle."
   ]
  },
  {
   "cell_type": "markdown",
   "metadata": {},
   "source": [
    "### 6- Implémenter deux algorithmes d’intégration numérique pour calculer la portée des protons dans l’eau et dans l’os compact ; le premier avec la méthode des trapèzes et le second avec la méthode de Romberg. Considérez des protons d’énergie initiale de 150 MeV à l’entrée du milieu. Estimez le nombre de tranches requises pour atteindre la précision machine avec chaque méthode, et discutez des conséquences sur le temps de calcul. Notez que comme l’expression 4 n’est valide que pour des protons ayant une énergie supérieure à 3 MeV, cette valeur sera utilisée comme borne d’intégration au lieu de 0. Le biais introduit dans les résultats par cette approximation ne vous sera pas reproché."
   ]
  },
  {
   "cell_type": "code",
   "execution_count": null,
   "metadata": {},
   "outputs": [],
   "source": [
    "# Méthode des trapèzes\n",
    "trapezes(3, 150, 100, 'eau')\n",
    "trapezes(3, 150, 100, 'os')\n",
    "\n",
    "# Recherche de la valeur de N permettant d'atteindre la précision machine\n",
    "# Utilisation du nesting et des résultats calculés à l'itération précédente\n",
    "def trapezes_N(a: float, b: float, milieu: str, N0: int=10, erreur_max: float=1e-16, erreur_machine=False):\n",
    "    \"\"\"Méthodes des trapèzes avec nesting\"\"\"\n",
    "    # Initialisation\n",
    "    n = N0\n",
    "    approx = 1\n",
    "    if erreur_machine:\n",
    "        erreur_max = 0\n",
    "\n",
    "    I_n = trapezes(a, b, n, milieu)\n",
    "    while approx > erreur_max:\n",
    "        # Nesting pour calculer I_2n\n",
    "        s = 0\n",
    "        h = (b-a)/(2*n)\n",
    "        for k in range(1, 2*n, 2):\n",
    "            s += f(a+k*h, milieu)\n",
    "        I_2n = 0.5*I_n+h*s\n",
    "        # Erreurs d'approximation et de représentation\n",
    "        approx = (I_2n-I_n)/3\n",
    "        if erreur_machine:\n",
    "            erreur_max = 10**(-16)*I_2n\n",
    "        #print(n, I_2n, approx, erreur_max)\n",
    "        # Préparation pour l'itération suivante\n",
    "        n *= 2\n",
    "        I_n = I_2n\n",
    "\n",
    "    return I_n, approx, n\n",
    "\n",
    "# trapezes_N(3, 150, 'eau')"
   ]
  },
  {
   "cell_type": "code",
   "execution_count": null,
   "metadata": {},
   "outputs": [],
   "source": [
    "def inverse_S_col(T: float | np.ndarray, n_e: float, I: float, rho: float) -> float | np.ndarray:\n",
    "    gamma = T / (_m_p*c**2) + 1\n",
    "    beta = np.sqrt((gamma**2 - 1) / gamma**2)\n",
    "    T_e_max = (2*_m_e*c**2 * (gamma**2 - 1)) / (1+(_m_e/_m_p)**2 + 2*_m_e/_m_p * gamma)\n",
    "    S_col = 2*np.pi*r_e**2*_m_e*c**2*n_e / beta**2 * (np.log(2*_m_e*(c*beta*gamma)**2*T_e_max / I**2) - 2*beta**2)\n",
    "    return 1 / S_col\n",
    "\n",
    "f_eau = lambda T: inverse_S_col(T, n_eau, I_eau, rho_eau)\n",
    "f_os = lambda T: inverse_S_col(T, n_os, I_os, rho_os)"
   ]
  },
  {
   "cell_type": "code",
   "execution_count": null,
   "metadata": {},
   "outputs": [],
   "source": [
    "def evaluer_avec_trapezes(\n",
    "        func: Callable,\n",
    "        a: float,\n",
    "        b: float,\n",
    "        N: int,\n",
    ") -> float:\n",
    "    h = (b-a) / N\n",
    "    y = func(np.linspace(a, b, N+1))\n",
    "    return h * (0.5*(y[0] + y[-1]) + y[1:-1].sum())\n",
    "\n",
    "def methode_des_trapezes(\n",
    "        func: Callable,\n",
    "        a: float,\n",
    "        b: float,\n",
    "        n0: int=10,\n",
    "        erreur_max: float=1e-15,\n",
    "        n_max: int=np.inf\n",
    ") -> tuple[float, float, int]:\n",
    "    \"\"\"\n",
    "    Cette fonction calcule une intégrale numérique de la fonction fournie sur l'intervalle [a, b]\n",
    "    en utilisant la méthode des trapèzes. Elle s'arrête lorsque l'erreur d'approximation est inférieure\n",
    "    à la valeur spécifiée par 'erreur_max' ou lorsque le nombre maximum de tranches est atteint.\n",
    "\n",
    "    Paramètres:\n",
    "    ----------\n",
    "    func : Callable\n",
    "        La fonction à intégrer.\n",
    "    a : float\n",
    "        Borne inférieure de l'intervalle d'intégration.\n",
    "    b : float\n",
    "        Borne supérieure de l'intervalle d'intégration.\n",
    "    n0 : int\n",
    "        Nombre initial de tranches. Par défaut, c'est 10.\n",
    "    erreur_max : float\n",
    "        Erreur d'approximation maximale tolérée. Par défaut, c'est 1e-15.\n",
    "    n_max : int \n",
    "        Nombre maximum de tranches. Par défaut, il n'y a pas de limite.\n",
    "\n",
    "    Retourne\n",
    "    --------\n",
    "    tuple[float, float, int]: La valeur de l'intégrale approximée, l'erreur d'approximation, et le nombre de tranches utilisées.\n",
    "    \"\"\"\n",
    "    n = n0\n",
    "    h = (b-a) / n\n",
    "\n",
    "    I_last = evaluer_avec_trapezes(func, a, b, n)\n",
    "\n",
    "    error = np.inf\n",
    "    while error > erreur_max and n < n_max:\n",
    "        n *= 2\n",
    "        h /= 2\n",
    "        I_new = 0.5 * I_last + h * func(np.linspace(a+h, b-h, n//2)).sum()\n",
    "        error = np.abs(I_new - I_last) / 3\n",
    "        I_last = I_new\n",
    "\n",
    "    return I_last, error, n\n",
    "\n",
    "# methode_des_trapezes(f_eau, 3, 150) \n",
    "methode_des_trapezes(f_os, 3, 150)"
   ]
  },
  {
   "cell_type": "code",
   "execution_count": null,
   "metadata": {},
   "outputs": [],
   "source": [
    "def methode_de_romberg(\n",
    "        func: Callable,\n",
    "        a: float,\n",
    "        b: float,\n",
    "        n0: int=10,\n",
    "        erreur_max: float=1e-16,\n",
    "        n_max: int=np.inf\n",
    "    ) -> tuple[float, float, int]:\n",
    "    \"\"\"\n",
    "    Calcul l'intégrale d'une fonction quelconque par la méthode de Romberg.\n",
    "\n",
    "    Paramètres\n",
    "    ----------\n",
    "    func : Callable\n",
    "        Fonction à intégrer.\n",
    "    a : float\n",
    "        Borne d'intégration inférieure.\n",
    "    b : float\n",
    "        Borne d'intégration suppérieure.\n",
    "    n0 :int\n",
    "        Nombre de tranches utilisés pour la première itération.\n",
    "    err_max : float\n",
    "        Erreur maximale acceptée pour la précision machine.\n",
    "    n_max : int\n",
    "        Nombre maximum de tranches pour arrêter la récursion.\n",
    "\n",
    "    Retourne\n",
    "    --------\n",
    "    tuple[float, float, int]: La valeur de l'intégrale approximée, l'erreur d'approximation, et le nombre de tranches utilisées.\n",
    "    \"\"\"\n",
    "    n = n0\n",
    "\n",
    "    erreur = np.inf\n",
    "    R = [[evaluer_avec_trapezes(func, a, b, n)]]\n",
    "    \n",
    "    i = 0\n",
    "    while erreur > erreur_max and n < n_max:\n",
    "        i += 1\n",
    "        n *= 2\n",
    "        R_i = [evaluer_avec_trapezes(func, a, b, n)]\n",
    "\n",
    "        for m in range(1, i+1):\n",
    "            R_i.append(1/(4**m - 1) * (4**m * R_i[m-1] - R[i-1][m-1]))\n",
    "\n",
    "        erreur = np.abs(R_i[-1] - R[-1][-1])\n",
    "        R.append(R_i)\n",
    "    return R[-1][-1], erreur, n\n",
    "\n",
    "# methode_de_romberg(f_eau, 3, 150)\n",
    "methode_de_romberg(f_os, 3, 150)"
   ]
  },
  {
   "cell_type": "code",
   "execution_count": null,
   "metadata": {},
   "outputs": [],
   "source": [
    "# Romberg\n",
    "def romberg(a: float, b: float, milieu: str, N0: int=10, erreur_max: float=1e-16, erreur_machine=False, n_max=np.inf):\n",
    "    \"\"\"\"\"\"\n",
    "    # Initialisation des différents paramètres\n",
    "    n = N0\n",
    "    erreur = 1\n",
    "    if erreur_machine:\n",
    "        erreur_max = 0\n",
    "\n",
    "    # Initialisation de la liste de listes contenant les résultats\n",
    "    R_11 = trapezes(a, b, n, milieu)\n",
    "    R = [[R_11]]\n",
    "\n",
    "    i = 2\n",
    "    while erreur > erreur_max and n < n_max:\n",
    "        R_i = []\n",
    "        # Nesting pour calculer R_2n\n",
    "        h = (b - a) / (2*n)\n",
    "        s = 0\n",
    "        for k in range(1, 2*n, 2):\n",
    "            s += f(a + k*h, milieu)\n",
    "        R_i.append(0.5*R[-1][0] + h*s)\n",
    "\n",
    "        # Calcul de R gratuits\n",
    "        for m in range(2, i+1):\n",
    "            erreur = 1/(4**m - 1) * (R_i[-1] - R[-1][m - 2]) # Erreur d'approximation de R_i[-1]\n",
    "            R_nouveau = R_i[-1] + erreur\n",
    "            R_i.append(R_nouveau)\n",
    "\n",
    "        # Erreur machine\n",
    "        if erreur_machine:\n",
    "            erreur_max = 1e-16 * R_i[-2] # Erreur machine de l'ancien R_i[-1], maintenant R_i[-2]\n",
    "\n",
    "        # Préparation pour l'itération suivante\n",
    "        R.append(R_i)\n",
    "        i += 1\n",
    "        n *= 2\n",
    "    return (R[-1][-2], erreur, n)\n",
    "\n",
    "romberg(3, 150, 'os', erreur_machine=False)"
   ]
  },
  {
   "cell_type": "markdown",
   "metadata": {},
   "source": [
    "### 7- Tracez un graphique de la portée calculée par chaque méthode en fonction du nombre d’échantillons (de tranches) considéré. Le même graphique rapportera l’estimation pratique de l’erreur d’approximation pour les deux méthodes (avec une échelle différente en ordonnée). Votre graphique comprendra des points choisis de façon à bien représenter le comportement de vos algorithmes (des échelles logarithmiques pourraient être nécessaires). Doubler le nombre de tranches entre chaque évaluation pourrait s’avérer judicieux.\n"
   ]
  },
  {
   "cell_type": "code",
   "execution_count": null,
   "metadata": {},
   "outputs": [],
   "source": [
    "fig = gl.Figure(x_label=\"Nombre de tranches [-]\", y_label=\"Portée calculée [cm]\", log_scale_x=True)\n",
    "axe_erreur = fig.create_twin_axis(is_y=True, label=\"Erreur d'approximation [cm]\", log_scale=True)\n",
    "valeurs_max_n = np.logspace(0, 23, 24, base=2)[1:]\n",
    "donnees_trapezes = np.array(\n",
    "    [[n_max, *methode_des_trapezes(f_eau, 3, 150, n0=1, n_max=n_max, erreur_max=0)[:2]] for n_max in valeurs_max_n]\n",
    ")\n",
    "donnees_romberg = np.array(\n",
    "    [[n_max, *methode_de_romberg(f_eau, 3, 150, n0=1, n_max=n_max, erreur_max=0)[:2]] for n_max in valeurs_max_n]\n",
    ")\n",
    "\n",
    "fig.add_elements(\n",
    "    gl.Curve(donnees_trapezes[:,0], donnees_trapezes[:,1], label=\"Trapèzes\", line_width=1),\n",
    "    gl.Curve(donnees_romberg[:,0], donnees_romberg[:,1], label=\"Romberg\", line_width=1),\n",
    ")\n",
    "axe_erreur.add_elements(\n",
    "    gl.Curve(donnees_trapezes[:,0], donnees_trapezes[:,2], line_style=\"--\", line_width=1),\n",
    "    gl.Curve(donnees_romberg[:,0], donnees_romberg[:,2], line_style=\"--\", line_width=1),\n",
    ")\n",
    "fig.show()"
   ]
  },
  {
   "cell_type": "markdown",
   "metadata": {},
   "source": [
    "## Estimation analytique de l'erreur\n",
    "\n",
    "### Pour la méthode des trapèzes, obtenez la valeur de l’erreur sur la portée calculée à l’ordre le plus grand. À cette fin, il faut connaître la dérivée première de la fonction à intégrer (qui est l’inverse du pouvoir d’arrêt)."
   ]
  },
  {
   "cell_type": "markdown",
   "metadata": {},
   "source": [
    "### 8- Établir l’expression analytique de la dérivée du pouvoir d’arrêt en fonction de $T$. Cette première étape vous permettra de calculer la dérivée de l’inverse du pouvoir d’arrêt plus facilement ensuite. Pour vous aider, vous pouvez exprimer le pouvoir d’arrêt en fonction de $\\gamma$ et utiliser le théorème de dérivation des fonctions composées. Utilisez aussi les définitions suivantes pour simplifier la notation :\n",
    "\n",
    "$$\n",
    "\\begin{align*}\n",
    "T_e^{max} = \\frac{a(\\gamma^2-1)}{b+\\delta\\gamma}, \\quad \\text{avec} \\quad a = 2m_ec^2, \\quad b = 1+(\\frac{m_e}{m_p})^2 \\quad \\text{et} \\quad \\delta = 2\\frac{m_e}{m_p}\n",
    "\\end{align*}\n",
    "$$\n",
    "\n",
    "### et\n",
    "\n",
    "$$\n",
    "\\begin{align*}\n",
    "U &= 2\\pi r_e^2m_ec^2n_e \\\\\n",
    "k &= \\frac{a^2}{I^2}\n",
    "\\end{align*}\n",
    "$$\n",
    "\n",
    "### sachant aussi que\n",
    "\n",
    "$$\n",
    "\\begin{align*}\n",
    "T = (\\gamma-1)m_pc^2 \\rightarrow \\gamma = \\frac{T}{m_pc^2}+1 \\\\\n",
    "\\gamma = \\frac{1}{\\sqrt{1-\\beta^2}} \\rightarrow \\gamma^2\\beta^2 = \\gamma^2-1\n",
    "\\end{align*}\n",
    "$$"
   ]
  },
  {
   "cell_type": "markdown",
   "metadata": {},
   "source": [
    "La dérivée du pouvoir d'arrêt par rapport à $T$ se calcule comme suit: \n",
    "\n",
    "$$ \\frac{dS_{col}}{dT} = \\frac{dS_{col}}{d\\gamma}\\frac{d\\gamma}{dT} $$\n",
    "\n",
    "Exprimons d'abord $S_{col}$ en fonction de $\\gamma$ uniquement:\n",
    "\n",
    "$$ \n",
    "\\begin{align*}\n",
    "    S_{col} &= 2\\pi r_e^2m_ec^2n_e\\frac{1}{\\beta^2}\\left[\\ln\\left(\\frac{2m_ec^2\\beta^2\\gamma^2T_e^{max}}{I^2}\\right)-2\\beta^2\\right] \\\\ \n",
    "    &= \\frac{U}{\\beta^2}\\left[\\ln\\left(\\frac{a\\beta^2\\gamma^2\\cdot(\\gamma^2-1)}{I^2(b+\\delta\\gamma)}\\right)-2\\beta^2\\right] \\\\ \n",
    "    &= \\frac{U\\gamma^2}{\\gamma^2-1}\\ln\\left(\\frac{k(\\gamma^2-1)^2}{b+\\delta\\gamma}\\right)-2U\n",
    "\\end{align*}\n",
    "$$\n",
    "\n",
    "On dérive ensuite $S_{col}$ par rapport à $\\gamma$:\n",
    "\n",
    "$$ \n",
    "\\begin{align*}\n",
    "    \\frac{dS_{col}}{d\\gamma} &= \\left[\\frac{2U\\gamma}{\\gamma^2-1}-\\frac{2U\\gamma^3}{(\\gamma^2-1)^2}\\right]\\ln\\left(\\frac{k(\\gamma^2-1)^2}{b+\\delta\\gamma}\\right)+\\frac{U\\gamma^2}{\\gamma^2-1}\\left[\\frac{b+\\delta\\gamma}{k(\\gamma^2-1)^2}\\left(\\frac{4k\\gamma(\\gamma^2-1)}{b+\\delta\\gamma}-\\frac{k\\delta(\\gamma^2-1)^2}{(b+\\delta\\gamma)^2}\\right)\\right] \\\\\n",
    "    &= -\\frac{2U\\gamma}{(\\gamma^2-1)^2}\\ln\\left(\\frac{k(\\gamma^2-1)^2}{b+\\delta\\gamma}\\right)+\\frac{U\\gamma^2}{(\\gamma^2-1)^2}\\left[4\\gamma-\\frac{\\delta(\\gamma^2-1)}{b+\\delta\\gamma}\\right] \\\\\n",
    "    &= \\frac{U\\gamma}{(\\gamma^2-1)^2}\\left[4\\gamma^2-\\frac{\\delta\\gamma(\\gamma^2-1)}{b+\\delta\\gamma}-2\\ln\\left(\\frac{k(\\gamma^2-1)^2}{b+\\delta\\gamma}\\right)\\right] \n",
    "\\end{align*}\n",
    "$$\n",
    "\n",
    "Pour $\\frac{d\\gamma}{dT}$, nous avons:\n",
    "\n",
    "$$ \\gamma = \\frac{T}{m_pc^2}+1 \\longrightarrow \\frac{d\\gamma}{dT} = \\frac{1}{m_pc^2} $$\n",
    "\n",
    "Donc:\n",
    "\n",
    "$$ \n",
    "\\begin{align*}\n",
    "    \\frac{dS_{col}}{dT} &= \\frac{dS_{col}}{d\\gamma}\\frac{d\\gamma}{dT} \\\\\n",
    "    &= \\frac{U\\gamma}{m_pc^2(\\gamma^2-1)^2}\\left[4\\gamma^2-\\frac{\\delta\\gamma(\\gamma^2-1)}{b+\\delta\\gamma}-2\\ln\\left(\\frac{k(\\gamma^2-1)^2}{b+\\delta\\gamma}\\right)\\right] \\\\\n",
    "    \\text{où} \\quad \\gamma &= \\gamma(T) = \\frac{T}{m_pc^2}+1 \n",
    "\\end{align*}\n",
    "$$"
   ]
  },
  {
   "cell_type": "markdown",
   "metadata": {},
   "source": [
    "### 9- Rapportez vos portées calculées dans un tableau, qui comprendra aussi les erreurs d’approximation calculées (pour la méthode des trapèzes) et évaluées de façon pratique (pour la méthode des trapèzes et de Romberg). Il s’agit essentiellement des résultats déjà obtenus (auxquels on ajoute les erreurs calculées pour la méthode des trapèzes). Commentez vos résultats.\n"
   ]
  },
  {
   "cell_type": "markdown",
   "metadata": {},
   "source": [
    "Si on néglige les termes en $\\mathcal{O}(h^4)$ et plus, l'erreur d'approximation $\\epsilon$ de la méthode des trapèzes est\n",
    "\n",
    "$$ \\epsilon = \\frac{1}{12}h^2[f'(a)-f'(b)] $$\n",
    "\n",
    "et puisque la fonction à intégrer est $f(T) = \\frac{1}{S_{col}(T)}$, $f'(T)$ devient :\n",
    "\n",
    "$$ f'(T) = \\frac{-1}{S_{col}^2(T)}\\frac{dS_{col}}{dT} $$"
   ]
  },
  {
   "cell_type": "code",
   "execution_count": null,
   "metadata": {},
   "outputs": [],
   "source": [
    "def derivee(T, milieu):\n",
    "    # Propriétés du milieu\n",
    "    if milieu == 'eau':\n",
    "        n_e, I = n_eau, I_eau\n",
    "    if milieu == 'os':\n",
    "        n_e, I = n_os, I_os\n",
    "    # Calcul des variables et constantes\n",
    "    gamma = T / (mp * c**2) + 1\n",
    "    a = 2 * me * c**2\n",
    "    b = 1 + (me / mp)**2\n",
    "    delta = 2 * me / mp\n",
    "    U = np.pi * r_e**2 * a * n_e\n",
    "    k = a**2/I**2\n",
    "    # 4 facteurs/termes pour la dérivée\n",
    "    d1 = U * gamma / (mp * c**2 * (gamma**2 - 1)**2)\n",
    "    d2 = 4 * gamma**2\n",
    "    d3 = delta * gamma * (gamma**2 - 1) / (b + delta * gamma)\n",
    "    d4 = 2 * np.log(k * (gamma**2 - 1)**2 / (b + delta * gamma))\n",
    "    return d1 * (d2 - d3 - d4)\n",
    "\n",
    "def erreur_trapezes(a, b, N, milieu):\n",
    "    h = (b - a) / N\n",
    "    f_prime_a = - f(a, milieu)**2 * derivee(a, milieu)\n",
    "    f_prime_b = - f(b, milieu)**2 * derivee(b, milieu)\n",
    "    return h**2 / 12 * (f_prime_a - f_prime_b)\n",
    "\n",
    "# erreur_trapezes(3, 150, 83886080, 'eau')\n",
    "erreur_trapezes(3, 150, 20971520, 'os')"
   ]
  },
  {
   "cell_type": "markdown",
   "metadata": {},
   "source": [
    "$$\n",
    "\\begin{aligned}\n",
    "    & \\text {Tableau 1. Portées calculées et erreurs d'approximation théoriques et numériques correspondantes}\\\\\n",
    "    &\\begin{array}{cccccc}\n",
    "        \\hline\n",
    "        \\text{Milieu} & \\text{Portée calculée} & \\text{Portée calculée} & \\text{Erreur théorique} & \\text{Erreur numérique} & \\text{Erreur numérique} \\\\\n",
    "        & \\text{par trapèzes} & \\text{par Romberg} & & \\text{pour trapèzes} & \\text{pour Romberg} \\\\\n",
    "        \\text{-} & \\text{cm} & \\text{cm} & \\text{cm} & \\text{cm} & \\text{cm} \\\\\n",
    "        \\hline\n",
    "        \\text{Eau} & 15.752818650610234 & 15.752818650610228 & 3.342\\cdot10^{-16} & 0.0 & 0.0 \\\\\n",
    "        \\text{Os} & 9.159420322790425 & 9.159420322790428 & 3.151\\cdot10^{-15} & 5.921\\cdot10^{-16} & 0.0 \\\\\n",
    "        \\hline\n",
    "    \\end{array}\n",
    "\\end{aligned}\n",
    "$$\n",
    "\n",
    "Commentaires sur tableau ici !"
   ]
  },
  {
   "cell_type": "markdown",
   "metadata": {},
   "source": [
    "## Optimisation\n",
    "\n",
    "### Supposons maintenant que l’on cherche à réduire au maximum le temps de calcul, disons pour évaluer en temps quasi-réel la portée de chaque proton individuel émanant de l’accélérateur et dont on connaîtrait précisément l’énergie. Ces protons ont une distribution en énergie pouvant être approximée par une distribution de Moyal, que vous pourrez générer avec `scipy.stats.moyal` avec les paramètres `loc=150, scale=4` (unités en MeV)."
   ]
  },
  {
   "cell_type": "markdown",
   "metadata": {},
   "source": [
    "### 10- . Utilisez ``moyal.rvs`` pour générer aléatoirement 10 000 énergies tirées de cette distribution et tracez-la (sous forme d’histogramme)."
   ]
  },
  {
   "cell_type": "code",
   "execution_count": null,
   "metadata": {},
   "outputs": [],
   "source": [
    "energy = moyal(loc=150, scale=4)\n",
    "distribution = energy.rvs(size=10000)\n",
    "\n",
    "fig = gl.Figure('Énergie [MeV]', 'Comptes [-]')\n",
    "fig.add_elements(gl.Histogram(distribution, number_of_bins=40, show_params=False, label='', normalize=False))\n",
    "fig.show()"
   ]
  },
  {
   "cell_type": "markdown",
   "metadata": {},
   "source": [
    "### 11- À l’aide du module ``timeit``, estimez le nombre de protons que vous pouvez calculer par seconde selon trois méthodes : vos implémentations des méthodes par trapèzes et Romberg ainsi que la fonction ``scipy.integrate.quad``. Utilisez les 10 000 valeurs d’énergie générées plus haut pour faire vos tests. Afin de comparer des pommes avec des pommes, vos calculs doivent tous atteindre la précision par défaut de la routine ``scipy.integrate.quad``."
   ]
  },
  {
   "cell_type": "code",
   "execution_count": null,
   "metadata": {},
   "outputs": [],
   "source": [
    "erreur_scipy = 1.49e-8\n",
    "test = \"for proton in distribution: sp.integrate.quad(f_os, 3, proton)\"\n",
    "\n",
    "time = timeit.timeit(test, globals=globals(), number=1)\n",
    "print('scipy.integrate.quad :', len(distribution)/time, 'protons/s')"
   ]
  },
  {
   "cell_type": "code",
   "execution_count": null,
   "metadata": {},
   "outputs": [],
   "source": [
    "# test = \"for i, proton in enumerate(distribution): romberg(3, proton, 'os', erreur_max=erreur_scipy[i])\"\n",
    "test = \"for proton in distribution: methode_de_romberg(f_os, 3, proton, erreur_max=erreur_scipy)\"\n",
    "\n",
    "time = timeit.timeit(test, globals=globals(), number=1)\n",
    "print('Méthode de Romberg :', len(distribution)/time, 'protons/s') "
   ]
  },
  {
   "cell_type": "code",
   "execution_count": null,
   "metadata": {},
   "outputs": [],
   "source": [
    "# test = \"for i, proton in enumerate(distribution[:100]): trapezes_N(3, proton, 'os', erreur_max=erreur_scipy[i])\"\n",
    "test = \"for proton in distribution: methode_des_trapezes(f_os, 3, proton, erreur_max=erreur_scipy)\"\n",
    "\n",
    "time = timeit.timeit(test, globals=globals(), number=1)\n",
    "print('Méthode des trapèzes :', len(distribution)/time, 'protons/s')"
   ]
  },
  {
   "cell_type": "markdown",
   "metadata": {},
   "source": [
    "### 12- Faites aussi un histogramme des portées obtenues pour ces 10 000 protons et commentez la distribution obtenue (peut-être en faisant référence au théorème central limite ?)"
   ]
  },
  {
   "cell_type": "code",
   "execution_count": null,
   "metadata": {},
   "outputs": [],
   "source": [
    "portees = []\n",
    "for proton in distribution: portees.append(sp.integrate.quad(f, 3, proton)[0])\n",
    "\n",
    "fig = gl.Figure('Portée [cm]', 'Comptes [-]')\n",
    "fig.add_elements(gl.Histogram(portees, number_of_bins=40, show_params=False, label='', normalize=False))\n",
    "fig.show()"
   ]
  },
  {
   "cell_type": "markdown",
   "metadata": {},
   "source": [
    "On remarque que la distribution obtenue présente une forme similaire à celle de l'énergie. Conformément au théorème central limite, pour un grand nombre d'échantillons aléatoires, la distribution converge vers la distribution théorique."
   ]
  },
  {
   "cell_type": "markdown",
   "metadata": {},
   "source": [
    "## Énergie déposée\n",
    "\n",
    "### Il est possible de calculer l’énergie déposée pour un pas de déplacement du proton $s$ dans un milieu comme suit :\n",
    "\n",
    "$$\n",
    "\\begin{align*}\n",
    "s = \\int_{T_f}^{T_i}\\frac{dT'}{S_{col}}\n",
    "\\end{align*}\n",
    "$$\n",
    "\n",
    "### où $T_i$ et $T_f$ sont les énergies cinétiques respectivement avant et après que le proton ait subi une perte d’énergie dans l’épaisseur $s$ du matériau."
   ]
  },
  {
   "cell_type": "markdown",
   "metadata": {},
   "source": [
    "### 13- Écrivez un algorithme capable de réaliser le transport des protons subissant une décélération continue dans le milieu et tracez le dépôt d’énergie en fonction de la profondeur pour l’eau et l’os pour des protons d’énergie cinétique 150 MeV (faisceau monoénergétique). Votre courbe comportera un point où l’énergie déposée est nulle. La position de ce point est-elle conforme à vos résultats antérieurs sur la portée ? Qu’est-ce qui influence sa valeur ?\n"
   ]
  },
  {
   "cell_type": "markdown",
   "metadata": {},
   "source": [
    "$$-\\left(\\frac{dT}{dx}\\right)_{col}=S_{col}=f(T)$$\n",
    "\n",
    "\\begin{align*}\n",
    "    dx&=-\\frac{dT}{S_{col}}\\\\\n",
    "\\end{align*}"
   ]
  },
  {
   "cell_type": "code",
   "execution_count": null,
   "metadata": {},
   "outputs": [],
   "source": [
    "donnees_eau = []\n",
    "donnees_os = []\n",
    "T_i = 150\n",
    "T_f = np.linspace(0, 150, 500)\n",
    "for T_f_i in T_f:\n",
    "    donnees_eau.append([sp.integrate.quad(f_eau, T_f_i, T_i)[0], T_f_i])\n",
    "    donnees_os.append([sp.integrate.quad(f_os, T_f_i, T_i)[0], T_f_i])\n",
    "\n",
    "donnees = np.stack([donnees_eau, donnees_os], axis=0)\n",
    "\n",
    "\n",
    "fig = gl.Figure(y_label=\"Énergie déposée [MeV]\", x_label=\"Profondeur [cm]\")\n",
    "fig.add_elements(\n",
    "    gl.Curve(donnees[0,:,0], donnees[0,:,1], label=\"Eau liquide\"),\n",
    "    gl.Curve(donnees[1,:,0], donnees[1,:,1], label=\"Os compact\")\n",
    ")\n",
    "fig.show()"
   ]
  },
  {
   "cell_type": "code",
   "execution_count": null,
   "metadata": {},
   "outputs": [],
   "source": [
    "T = np.linspace(0, 150, 500)\n",
    "\n",
    "fig = gl.Figure(y_label=\"Pouvoir d'arrêt [MeV cm$^{-1}$]\", x_label=\"Profondeur [cm]\")\n",
    "fig.add_elements(\n",
    "    gl.Curve(T, 1/f_eau(T), label=\"Eau liquide\"),\n",
    "    gl.Curve(T, 1/f_os(T), label=\"Os compact\")\n",
    ")\n",
    "fig.show()"
   ]
  },
  {
   "cell_type": "markdown",
   "metadata": {},
   "source": [
    "### 14- On nomme cette courbe le pic de Bragg. En déduire l’intérêt des protons pour la radiothérapie."
   ]
  },
  {
   "cell_type": "markdown",
   "metadata": {},
   "source": [
    "La courbe de Bragg représente la perte d'énergie de la radiation ionisante au cours de son parcours à travers la matière. "
   ]
  },
  {
   "cell_type": "markdown",
   "metadata": {},
   "source": [
    "### 15- Selon vous, est-il nécessaire de calculer les portées jusqu’à la précision machine en protonthérapie ? Pourquoi ?\n"
   ]
  },
  {
   "cell_type": "markdown",
   "metadata": {},
   "source": []
  },
  {
   "cell_type": "markdown",
   "metadata": {},
   "source": [
    "### 16- En quoi les protons sont-ils préférables aux photons pour traiter un mélanome oculaire ?"
   ]
  },
  {
   "cell_type": "markdown",
   "metadata": {},
   "source": []
  },
  {
   "cell_type": "markdown",
   "metadata": {},
   "source": [
    "### 17- Dans l’approche développée ici, les protons vont essentiellement en ligne droite dans la matière. Est-ce réaliste ? Que devra-t-on éventuellement ajouter à notre modèle ?\n"
   ]
  },
  {
   "cell_type": "markdown",
   "metadata": {},
   "source": []
  }
 ],
 "metadata": {
  "kernelspec": {
   "display_name": "base",
   "language": "python",
   "name": "python3"
  },
  "language_info": {
   "codemirror_mode": {
    "name": "ipython",
    "version": 3
   },
   "file_extension": ".py",
   "mimetype": "text/x-python",
   "name": "python",
   "nbconvert_exporter": "python",
   "pygments_lexer": "ipython3",
   "version": "3.12.2"
  }
 },
 "nbformat": 4,
 "nbformat_minor": 2
}
