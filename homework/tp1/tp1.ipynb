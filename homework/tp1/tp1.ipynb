{
 "cells": [
  {
   "cell_type": "markdown",
   "metadata": {},
   "source": [
    "# TP 1: Parcours des protons dans la matière"
   ]
  },
  {
   "cell_type": "code",
   "execution_count": null,
   "metadata": {},
   "outputs": [],
   "source": [
    "import numpy as np\n",
    "import scipy as sp\n",
    "import graphinglib as gl\n",
    "\n",
    "from scipy.constants import N_A"
   ]
  },
  {
   "cell_type": "code",
   "execution_count": null,
   "metadata": {},
   "outputs": [],
   "source": [
    "# Définition de fonctions et classes utiles\n",
    "\n",
    "def densite_electronique(matiere, rho):\n",
    "    n_e = 0\n",
    "    for x in matiere:\n",
    "        n_e += x[0]*x[1]/x[2]\n",
    "    return rho*n_e*N_A"
   ]
  },
  {
   "cell_type": "markdown",
   "metadata": {},
   "source": [
    "## Questions:"
   ]
  },
  {
   "cell_type": "markdown",
   "metadata": {},
   "source": [
    "### 1- Exprimez la densit ́e  ́electronique ne d’un milieu en fonction de sa composition atomique et de sa masse volumique ρ, et calculer ne pour l’eau (liquide) et l’os compact (d ́efinition de l’ICRU). On s’appuiera sur les donn ́ees du NIST pour les compositions atomiques de ces mat ́eriaux."
   ]
  },
  {
   "cell_type": "markdown",
   "metadata": {},
   "source": [
    "La cellule suivante donne les numéros atomiques, la fraction massique et la masse molaire des éléments composant l'eau et l'os compact, de même que la masse volumique de ces deux substances. La fonction densite_electronique reçoit en argument la composition chimique d'une matière et sa masse volumique en g/cm $^3$ et retourne sa densité électronique en électrons par cm $^3$."
   ]
  },
  {
   "cell_type": "code",
   "execution_count": null,
   "metadata": {},
   "outputs": [],
   "source": [
    "# Numéros atomiques, composition atomique et masse molaire\n",
    "eau = [(1, 0.111894, 1.008), (8, 0.888106, 15.999)]\n",
    "os_compact = [(1, 0.063984, 1.008), (6, 0.278000, 12.011), (7, 0.027000, 14.007), (8, 0.410016, 15.999),\n",
    "              (12, 0.002000, 24.305), (15, 0.070000, 30.974), (16, 0.002000, 32.06), (20, 0.147000, 40.078)]\n",
    "\n",
    "# Masses volumiques\n",
    "rho_eau = 1.00000\n",
    "rho_os_compact = 1.85000"
   ]
  },
  {
   "cell_type": "markdown",
   "metadata": {},
   "source": [
    "### 2- Tracez les courbes du pouvoir d’arrêt collisionnel massique pour ces milieux en fonction de l’énergie cinétique (T). Pour expliciter la dépendance en T de $S_{col}$, utilisez les relations 9 et 10 ci-bas. Pour le graphique, utilisez une échelle logarithmique en abscisse. Vous trouverez les énergies moyennes d’excitation I de ces matériaux sur le site du NIST également."
   ]
  },
  {
   "cell_type": "markdown",
   "metadata": {},
   "source": []
  }
 ],
 "metadata": {
  "language_info": {
   "name": "python"
  }
 },
 "nbformat": 4,
 "nbformat_minor": 2
}
