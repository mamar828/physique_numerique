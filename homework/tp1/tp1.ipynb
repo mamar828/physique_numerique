{
 "cells": [
  {
   "cell_type": "markdown",
   "metadata": {},
   "source": [
    "La cellule suivante donne les numéros atomiques, la fraction massique et la masse molaire des éléments composant l'eau et l'os compact, de même que la masse volumique de ces deux substances. La fonction densite_electronique reçoit en argument la composition chimique d'une matière et sa masse volumique en g/cm$^3$ et retourne sa densité électronique en électrons par cm$^3$."
   ]
  },
  {
   "cell_type": "code",
   "execution_count": 2,
   "metadata": {},
   "outputs": [],
   "source": [
    "import scipy.constants as sp\n",
    "\n",
    "\n",
    "# Numéros atomiques, composition atomique et masse molaire\n",
    "eau = [(1, 0.111894, 1.008), (8, 0.888106, 15.999)]\n",
    "os_compact = [(1, 0.063984, 1.008), (6, 0.278000, 12.011), (7, 0.027000, 14.007), (8, 0.410016, 15.999),\n",
    "              (12, 0.002000, 24.305), (15, 0.070000, 30.974), (16, 0.002000, 32.06), (20, 0.147000, 40.078)]\n",
    "\n",
    "# Masses volumiques\n",
    "rho_eau = 1.00000\n",
    "rho_os_compact = 1.85000\n",
    "\n",
    "def densite_electronique(matiere, rho):\n",
    "    n_e = 0\n",
    "    for x in matiere:\n",
    "        n_e += x[0]*x[1]/x[2]\n",
    "    return rho*n_e*sp.N_A"
   ]
  }
 ],
 "metadata": {
  "kernelspec": {
   "display_name": "Python 3",
   "language": "python",
   "name": "python3"
  },
  "language_info": {
   "codemirror_mode": {
    "name": "ipython",
    "version": 3
   },
   "file_extension": ".py",
   "mimetype": "text/x-python",
   "name": "python",
   "nbconvert_exporter": "python",
   "pygments_lexer": "ipython3",
   "version": "3.8.10"
  }
 },
 "nbformat": 4,
 "nbformat_minor": 2
}
