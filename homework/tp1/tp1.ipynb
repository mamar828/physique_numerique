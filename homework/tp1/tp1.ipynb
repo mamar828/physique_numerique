{
 "cells": [
  {
   "cell_type": "markdown",
   "metadata": {},
   "source": [
    "# TP 1: Parcours des protons dans la matière"
   ]
  },
  {
   "cell_type": "markdown",
   "metadata": {},
   "source": [
    "### Par Mathieu Marquis, Charles-Antoine Parent et Thomas Piuze"
   ]
  },
  {
   "cell_type": "code",
   "execution_count": null,
   "metadata": {},
   "outputs": [],
   "source": [
    "import numpy as np\n",
    "import scipy as sp\n",
    "import graphinglib as gl\n",
    "import matplotlib.pyplot as plt\n",
    "\n",
    "from scipy.constants import N_A, c, m_e, m_p, e\n",
    "from scipy.stats import moyal"
   ]
  },
  {
   "cell_type": "code",
   "execution_count": null,
   "metadata": {},
   "outputs": [],
   "source": [
    "# Définition de fonctions et classes utiles\n",
    "\n",
    "def f(T, milieu):\n",
    "    return 1/pouvoir_collisionnel(T, milieu)\n",
    "\n",
    "def trapezes(a, b, N, milieu):\n",
    "    h = (b-a)/N\n",
    "    R = 0.5*f(a, milieu)+0.5*f(b, milieu)\n",
    "    for k in range(1, N):\n",
    "        R += f(a+k*h, milieu)\n",
    "    return h*R\n"
   ]
  },
  {
   "cell_type": "markdown",
   "metadata": {},
   "source": [
    "## Questions:"
   ]
  },
  {
   "cell_type": "markdown",
   "metadata": {},
   "source": [
    "### 1- Exprimez la densité électronique $n_e$ d’un milieu en fonction de sa composition atomique et de sa masse volumique $\\rho$, et calculer $n_e$ pour l’eau (liquide) et l’os compact (définition de l’ICRU). On s’appuiera sur les données du NIST pour les compositions atomiques de ces matériaux."
   ]
  },
  {
   "cell_type": "markdown",
   "metadata": {},
   "source": [
    "La contribution à la densité électronique d'une molécule pour chaque atome $i$ est donnée par\n",
    "$$n_e^{(i)}=\\rho A^{(i)}\\frac{N_e^{(i)}N_A}{M^{(i)}}$$\n",
    "où\n",
    "$\\rho$ : masse volumique de la molécule,\n",
    "$A^{(i)}$ : abondance massique de l'élément $i$,\n",
    "$N_e^{(i)}$ : nombre d'électrons par atome de l'élément $i$,\n",
    "$N_A$ : nombre d'Avogadro,\n",
    "$M^{(i)}$ : masse molaire de l'élément $i$.\n",
    "\n",
    "Ainsi, la densité électronique d'une molécule avec $N$ atomes distincts correspond à\n",
    "$$n_e=\\rho N_A\\sum_{i=1}^N\\frac{A^{(i)}N_e^{(i)}}{M^{(i)}}$$\n"
   ]
  },
  {
   "cell_type": "markdown",
   "metadata": {},
   "source": [
    "La cellule suivante donne les numéros atomiques, la fraction massique et la masse molaire des éléments composant l'eau et l'os compact, de même que la masse volumique de ces deux substances. Elle fait ensuite appel à la fonction `densite_electronique` pour obtenir la densité électronique de l'eau et de l'os compact. La fonction `densite_electronique` reçoit en argument la composition chimique d'une matière et sa masse volumique en g/cm $^3$ et retourne sa densité électronique en électrons par cm $^3$."
   ]
  },
  {
   "cell_type": "code",
   "execution_count": null,
   "metadata": {},
   "outputs": [],
   "source": [
    "def densite_electronique(composition: np.ndarray, rho: float) -> float:\n",
    "    \"\"\"\n",
    "    Retourne la densité électroniques en électrons par centimètre carré.\n",
    "\n",
    "    Paramètres\n",
    "    ----------\n",
    "    composition : np.array\n",
    "        Array où chaque ligne représente le numéro atomique, la composition atomique du milieu\n",
    "        (en fraction de 1) et la masse molaire de chaque éléments composant le milieu.\n",
    "    rho : float\n",
    "        Densité du milieu en gramme par mole.\n",
    "    \"\"\"\n",
    "    assert composition[:,1].sum() == 1, \"l'abondance chimique de tous les éléments devrait être sommée à 1.\"\n",
    "    return rho * N_A * np.sum(composition[:,1] * composition[:,0] / composition[:,2], axis=0)\n",
    "\n",
    "# Numéros atomiques, composition atomique et masse molaire\n",
    "composition_eau = np.array([\n",
    "    [1, 0.111894, 1.008],\n",
    "    [8, 0.888106, 15.999]\n",
    "])\n",
    "composition_os = np.array([\n",
    "    [1, 0.063984, 1.008], \n",
    "    [6, 0.278000, 12.011], \n",
    "    [7, 0.027000, 14.007], \n",
    "    [8, 0.410016, 15.999],\n",
    "    [12, 0.002000, 24.305], \n",
    "    [15, 0.070000, 30.974], \n",
    "    [16, 0.002000, 32.06], \n",
    "    [20, 0.147000, 40.078]\n",
    "])\n",
    "\n",
    "# Masses volumiques en g/cm^3\n",
    "rho_eau = 1.00000\n",
    "rho_os = 1.85000\n",
    "\n",
    "# Densités électroniques en électrons/cm^3\n",
    "n_eau = densite_electronique(composition_eau, rho_eau)\n",
    "n_os = densite_electronique(composition_os, rho_os)\n",
    "print(\"Densité électronique de l'eau :\", n_eau)\n",
    "print(\"Densité électronique le l'os compact :\", n_os)"
   ]
  },
  {
   "cell_type": "markdown",
   "metadata": {},
   "source": [
    "### 2- Tracez les courbes du pouvoir d’arrêt collisionnel massique pour ces milieux en fonction de l’énergie cinétique ($T$). Pour expliciter la dépendance en $T$ de $S_{col}$, utilisez les relations 9 et 10 ci-bas. Pour le graphique, utilisez une échelle logarithmique en abscisse. Vous trouverez les énergies moyennes d’excitation $I$ de ces matériaux sur le site du NIST également."
   ]
  },
  {
   "cell_type": "markdown",
   "metadata": {},
   "source": [
    "La cellule suivante définit d'abord quelques constantes importantes, de même que les énergies moyennes d'excitation de l'eau liquide et de l'os compact. Elle fait ensuite appel à la fonction `pouvoir_collisionnel` pour tracer les courbes du pouvoir d'arrêt collisionnel massique. La fonction `pouvoir_collisionnel` reçoit en argument l'énergie cinétique du proton (MeV), la densité électronique du milieu (électrons/cm $^3$), l'énergie moyenne d'excitation du milieu (MeV) et la masse volumique du milieu (g/cm $^3$). Elle retourne le pouvoir d'arrêt collisionnel massique si `massique is True`, et le pouvoir d'arrêt collisionnel standard sinon."
   ]
  },
  {
   "cell_type": "code",
   "execution_count": null,
   "metadata": {},
   "outputs": [],
   "source": [
    "# Constantes importantes\n",
    "mp = m_p/(10**6*e) # En MeV/c^2\n",
    "me = m_e/(10**6*e) # En MeV/c^2\n",
    "r_e = 10**2*sp.constants.value('classical electron radius') # En cm\n",
    "\n",
    "# Énergies d'excitation en MeV\n",
    "I_eau = 75.000000e-6\n",
    "I_os = 91.900000e-6\n",
    "\n",
    "def pouvoir_collisionnel(T: np.ndarray, milieu: str, massique: bool=False) -> np.ndarray:\n",
    "    \"\"\"\n",
    "    Retourne le pouvoir collisionnel en fonction de l'énergie cinétique pour un milieu.\n",
    "\n",
    "    Paramètres\n",
    "    ----------\n",
    "    T : np.array\n",
    "        Énergie cinétique en MeV.\n",
    "    milieu : str, = 'eau' | 'os'\n",
    "        Milieu dans lequel faire le calcul.\n",
    "    massique : bool, default=False\n",
    "        Retourne le pouvoir collisionnel massique si True.\n",
    "    \"\"\"\n",
    "    if milieu == 'eau':\n",
    "        n_e, I, rho = n_eau, I_eau, rho_eau\n",
    "    elif milieu == 'os':\n",
    "        n_e, I, rho = n_os, I_os, rho_os\n",
    "    else:\n",
    "        raise ValueError(\"milieu doit être 'eau' or 'os'\")\n",
    "    gamma = T / (mp * c**2) + 1\n",
    "    beta = ((gamma**2 - 1) / gamma**2)**0.5\n",
    "    a = 2 * me * c**2\n",
    "    b = 1 + (me/mp)**2\n",
    "    delta = 2*me/mp\n",
    "    Tmax = a * (gamma**2 - 1) / (b + delta*gamma)\n",
    "    U = np.pi * r_e**2 * a * n_e\n",
    "    k = a**2/I**2\n",
    "    S = (U / beta**2) * (np.log(k * beta**2 * gamma**2 * Tmax/a) - 2 * beta**2)\n",
    "    if massique:\n",
    "        S /= rho\n",
    "    return S\n",
    "\n",
    "# Graphique\n",
    "Tgraph = np.linspace(3, 250, 1000) # En MeV\n",
    "plt.plot(Tgraph, pouvoir_collisionnel(Tgraph, 'eau', massique=True), label='Eau liquide')\n",
    "plt.plot(Tgraph, pouvoir_collisionnel(Tgraph, 'os', massique=True), label='Os compact')\n",
    "plt.xlabel('$T$ [MeV]')\n",
    "plt.ylabel(r'$S_{col}/\\rho$ [MeV$\\cdot$g/cm$^2$]', rotation=90, labelpad=10)\n",
    "plt.xscale('log')\n",
    "plt.legend()\n",
    "plt.show()"
   ]
  },
  {
   "cell_type": "code",
   "execution_count": null,
   "metadata": {},
   "outputs": [],
   "source": [
    "# GraphingLib version !\n",
    "\n",
    "r_e = 10**2*sp.constants.value(\"classical electron radius\") # En cm\n",
    "_m_e = sp.constants.value(\"electron mass energy equivalent in MeV\") / c**2\n",
    "_m_p = sp.constants.value(\"proton mass energy equivalent in MeV\") / c**2\n",
    "I_eau = 75.000000e-6\n",
    "I_os = 91.900000e-6\n",
    "\n",
    "def get_S_col(T: float | np.ndarray, n_e: float, I: float, rho: float) -> float | np.ndarray:\n",
    "    gamma = T / (_m_p*c**2) + 1\n",
    "    beta = np.sqrt((gamma**2 - 1) / gamma**2)\n",
    "    T_e_max = (2*_m_e*c**2 * (gamma**2 - 1)) / (1+(_m_e/_m_p)**2 + 2*_m_e/_m_p * gamma)\n",
    "    S_col = 2*np.pi*r_e**2*_m_e*c**2*n_e / beta**2 * (np.log(2*_m_e*(c*beta*gamma)**2*T_e_max / I**2) - 2*beta**2)\n",
    "    return S_col / rho\n",
    "\n",
    "fig = gl.Figure(\n",
    "    log_scale_x=True,\n",
    "    x_label=\"$T$ [MeV]\",\n",
    "    y_label=r\"Arrêt collisionnel massique $\\frac{S_{col}}{\\rho}$ [MeV cm$^2$ g$^{-1}$]\"\n",
    ")\n",
    "fig.add_elements(gl.Curve.from_function(lambda T: get_S_col(T, n_eau, I_eau, rho_eau), 3, 250, label=\"Eau liquide\"))\n",
    "fig.add_elements(gl.Curve.from_function(lambda T: get_S_col(T, n_os, I_os, rho_os), 3, 250, label=\"Os compact\"))\n",
    "fig.show()\n"
   ]
  },
  {
   "cell_type": "markdown",
   "metadata": {},
   "source": [
    "## Portée des protons dans la matière"
   ]
  },
  {
   "cell_type": "markdown",
   "metadata": {},
   "source": [
    "L’approximation d’une décélération continue (*Continuous Slowing Down Approximation*, CSDA)\n",
    "des protons dans la matière, en ligne droite, permet d’estimer leur portée dans le milieu\n",
    "considéré (la distance qu’ils peuvent parcourir avant d’avoir transféré au milieu la totalité\n",
    "de leur énergie cinétique initiale). Ici, seuls les transferts d’énergie vers les électrons du milieu\n",
    "sont considérés."
   ]
  },
  {
   "cell_type": "markdown",
   "metadata": {},
   "source": [
    "### 3- En quoi la seule considération des interactions des protons avec les électrons du milieu est-elle justifiée ? Appuyez votre réponse en comparant les contributions des interactions nucléaires (protons avec noyaux atomiques du milieu) et radiatives (pertes d’énergie par *Bremsstrahlung*) au pouvoir d’arrêt total sur la plage 3-250 MeV. Les données PSTAR et un graphique pourraient être utiles."
   ]
  },
  {
   "cell_type": "markdown",
   "metadata": {},
   "source": [
    "La portée par CSDA ($R_{CSDA}$) est obtenue en intégrant l’inverse du pouvoir d’arrêt total par\n",
    "rapport à l’énergie :\n",
    "\n",
    "$$R_{CSDA} = \\int_0^{T_i}\\frac{dT'}{S_{col}},$$"
   ]
  },
  {
   "cell_type": "markdown",
   "metadata": {},
   "source": [
    "### 4-  Pourquoi intègre-t-on l’inverse du pouvoir d’arrêt pour déterminer la portée ?"
   ]
  },
  {
   "cell_type": "markdown",
   "metadata": {},
   "source": [
    "Le pouvoir d'arrêt collisionnel est défini comme:\n",
    "\n",
    "$$ S_{col} = -\\left(\\frac{dT}{dx}\\right)_{col} $$\n",
    "\n",
    "Soit l'opposé de la variation d'énergie cinétique par unité de longueur. Ainsi:\n",
    "\n",
    "$$ R_{CSDA} = \\int_0^{T_i}\\frac{dT'}{S_{col}} = \\int_0^{T_i}\\frac{dT'}{-(dT'/dx)_{col}} = -\\int_{x(0)}^{x(T_i)}dx = \\int_{x(T_i)}^{x(0)}dx $$\n",
    "\n",
    "Ce qui correspond effectivement à la portée de la particule. L'intégration de l'inverse du pouvoir d'arrêt est donc due à la définition de ce dernier."
   ]
  },
  {
   "cell_type": "markdown",
   "metadata": {},
   "source": [
    "### 5- Justifiez la nécessité d’employer une méthode numérique pour calculer la portée des protons."
   ]
  },
  {
   "cell_type": "markdown",
   "metadata": {},
   "source": [
    "### 6- Implémenter deux algorithmes d’intégration numérique pour calculer la portée des protons dans l’eau et dans l’os compact ; le premier avec la méthode des trapèzes et le second avec la méthode de Romberg. Considérez des protons d’énergie initiale de 150 MeV à l’entrée du milieu. Estimez le nombre de tranches requises pour atteindre la précision machine avec chaque méthode, et discutez des conséquences sur le temps de calcul. Notez que comme l’expression 4 n’est valide que pour des protons ayant une énergie supérieure à 3 MeV, cette valeur sera utilisée comme borne d’intégration au lieu de 0. Le biais introduit dans les résultats par cette approximation ne vous sera pas reproché."
   ]
  },
  {
   "cell_type": "code",
   "execution_count": null,
   "metadata": {},
   "outputs": [],
   "source": [
    "# Méthode des trapèzes\n",
    "trapezes(3, 150, 100, 'eau')\n",
    "trapezes(3, 150, 100, 'os')\n",
    "\n",
    "# Recherche de la valeur de N permettant d'atteindre la précision machine\n",
    "# Utilisation du nesting et des résultats calculés à l'itération précédente\n",
    "def N(a, b, milieu, N0 = 10):\n",
    "    # Initialisation\n",
    "    n = N0\n",
    "    approx = 1\n",
    "    machine = 0\n",
    "    I_n = trapezes(a, b, n, milieu)\n",
    "    while approx > machine:\n",
    "        # Nesting pour calculer I_2n\n",
    "        s = 0\n",
    "        h = (b-a)/(2*n)\n",
    "        for k in range(1, 2*n, 2):\n",
    "            s += f(a+k*h, milieu)\n",
    "        I_2n = 0.5*I_n+h*s\n",
    "        # Erreurs d'approximation et de représentation\n",
    "        approx = (I_2n-I_n)/3\n",
    "        machine = 10**(-16)*I_2n\n",
    "        print(n, I_2n, approx, machine)\n",
    "        # Préparation pour l'itération suivante\n",
    "        n *= 2\n",
    "        I_n = I_2n\n",
    "    return n\n",
    "\n",
    "N(3, 150, 'eau')"
   ]
  },
  {
   "cell_type": "code",
   "execution_count": null,
   "metadata": {},
   "outputs": [],
   "source": [
    "# Romberg\n",
    "def Romberg(a, b, milieu, N0 = 10):\n",
    "    # Initialisation des différents paramètres\n",
    "    n = N0\n",
    "    i = 2\n",
    "    erreur = 1\n",
    "    machine = 0\n",
    "    # Initialisation de la liste de listes contenant les résultats\n",
    "    R_11 = trapezes(a, b, n, milieu)\n",
    "    R_1 = [R_11]\n",
    "    R = []\n",
    "    R.append(R_1)\n",
    "    while erreur > machine:\n",
    "        R_i = []\n",
    "        # Nesting pour calculer R_2n\n",
    "        s = 0\n",
    "        h = (b-a)/(2*n)\n",
    "        for k in range(1, 2*n, 2):\n",
    "            s += f(a+k*h, milieu)\n",
    "        R_2n = 0.5*R[-1][0]+h*s\n",
    "        R_i.append(R_2n)\n",
    "        # Calcul de R gratuits\n",
    "        for m in range(2, i+1):\n",
    "            erreur = 1/(4**m-1)*(R_i[-1]-R[-1][m-2]) # Erreur d'approximation de R_i[-1]\n",
    "            R_nouveau = R_i[-1]+erreur\n",
    "            R_i.append(R_nouveau)\n",
    "        # Erreur machine\n",
    "        machine = 10**(-16)*R_i[-2] # Erreur machine de l'ancien R_i[-1], maintenant R_i[-2]\n",
    "        # Préparation pour l'itération suivante\n",
    "        R.append(R_i)\n",
    "        i += 1\n",
    "        n *= 2\n",
    "    return (R[-1][-2], erreur, n)\n",
    "\n",
    "Romberg(3, 150, 'eau')"
   ]
  },
  {
   "cell_type": "markdown",
   "metadata": {},
   "source": [
    "### 7- Tracez un graphique de la portée calculée par chaque méthode en fonction du nombre d’échantillons (de tranches) considéré. Le même graphique rapportera l’estimation pratique de l’erreur d’approximation pour les deux méthodes (avec une échelle différente en ordonnée). Votre graphique comprendra des points choisis de façon à bien représenter le comportement de vos algorithmes (des échelles logarithmiques pourraient être nécessaires). Doubler le nombre de tranches entre chaque évaluation pourrait s’avérer judicieux.\n"
   ]
  },
  {
   "cell_type": "markdown",
   "metadata": {},
   "source": []
  },
  {
   "cell_type": "markdown",
   "metadata": {},
   "source": [
    "## Estimation analytique de l'erreur"
   ]
  },
  {
   "cell_type": "markdown",
   "metadata": {},
   "source": [
    "### Pour la méthode des trapèzes, obtenez la valeur de l’erreur sur la portée calculée à l’ordre le plus grand. À cette fin, il faut connaître la dérivée première de la fonction à intégrer (qui est l’inverse du pouvoir d’arrêt).\n"
   ]
  },
  {
   "cell_type": "markdown",
   "metadata": {},
   "source": [
    "### 8- Établir l’expression analytique de la dérivée du pouvoir d’arrêt en fonction de $T$. Cette première étape vous permettra de calculer la dérivée de l’inverse du pouvoir d’arrêt plus facilement ensuite. Pour vous aider, vous pouvez exprimer le pouvoir d’arrêt en fonction de $\\gamma$ et utiliser le théorème de dérivation des fonctions composées. Utilisez aussi les définitions suivantes pour simplifier la notation :\n",
    "\n",
    "$$\n",
    "\\begin{align*}\n",
    "T_e^{max} = \\frac{a(\\gamma^2-1)}{b+\\delta\\gamma}, \\quad \\text{avec} \\quad a = 2m_ec^2, \\quad b = 1+(\\frac{m_e}{m_p})^2 \\quad \\text{et} \\quad \\delta = 2\\frac{m_e}{m_p}\n",
    "\\end{align*}\n",
    "$$\n",
    "\n",
    "### et\n",
    "\n",
    "$$\n",
    "\\begin{align*}\n",
    "U &= 2\\pi r_e^2m_ec^2n_e \\\\\n",
    "k &= \\frac{a^2}{I^2}\n",
    "\\end{align*}\n",
    "$$\n",
    "\n",
    "### sachant aussi que\n",
    "\n",
    "$$\n",
    "\\begin{align*}\n",
    "T = (\\gamma-1)m_pc^2 \\rightarrow \\gamma = \\frac{T}{m_pc^2}+1 \\\\\n",
    "\\gamma = \\frac{1}{\\sqrt{1-\\beta^2}} \\rightarrow \\gamma^2\\beta^2 = \\gamma^2-1\n",
    "\\end{align*}\n",
    "$$"
   ]
  },
  {
   "cell_type": "markdown",
   "metadata": {},
   "source": [
    "La dérivée du pouvoir d'arrêt par rapport à $T$ se calcule comme suit: \n",
    "\n",
    "$$ \\frac{dS_{col}}{dT} = \\frac{dS_{col}}{d\\gamma}\\frac{d\\gamma}{dT} $$\n",
    "\n",
    "Exprimons d'abord $S_{col}$ en fonction de $\\gamma$ uniquement:\n",
    "\n",
    "$$ \n",
    "\\begin{align*}\n",
    "    S_{col} &= 2\\pi r_e^2m_ec^2n_e\\frac{1}{\\beta^2}\\left[\\ln\\left(\\frac{2m_ec^2\\beta^2\\gamma^2T_e^{max}}{I^2}\\right)-2\\beta^2\\right] \\\\ \n",
    "    &= \\frac{U}{\\beta^2}\\left[\\ln\\left(\\frac{a\\beta^2\\gamma^2\\cdot(\\gamma^2-1)}{I^2(b+\\delta\\gamma)}\\right)-2\\beta^2\\right] \\\\ \n",
    "    &= \\frac{U\\gamma^2}{\\gamma^2-1}\\ln\\left(\\frac{k(\\gamma^2-1)^2}{b+\\delta\\gamma}\\right)-2U\n",
    "\\end{align*}\n",
    "$$\n",
    "\n",
    "On dérive ensuite $S_{col}$ par rapport à $\\gamma$:\n",
    "\n",
    "$$ \n",
    "\\begin{align*}\n",
    "    \\frac{dS_{col}}{d\\gamma} &= \\left[\\frac{2U\\gamma}{\\gamma^2-1}-\\frac{2U\\gamma^3}{(\\gamma^2-1)^2}\\right]\\ln\\left(\\frac{k(\\gamma^2-1)^2}{b+\\delta\\gamma}\\right)+\\frac{U\\gamma^2}{\\gamma^2-1}\\left[\\frac{b+\\delta\\gamma}{k(\\gamma^2-1)^2}\\left(\\frac{4k\\gamma(\\gamma^2-1)}{b+\\delta\\gamma}-\\frac{k\\delta(\\gamma^2-1)^2}{(b+\\delta\\gamma)^2}\\right)\\right] \\\\\n",
    "    &= -\\frac{2U\\gamma}{(\\gamma^2-1)^2}\\ln\\left(\\frac{k(\\gamma^2-1)^2}{b+\\delta\\gamma}\\right)+\\frac{U\\gamma^2}{(\\gamma^2-1)^2}\\left[4\\gamma-\\frac{\\delta(\\gamma^2-1)}{b+\\delta\\gamma}\\right] \\\\\n",
    "    &= \\frac{U\\gamma}{(\\gamma^2-1)^2}\\left[4\\gamma^2-\\frac{\\delta\\gamma(\\gamma^2-1)}{b+\\delta\\gamma}-2\\ln\\left(\\frac{k(\\gamma^2-1)^2}{b+\\delta\\gamma}\\right)\\right] \n",
    "\\end{align*}\n",
    "$$\n",
    "\n",
    "Pour $\\frac{d\\gamma}{dT}$, nous avons:\n",
    "\n",
    "$$ \\gamma = \\frac{T}{m_pc^2}+1 \\longrightarrow \\frac{d\\gamma}{dT} = \\frac{1}{m_pc^2} $$\n",
    "\n",
    "Donc:\n",
    "\n",
    "$$ \n",
    "\\begin{align*}\n",
    "    \\frac{dS_{col}}{dT} &= \\frac{dS_{col}}{d\\gamma}\\frac{d\\gamma}{dT} \\\\\n",
    "    &= \\frac{U\\gamma}{m_pc^2(\\gamma^2-1)^2}\\left[4\\gamma^2-\\frac{\\delta\\gamma(\\gamma^2-1)}{b+\\delta\\gamma}-2\\ln\\left(\\frac{k(\\gamma^2-1)^2}{b+\\delta\\gamma}\\right)\\right] \\\\\n",
    "    \\text{où} \\quad \\gamma &= \\gamma(T) = \\frac{T}{m_pc^2}+1 \n",
    "\\end{align*}\n",
    "$$"
   ]
  },
  {
   "cell_type": "markdown",
   "metadata": {},
   "source": [
    "### 9- Rapportez vos portées calculées dans un tableau, qui comprendra aussi les erreurs d’approximation calculées (pour la méthode des trapèzes) et évaluées de façon pratique (pour la méthode des trapèzes et de Romberg). Il s’agit essentiellement des résultats déjà obtenus (auxquels on ajoute les erreurs calculées pour la méthode des trapèzes). Commentez vos résultats.\n"
   ]
  },
  {
   "cell_type": "markdown",
   "metadata": {},
   "source": [
    "Si on néglige les termes en $\\mathcal{O}(h^4)$ et plus, l'erreur d'approximation $\\epsilon$ de la méthode des trapèzes est:\n",
    "\n",
    "$$ \\epsilon = \\frac{1}{12}h^2[f'(a)-f'(b)] $$\n",
    "\n",
    "Et puisque la fonction à intégrer est $f(T) = \\frac{1}{S_{col}(T)}$, $f'(T)$ devient:\n",
    "\n",
    "$$ f'(T) = \\frac{-1}{S_{col}^2(T)}\\frac{dS_{col}}{dT} $$"
   ]
  },
  {
   "cell_type": "code",
   "execution_count": null,
   "metadata": {},
   "outputs": [],
   "source": [
    "def derivee(T, milieu):\n",
    "    # Propriétés du milieu\n",
    "    if milieu == 'eau':\n",
    "        n_e, I, rho = n_eau, I_eau, rho_eau\n",
    "    if milieu == 'os':\n",
    "        n_e, I, rho = n_os, I_os, rho_os\n",
    "    # Calcul des variables et constantes\n",
    "    gamma = T/(mp*c**2)+1\n",
    "    a = 2*me*c**2\n",
    "    b = 1+(me/mp)**2\n",
    "    delta = 2*me/mp\n",
    "    U = np.pi*r_e**2*a*n_e\n",
    "    k = a**2/I**2\n",
    "    # 4 facteurs/termes pour la dérivée\n",
    "    d1 = U*gamma/(mp*c**2*(gamma**2-1)**2)\n",
    "    d2 = 4*gamma**2\n",
    "    d3 = delta*gamma*(gamma**2-1)/(b+delta*gamma)\n",
    "    d4 = 2*np.log(k*(gamma**2-1)**2/(b+delta*gamma))\n",
    "    return d1*(d2-d3-d4)\n",
    "\n",
    "def erreur_trapezes(a, b, N, milieu):\n",
    "    h = (b-a)/N\n",
    "    f_prime_a = -f(a, milieu)**2*derivee(a, milieu)\n",
    "    f_prime_b = -f(b, milieu)**2*derivee(b, milieu)\n",
    "    return h**2/12*(f_prime_a-f_prime_b)\n",
    "\n",
    "erreur_trapezes(3, 150, 10, 'eau')"
   ]
  },
  {
   "cell_type": "markdown",
   "metadata": {},
   "source": [
    "## Optimisation"
   ]
  },
  {
   "cell_type": "markdown",
   "metadata": {},
   "source": [
    "### Supposons maintenant que l’on cherche à réduire au maximum le temps de calcul, disons pour évaluer en temps quasi-réel la portée de chaque proton individuel émanant de l’accélérateur et dont on connaîtrait précisément l’énergie. Ces protons ont une distribution en énergie pouvant être approximée par une distribution de Moyal, que vous pourrez générer avec `scipy.stats.moyal` avec les paramètres `loc=150, scale=4` (unités en MeV)."
   ]
  },
  {
   "cell_type": "markdown",
   "metadata": {},
   "source": [
    "### 10- . Utilisez ``moyal.rvs`` pour générer aléatoirement 10 000 énergies tirées de cette distribution et tracez-la (sous forme d’histogramme)."
   ]
  },
  {
   "cell_type": "code",
   "execution_count": null,
   "metadata": {},
   "outputs": [],
   "source": [
    "energy = moyal(loc=150, scale=4)\n",
    "distribution = energy.rvs(size=10000)\n",
    "\n",
    "fig = gl.Figure('Énergie [MeV]', 'Compte [-]')\n",
    "fig.add_elements(gl.Histogram(distribution, number_of_bins=40, show_params=False))\n",
    "fig.show()"
   ]
  },
  {
   "cell_type": "markdown",
   "metadata": {},
   "source": [
    "### 11- À l’aide du module ``timeit``, estimez le nombre de protons que vous pouvez calculer par seconde selon trois méthodes : vos implémentations des méthodes par trapèzes et Romberg ainsi que la fonction ``scipy.integrate.quad``. Utilisez les 10 000 valeurs d’énergie générées plus haut pour faire vos tests. Afin de comparer des pommes avec des pommes, vos calculs doivent tous atteindre la précision par défaut de la routine ``scipy.integrate.quad``."
   ]
  },
  {
   "cell_type": "code",
   "execution_count": null,
   "metadata": {},
   "outputs": [],
   "source": []
  },
  {
   "cell_type": "markdown",
   "metadata": {},
   "source": [
    "### 12- Faites aussi un histogramme des portées obtenues pour ces 10 000 protons et commentez la distribution obtenue (peut-être en faisant référence au théorème central limite ?)"
   ]
  },
  {
   "cell_type": "markdown",
   "metadata": {},
   "source": [
    "## Énergie déposée"
   ]
  },
  {
   "cell_type": "markdown",
   "metadata": {},
   "source": [
    "### Il est possible de calculer l’énergie déposée pour un pas de déplacement du proton $s$ dans un milieu comme suit :\n",
    "\n",
    "$$\n",
    "\\begin{align*}\n",
    "s = \\int_{T_f}^{T_i}\\frac{dT'}{S_{col}}\n",
    "\\end{align*}\n",
    "$$\n",
    "\n",
    "### où $T_i$ et $T_f$ sont les énergies cinétiques respectivement avant et après que le proton ait subi une perte d’énergie dans l’épaisseur $s$ du matériau."
   ]
  },
  {
   "cell_type": "markdown",
   "metadata": {},
   "source": [
    "### 13- Écrivez un algorithme capable de réaliser le transport des protons subissant une décélération continue dans le milieu et tracez le dépôt d’énergie en fonction de la profondeur pour l’eau et l’os pour des proton d’énergie cinétique 150 MeV (faisceau monoénergétique). Votre courbe comportera un point où l’énergie déposée est nulle. La position de ce point est-elle conforme à vos résultats antérieurs sur la portée ? Qu’est-ce qui influence sa valeur ?\n"
   ]
  },
  {
   "cell_type": "code",
   "execution_count": null,
   "metadata": {},
   "outputs": [],
   "source": []
  },
  {
   "cell_type": "markdown",
   "metadata": {},
   "source": [
    "### 14- On nomme cette courbe le pic de Bragg. En déduire l’intérêt des protons pour la radiothérapie."
   ]
  },
  {
   "cell_type": "markdown",
   "metadata": {},
   "source": [
    "### 15- Selon vous, est-il nécessaire de calculer les portées jusqu’à la précision machine en protonthérapie ? Pourquoi ?\n"
   ]
  },
  {
   "cell_type": "markdown",
   "metadata": {},
   "source": [
    "### 16- En quoi les protons sont-ils préférables aux photons pour traiter un mélanome oculaire ?"
   ]
  },
  {
   "cell_type": "markdown",
   "metadata": {},
   "source": [
    "### 17- Dans l’approche développée ici, les protons vont essentiellement en ligne droite dans la matière. Est-ce réaliste ? Que devra-t-on éventuellement ajouter à notre modèle ?\n"
   ]
  }
 ],
 "metadata": {
  "kernelspec": {
   "display_name": "base",
   "language": "python",
   "name": "python3"
  },
  "language_info": {
   "codemirror_mode": {
    "name": "ipython",
    "version": 3
   },
   "file_extension": ".py",
   "mimetype": "text/x-python",
   "name": "python",
   "nbconvert_exporter": "python",
   "pygments_lexer": "ipython3",
   "version": "3.12.2"
  }
 },
 "nbformat": 4,
 "nbformat_minor": 2
}
