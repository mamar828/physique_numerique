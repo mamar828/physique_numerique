{
 "cells": [
  {
   "cell_type": "markdown",
   "metadata": {},
   "source": [
    "# TP 1: Parcours des protons dans la matière"
   ]
  },
  {
   "cell_type": "code",
   "execution_count": 1,
   "metadata": {},
   "outputs": [],
   "source": [
    "import numpy as np\n",
    "import scipy as sp\n",
    "#import graphinglib as gl\n",
    "import matplotlib.pyplot as plt\n",
    "\n",
    "from scipy.constants import N_A, c, m_e, m_p, e"
   ]
  },
  {
   "cell_type": "code",
   "execution_count": 2,
   "metadata": {},
   "outputs": [],
   "source": [
    "# Définition de fonctions et classes utiles\n",
    "\n",
    "def densite_electronique(matiere, rho):\n",
    "    n_e = 0\n",
    "    for x in matiere:\n",
    "        n_e += x[0]*x[1]/x[2]\n",
    "    return rho*n_e*N_A"
   ]
  },
  {
   "cell_type": "markdown",
   "metadata": {},
   "source": [
    "## Questions:"
   ]
  },
  {
   "cell_type": "markdown",
   "metadata": {},
   "source": [
    "### 1- Exprimez la densité électronique $n_e$ d’un milieu en fonction de sa composition atomique et de sa masse volumique $\\rho$, et calculer $n_e$ pour l’eau (liquide) et l’os compact (définition de l’ICRU). On s’appuiera sur les données du NIST pour les compositions atomiques de ces matériaux."
   ]
  },
  {
   "cell_type": "markdown",
   "metadata": {},
   "source": [
    "La cellule suivante donne les numéros atomiques, la fraction massique et la masse molaire des éléments composant l'eau et l'os compact, de même que la masse volumique de ces deux substances. La fonction densite_electronique reçoit en argument la composition chimique d'une matière et sa masse volumique en g/cm $^3$ et retourne sa densité électronique en électrons par cm $^3$."
   ]
  },
  {
   "cell_type": "code",
   "execution_count": 3,
   "metadata": {},
   "outputs": [],
   "source": [
    "# Numéros atomiques, composition atomique et masse molaire\n",
    "eau = [(1, 0.111894, 1.008), (8, 0.888106, 15.999)]\n",
    "os_compact = [(1, 0.063984, 1.008), (6, 0.278000, 12.011), (7, 0.027000, 14.007), (8, 0.410016, 15.999),\n",
    "              (12, 0.002000, 24.305), (15, 0.070000, 30.974), (16, 0.002000, 32.06), (20, 0.147000, 40.078)]\n",
    "\n",
    "# Masses volumiques en g/cm^3\n",
    "rho_eau = 1.00000\n",
    "rho_os_compact = 1.85000\n",
    "\n",
    "# Densités électroniques en électrons/cm^3\n",
    "n_eau = densite_electronique(eau, rho_eau)\n",
    "n_os_compact = densite_electronique(os_compact, rho_os_compact)"
   ]
  },
  {
   "cell_type": "markdown",
   "metadata": {},
   "source": [
    "### 2- Tracez les courbes du pouvoir d’arrêt collisionnel massique pour ces milieux en fonction de l’énergie cinétique (T). Pour expliciter la dépendance en T de $S_{col}$, utilisez les relations 9 et 10 ci-bas. Pour le graphique, utilisez une échelle logarithmique en abscisse. Vous trouverez les énergies moyennes d’excitation I de ces matériaux sur le site du NIST également."
   ]
  },
  {
   "cell_type": "markdown",
   "metadata": {},
   "source": []
  },
  {
   "cell_type": "code",
   "execution_count": 4,
   "metadata": {},
   "outputs": [
    {
     "data": {
      "image/png": "[encoded data removed]",
      "text/plain": [
       "<Figure size 640x480 with 1 Axes>"
      ]
     },
     "metadata": {},
     "output_type": "display_data"
    }
   ],
   "source": [
    "# Constantes importantes\n",
    "mp = m_p/(10**6*e) # En MeV/c^2\n",
    "me = m_e/(10**6*e) # En MeV/c^2\n",
    "r_e = 10**2*sp.constants.value('classical electron radius') # En cm\n",
    "\n",
    "# Énergies d'excitation en MeV\n",
    "I_eau = 75.000000*10**(-6)\n",
    "I_os_compact = 91.900000*10**(-6)\n",
    "\n",
    "# Quantités importantes\n",
    "T = np.linspace(3, 250, 1000) # En MeV\n",
    "gamma = T/(mp*c**2)+1\n",
    "beta = ((gamma**2-1)/gamma**2)**0.5\n",
    "a = 2*me*c**2\n",
    "b = 1+(me/mp)**2\n",
    "delta = 2*me/mp\n",
    "Tmax = a*(gamma**2-1)/(b+delta*gamma)\n",
    "\n",
    "def pouvoir_collisionnel_massique(n_e, I, rho):\n",
    "    U = np.pi*r_e**2*a*n_e\n",
    "    k = a/I**2\n",
    "    S = (U/(beta**2*rho))*(np.log(k*beta**2*gamma**2*Tmax)-2*beta**2)\n",
    "    plt.plot(T, S)\n",
    "    plt.xlabel('T [MeV]')\n",
    "    plt.ylabel('S')\n",
    "    plt.xscale('log')\n",
    "    plt.show()\n",
    "\n",
    "pouvoir_collisionnel_massique(n_eau, I_eau, rho_eau)"
   ]
  }
 ],
 "metadata": {
  "kernelspec": {
   "display_name": "Python 3",
   "language": "python",
   "name": "python3"
  },
  "language_info": {
   "codemirror_mode": {
    "name": "ipython",
    "version": 3
   },
   "file_extension": ".py",
   "mimetype": "text/x-python",
   "name": "python",
   "nbconvert_exporter": "python",
   "pygments_lexer": "ipython3",
   "version": "3.8.10"
  }
 },
 "nbformat": 4,
 "nbformat_minor": 2
}
